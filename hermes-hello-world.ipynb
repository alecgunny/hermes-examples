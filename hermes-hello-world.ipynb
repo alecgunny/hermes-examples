{
 "cells": [
  {
   "cell_type": "markdown",
   "id": "20547327",
   "metadata": {},
   "source": [
    "# Inference-as-a-Service with `hermes`\n",
    "This is intended to serve as a brief overview as to how the `hermes` libraries might be used to accelerate an inference deployment as-a-service using NVIDIA's [Triton inference server](https://developer.nvidia.com/nvidia-triton-inference-server). We'll start by showing what a vanilla, suboptimal deployment might look like to introduce all the relevant concepts, then make things slightly more complex to show how to analyze and identify the bottlenecks in a deployment and remove them.\n",
    "\n",
    "As you can see from the `pyproject.toml`, all of the relevant `hermes` libraries are currently installed in this environment. In a production setting, you might consider breaking these up to keep environments more lightweight. For example, `hermes.quiver` might be installed in your training environment to export at train time, or might be installed in a dedicated export deployment if it involves more complex dependencies like TensorRT. Meanwhile, your inference environment might have `hermes.aeriel` and `hermes.stillwater` installed for deploying and monitoring an inference service. This is not critical to the discussion here, but worth bringing up to point out that the `hermes` libraries are not a monolith and are intended to be lightweight and composable.\n",
    "\n",
    "## Overview\n",
    "In this example, we'll begin by building a neural network, then exporting it from memory to disk in a format that Triton can use for serving it for inference. Obviously, in practice we'd like to train this network on some data between these steps, but since we're more interested here in the inference side, we'll pretend this training has been done elsewhere. For the sake of simplicity, we'll build a 1D convolutional network with a single output (which might be used for e.g. for binary classification).\n",
    "\n",
    "Once our model has been properly exported, we'll spin up a Triton inference service which will load the model and expose it for inference via gRPC requests. We'll then build some dummy inference data and iterate through it to build requests to send to our inference service, aggregating its responses into a timeseries of network outputs.\n",
    "\n",
    "We'll start with our imports. For the time being, we'll be using\n",
    "- `hermes.quiver` to handle exporting our model to a format usable by Triton\n",
    "- `hermes.aeriel.serve` to spin up an inference service locally using Python APIs\n",
    "- `hermes.aeriel.client` to make requests to that inference service"
   ]
  },
  {
   "cell_type": "code",
   "execution_count": 1,
   "id": "16f30017",
   "metadata": {},
   "outputs": [
    {
     "data": {
      "text/html": [
       "<div class=\"bk-root\">\n",
       "        <a href=\"https://bokeh.org\" target=\"_blank\" class=\"bk-logo bk-logo-small bk-logo-notebook\"></a>\n",
       "        <span id=\"1002\">Loading BokehJS ...</span>\n",
       "    </div>\n"
      ]
     },
     "metadata": {},
     "output_type": "display_data"
    },
    {
     "data": {
      "application/javascript": [
       "(function(root) {\n",
       "  function now() {\n",
       "    return new Date();\n",
       "  }\n",
       "\n",
       "  const force = true;\n",
       "\n",
       "  if (typeof root._bokeh_onload_callbacks === \"undefined\" || force === true) {\n",
       "    root._bokeh_onload_callbacks = [];\n",
       "    root._bokeh_is_loading = undefined;\n",
       "  }\n",
       "\n",
       "const JS_MIME_TYPE = 'application/javascript';\n",
       "  const HTML_MIME_TYPE = 'text/html';\n",
       "  const EXEC_MIME_TYPE = 'application/vnd.bokehjs_exec.v0+json';\n",
       "  const CLASS_NAME = 'output_bokeh rendered_html';\n",
       "\n",
       "  /**\n",
       "   * Render data to the DOM node\n",
       "   */\n",
       "  function render(props, node) {\n",
       "    const script = document.createElement(\"script\");\n",
       "    node.appendChild(script);\n",
       "  }\n",
       "\n",
       "  /**\n",
       "   * Handle when an output is cleared or removed\n",
       "   */\n",
       "  function handleClearOutput(event, handle) {\n",
       "    const cell = handle.cell;\n",
       "\n",
       "    const id = cell.output_area._bokeh_element_id;\n",
       "    const server_id = cell.output_area._bokeh_server_id;\n",
       "    // Clean up Bokeh references\n",
       "    if (id != null && id in Bokeh.index) {\n",
       "      Bokeh.index[id].model.document.clear();\n",
       "      delete Bokeh.index[id];\n",
       "    }\n",
       "\n",
       "    if (server_id !== undefined) {\n",
       "      // Clean up Bokeh references\n",
       "      const cmd_clean = \"from bokeh.io.state import curstate; print(curstate().uuid_to_server['\" + server_id + \"'].get_sessions()[0].document.roots[0]._id)\";\n",
       "      cell.notebook.kernel.execute(cmd_clean, {\n",
       "        iopub: {\n",
       "          output: function(msg) {\n",
       "            const id = msg.content.text.trim();\n",
       "            if (id in Bokeh.index) {\n",
       "              Bokeh.index[id].model.document.clear();\n",
       "              delete Bokeh.index[id];\n",
       "            }\n",
       "          }\n",
       "        }\n",
       "      });\n",
       "      // Destroy server and session\n",
       "      const cmd_destroy = \"import bokeh.io.notebook as ion; ion.destroy_server('\" + server_id + \"')\";\n",
       "      cell.notebook.kernel.execute(cmd_destroy);\n",
       "    }\n",
       "  }\n",
       "\n",
       "  /**\n",
       "   * Handle when a new output is added\n",
       "   */\n",
       "  function handleAddOutput(event, handle) {\n",
       "    const output_area = handle.output_area;\n",
       "    const output = handle.output;\n",
       "\n",
       "    // limit handleAddOutput to display_data with EXEC_MIME_TYPE content only\n",
       "    if ((output.output_type != \"display_data\") || (!Object.prototype.hasOwnProperty.call(output.data, EXEC_MIME_TYPE))) {\n",
       "      return\n",
       "    }\n",
       "\n",
       "    const toinsert = output_area.element.find(\".\" + CLASS_NAME.split(' ')[0]);\n",
       "\n",
       "    if (output.metadata[EXEC_MIME_TYPE][\"id\"] !== undefined) {\n",
       "      toinsert[toinsert.length - 1].firstChild.textContent = output.data[JS_MIME_TYPE];\n",
       "      // store reference to embed id on output_area\n",
       "      output_area._bokeh_element_id = output.metadata[EXEC_MIME_TYPE][\"id\"];\n",
       "    }\n",
       "    if (output.metadata[EXEC_MIME_TYPE][\"server_id\"] !== undefined) {\n",
       "      const bk_div = document.createElement(\"div\");\n",
       "      bk_div.innerHTML = output.data[HTML_MIME_TYPE];\n",
       "      const script_attrs = bk_div.children[0].attributes;\n",
       "      for (let i = 0; i < script_attrs.length; i++) {\n",
       "        toinsert[toinsert.length - 1].firstChild.setAttribute(script_attrs[i].name, script_attrs[i].value);\n",
       "        toinsert[toinsert.length - 1].firstChild.textContent = bk_div.children[0].textContent\n",
       "      }\n",
       "      // store reference to server id on output_area\n",
       "      output_area._bokeh_server_id = output.metadata[EXEC_MIME_TYPE][\"server_id\"];\n",
       "    }\n",
       "  }\n",
       "\n",
       "  function register_renderer(events, OutputArea) {\n",
       "\n",
       "    function append_mime(data, metadata, element) {\n",
       "      // create a DOM node to render to\n",
       "      const toinsert = this.create_output_subarea(\n",
       "        metadata,\n",
       "        CLASS_NAME,\n",
       "        EXEC_MIME_TYPE\n",
       "      );\n",
       "      this.keyboard_manager.register_events(toinsert);\n",
       "      // Render to node\n",
       "      const props = {data: data, metadata: metadata[EXEC_MIME_TYPE]};\n",
       "      render(props, toinsert[toinsert.length - 1]);\n",
       "      element.append(toinsert);\n",
       "      return toinsert\n",
       "    }\n",
       "\n",
       "    /* Handle when an output is cleared or removed */\n",
       "    events.on('clear_output.CodeCell', handleClearOutput);\n",
       "    events.on('delete.Cell', handleClearOutput);\n",
       "\n",
       "    /* Handle when a new output is added */\n",
       "    events.on('output_added.OutputArea', handleAddOutput);\n",
       "\n",
       "    /**\n",
       "     * Register the mime type and append_mime function with output_area\n",
       "     */\n",
       "    OutputArea.prototype.register_mime_type(EXEC_MIME_TYPE, append_mime, {\n",
       "      /* Is output safe? */\n",
       "      safe: true,\n",
       "      /* Index of renderer in `output_area.display_order` */\n",
       "      index: 0\n",
       "    });\n",
       "  }\n",
       "\n",
       "  // register the mime type if in Jupyter Notebook environment and previously unregistered\n",
       "  if (root.Jupyter !== undefined) {\n",
       "    const events = require('base/js/events');\n",
       "    const OutputArea = require('notebook/js/outputarea').OutputArea;\n",
       "\n",
       "    if (OutputArea.prototype.mime_types().indexOf(EXEC_MIME_TYPE) == -1) {\n",
       "      register_renderer(events, OutputArea);\n",
       "    }\n",
       "  }\n",
       "  if (typeof (root._bokeh_timeout) === \"undefined\" || force === true) {\n",
       "    root._bokeh_timeout = Date.now() + 5000;\n",
       "    root._bokeh_failed_load = false;\n",
       "  }\n",
       "\n",
       "  const NB_LOAD_WARNING = {'data': {'text/html':\n",
       "     \"<div style='background-color: #fdd'>\\n\"+\n",
       "     \"<p>\\n\"+\n",
       "     \"BokehJS does not appear to have successfully loaded. If loading BokehJS from CDN, this \\n\"+\n",
       "     \"may be due to a slow or bad network connection. Possible fixes:\\n\"+\n",
       "     \"</p>\\n\"+\n",
       "     \"<ul>\\n\"+\n",
       "     \"<li>re-rerun `output_notebook()` to attempt to load from CDN again, or</li>\\n\"+\n",
       "     \"<li>use INLINE resources instead, as so:</li>\\n\"+\n",
       "     \"</ul>\\n\"+\n",
       "     \"<code>\\n\"+\n",
       "     \"from bokeh.resources import INLINE\\n\"+\n",
       "     \"output_notebook(resources=INLINE)\\n\"+\n",
       "     \"</code>\\n\"+\n",
       "     \"</div>\"}};\n",
       "\n",
       "  function display_loaded() {\n",
       "    const el = document.getElementById(\"1002\");\n",
       "    if (el != null) {\n",
       "      el.textContent = \"BokehJS is loading...\";\n",
       "    }\n",
       "    if (root.Bokeh !== undefined) {\n",
       "      if (el != null) {\n",
       "        el.textContent = \"BokehJS \" + root.Bokeh.version + \" successfully loaded.\";\n",
       "      }\n",
       "    } else if (Date.now() < root._bokeh_timeout) {\n",
       "      setTimeout(display_loaded, 100)\n",
       "    }\n",
       "  }\n",
       "\n",
       "  function run_callbacks() {\n",
       "    try {\n",
       "      root._bokeh_onload_callbacks.forEach(function(callback) {\n",
       "        if (callback != null)\n",
       "          callback();\n",
       "      });\n",
       "    } finally {\n",
       "      delete root._bokeh_onload_callbacks\n",
       "    }\n",
       "    console.debug(\"Bokeh: all callbacks have finished\");\n",
       "  }\n",
       "\n",
       "  function load_libs(css_urls, js_urls, callback) {\n",
       "    if (css_urls == null) css_urls = [];\n",
       "    if (js_urls == null) js_urls = [];\n",
       "\n",
       "    root._bokeh_onload_callbacks.push(callback);\n",
       "    if (root._bokeh_is_loading > 0) {\n",
       "      console.debug(\"Bokeh: BokehJS is being loaded, scheduling callback at\", now());\n",
       "      return null;\n",
       "    }\n",
       "    if (js_urls == null || js_urls.length === 0) {\n",
       "      run_callbacks();\n",
       "      return null;\n",
       "    }\n",
       "    console.debug(\"Bokeh: BokehJS not loaded, scheduling load and callback at\", now());\n",
       "    root._bokeh_is_loading = css_urls.length + js_urls.length;\n",
       "\n",
       "    function on_load() {\n",
       "      root._bokeh_is_loading--;\n",
       "      if (root._bokeh_is_loading === 0) {\n",
       "        console.debug(\"Bokeh: all BokehJS libraries/stylesheets loaded\");\n",
       "        run_callbacks()\n",
       "      }\n",
       "    }\n",
       "\n",
       "    function on_error(url) {\n",
       "      console.error(\"failed to load \" + url);\n",
       "    }\n",
       "\n",
       "    for (let i = 0; i < css_urls.length; i++) {\n",
       "      const url = css_urls[i];\n",
       "      const element = document.createElement(\"link\");\n",
       "      element.onload = on_load;\n",
       "      element.onerror = on_error.bind(null, url);\n",
       "      element.rel = \"stylesheet\";\n",
       "      element.type = \"text/css\";\n",
       "      element.href = url;\n",
       "      console.debug(\"Bokeh: injecting link tag for BokehJS stylesheet: \", url);\n",
       "      document.body.appendChild(element);\n",
       "    }\n",
       "\n",
       "    for (let i = 0; i < js_urls.length; i++) {\n",
       "      const url = js_urls[i];\n",
       "      const element = document.createElement('script');\n",
       "      element.onload = on_load;\n",
       "      element.onerror = on_error.bind(null, url);\n",
       "      element.async = false;\n",
       "      element.src = url;\n",
       "      console.debug(\"Bokeh: injecting script tag for BokehJS library: \", url);\n",
       "      document.head.appendChild(element);\n",
       "    }\n",
       "  };\n",
       "\n",
       "  function inject_raw_css(css) {\n",
       "    const element = document.createElement(\"style\");\n",
       "    element.appendChild(document.createTextNode(css));\n",
       "    document.body.appendChild(element);\n",
       "  }\n",
       "\n",
       "  const js_urls = [\"https://cdn.bokeh.org/bokeh/release/bokeh-2.4.3.min.js\", \"https://cdn.bokeh.org/bokeh/release/bokeh-gl-2.4.3.min.js\", \"https://cdn.bokeh.org/bokeh/release/bokeh-widgets-2.4.3.min.js\", \"https://cdn.bokeh.org/bokeh/release/bokeh-tables-2.4.3.min.js\", \"https://cdn.bokeh.org/bokeh/release/bokeh-mathjax-2.4.3.min.js\"];\n",
       "  const css_urls = [];\n",
       "\n",
       "  const inline_js = [    function(Bokeh) {\n",
       "      Bokeh.set_log_level(\"info\");\n",
       "    },\n",
       "function(Bokeh) {\n",
       "    }\n",
       "  ];\n",
       "\n",
       "  function run_inline_js() {\n",
       "    if (root.Bokeh !== undefined || force === true) {\n",
       "          for (let i = 0; i < inline_js.length; i++) {\n",
       "      inline_js[i].call(root, root.Bokeh);\n",
       "    }\n",
       "if (force === true) {\n",
       "        display_loaded();\n",
       "      }} else if (Date.now() < root._bokeh_timeout) {\n",
       "      setTimeout(run_inline_js, 100);\n",
       "    } else if (!root._bokeh_failed_load) {\n",
       "      console.log(\"Bokeh: BokehJS failed to load within specified timeout.\");\n",
       "      root._bokeh_failed_load = true;\n",
       "    } else if (force !== true) {\n",
       "      const cell = $(document.getElementById(\"1002\")).parents('.cell').data().cell;\n",
       "      cell.output_area.append_execute_result(NB_LOAD_WARNING)\n",
       "    }\n",
       "  }\n",
       "\n",
       "  if (root._bokeh_is_loading === 0) {\n",
       "    console.debug(\"Bokeh: BokehJS loaded, going straight to plotting\");\n",
       "    run_inline_js();\n",
       "  } else {\n",
       "    load_libs(css_urls, js_urls, function() {\n",
       "      console.debug(\"Bokeh: BokehJS plotting callback run at\", now());\n",
       "      run_inline_js();\n",
       "    });\n",
       "  }\n",
       "}(window));"
      ],
      "application/vnd.bokehjs_load.v0+json": "(function(root) {\n  function now() {\n    return new Date();\n  }\n\n  const force = true;\n\n  if (typeof root._bokeh_onload_callbacks === \"undefined\" || force === true) {\n    root._bokeh_onload_callbacks = [];\n    root._bokeh_is_loading = undefined;\n  }\n\n\n  if (typeof (root._bokeh_timeout) === \"undefined\" || force === true) {\n    root._bokeh_timeout = Date.now() + 5000;\n    root._bokeh_failed_load = false;\n  }\n\n  const NB_LOAD_WARNING = {'data': {'text/html':\n     \"<div style='background-color: #fdd'>\\n\"+\n     \"<p>\\n\"+\n     \"BokehJS does not appear to have successfully loaded. If loading BokehJS from CDN, this \\n\"+\n     \"may be due to a slow or bad network connection. Possible fixes:\\n\"+\n     \"</p>\\n\"+\n     \"<ul>\\n\"+\n     \"<li>re-rerun `output_notebook()` to attempt to load from CDN again, or</li>\\n\"+\n     \"<li>use INLINE resources instead, as so:</li>\\n\"+\n     \"</ul>\\n\"+\n     \"<code>\\n\"+\n     \"from bokeh.resources import INLINE\\n\"+\n     \"output_notebook(resources=INLINE)\\n\"+\n     \"</code>\\n\"+\n     \"</div>\"}};\n\n  function display_loaded() {\n    const el = document.getElementById(\"1002\");\n    if (el != null) {\n      el.textContent = \"BokehJS is loading...\";\n    }\n    if (root.Bokeh !== undefined) {\n      if (el != null) {\n        el.textContent = \"BokehJS \" + root.Bokeh.version + \" successfully loaded.\";\n      }\n    } else if (Date.now() < root._bokeh_timeout) {\n      setTimeout(display_loaded, 100)\n    }\n  }\n\n  function run_callbacks() {\n    try {\n      root._bokeh_onload_callbacks.forEach(function(callback) {\n        if (callback != null)\n          callback();\n      });\n    } finally {\n      delete root._bokeh_onload_callbacks\n    }\n    console.debug(\"Bokeh: all callbacks have finished\");\n  }\n\n  function load_libs(css_urls, js_urls, callback) {\n    if (css_urls == null) css_urls = [];\n    if (js_urls == null) js_urls = [];\n\n    root._bokeh_onload_callbacks.push(callback);\n    if (root._bokeh_is_loading > 0) {\n      console.debug(\"Bokeh: BokehJS is being loaded, scheduling callback at\", now());\n      return null;\n    }\n    if (js_urls == null || js_urls.length === 0) {\n      run_callbacks();\n      return null;\n    }\n    console.debug(\"Bokeh: BokehJS not loaded, scheduling load and callback at\", now());\n    root._bokeh_is_loading = css_urls.length + js_urls.length;\n\n    function on_load() {\n      root._bokeh_is_loading--;\n      if (root._bokeh_is_loading === 0) {\n        console.debug(\"Bokeh: all BokehJS libraries/stylesheets loaded\");\n        run_callbacks()\n      }\n    }\n\n    function on_error(url) {\n      console.error(\"failed to load \" + url);\n    }\n\n    for (let i = 0; i < css_urls.length; i++) {\n      const url = css_urls[i];\n      const element = document.createElement(\"link\");\n      element.onload = on_load;\n      element.onerror = on_error.bind(null, url);\n      element.rel = \"stylesheet\";\n      element.type = \"text/css\";\n      element.href = url;\n      console.debug(\"Bokeh: injecting link tag for BokehJS stylesheet: \", url);\n      document.body.appendChild(element);\n    }\n\n    for (let i = 0; i < js_urls.length; i++) {\n      const url = js_urls[i];\n      const element = document.createElement('script');\n      element.onload = on_load;\n      element.onerror = on_error.bind(null, url);\n      element.async = false;\n      element.src = url;\n      console.debug(\"Bokeh: injecting script tag for BokehJS library: \", url);\n      document.head.appendChild(element);\n    }\n  };\n\n  function inject_raw_css(css) {\n    const element = document.createElement(\"style\");\n    element.appendChild(document.createTextNode(css));\n    document.body.appendChild(element);\n  }\n\n  const js_urls = [\"https://cdn.bokeh.org/bokeh/release/bokeh-2.4.3.min.js\", \"https://cdn.bokeh.org/bokeh/release/bokeh-gl-2.4.3.min.js\", \"https://cdn.bokeh.org/bokeh/release/bokeh-widgets-2.4.3.min.js\", \"https://cdn.bokeh.org/bokeh/release/bokeh-tables-2.4.3.min.js\", \"https://cdn.bokeh.org/bokeh/release/bokeh-mathjax-2.4.3.min.js\"];\n  const css_urls = [];\n\n  const inline_js = [    function(Bokeh) {\n      Bokeh.set_log_level(\"info\");\n    },\nfunction(Bokeh) {\n    }\n  ];\n\n  function run_inline_js() {\n    if (root.Bokeh !== undefined || force === true) {\n          for (let i = 0; i < inline_js.length; i++) {\n      inline_js[i].call(root, root.Bokeh);\n    }\nif (force === true) {\n        display_loaded();\n      }} else if (Date.now() < root._bokeh_timeout) {\n      setTimeout(run_inline_js, 100);\n    } else if (!root._bokeh_failed_load) {\n      console.log(\"Bokeh: BokehJS failed to load within specified timeout.\");\n      root._bokeh_failed_load = true;\n    } else if (force !== true) {\n      const cell = $(document.getElementById(\"1002\")).parents('.cell').data().cell;\n      cell.output_area.append_execute_result(NB_LOAD_WARNING)\n    }\n  }\n\n  if (root._bokeh_is_loading === 0) {\n    console.debug(\"Bokeh: BokehJS loaded, going straight to plotting\");\n    run_inline_js();\n  } else {\n    load_libs(css_urls, js_urls, function() {\n      console.debug(\"Bokeh: BokehJS plotting callback run at\", now());\n      run_inline_js();\n    });\n  }\n}(window));"
     },
     "metadata": {},
     "output_type": "display_data"
    }
   ],
   "source": [
    "import logging\n",
    "import os\n",
    "import shutil\n",
    "import sys\n",
    "import time\n",
    "\n",
    "import numpy as np\n",
    "import pandas as pd\n",
    "import torch\n",
    "\n",
    "# some plotting utilities\n",
    "from bokeh.io import output_notebook, show\n",
    "from bokeh.plotting import figure\n",
    "from bokeh.palettes import Dark2_8 as palette\n",
    "\n",
    "# our hermes imports\n",
    "from hermes import quiver as qv\n",
    "from hermes.aeriel.client import InferenceClient\n",
    "from hermes.aeriel.serve import serve\n",
    "from hermes.stillwater import ServerMonitor\n",
    "\n",
    "# couple cheap local utilities\n",
    "from src import utils\n",
    "\n",
    "output_notebook()\n",
    "logger = utils.get_logger()"
   ]
  },
  {
   "cell_type": "markdown",
   "id": "48bc3310",
   "metadata": {},
   "source": [
    "Now let's establish some parameters for both the model we'd like to build as well as for our inference time deployment."
   ]
  },
  {
   "cell_type": "code",
   "execution_count": 2,
   "id": "323dfc71",
   "metadata": {},
   "outputs": [],
   "source": [
    "# model parameters\n",
    "NUM_IFOS = 2  # number of interferometers analyzed by our model\n",
    "SAMPLE_RATE = 2048  # rate at which input data to the model is sampled\n",
    "KERNEL_LENGTH = 4  # length of the input to the model in seconds\n",
    "\n",
    "# inference parameters\n",
    "INFERENCE_DATA_LENGTH = 2048  # amount of data to analyze at inference time\n",
    "INFERENCE_SAMPLING_RATE = 0.25  # rate at which we'll sample input windows from the inference data\n",
    "INFERENCE_RATE = 250  # seconds of data we'll try to analyze per second\n",
    "\n",
    "# convert some of these into more useful units for slicing purposes\n",
    "kernel_size = int(SAMPLE_RATE * KERNEL_LENGTH)\n",
    "inference_stride = int(SAMPLE_RATE / INFERENCE_SAMPLING_RATE)\n",
    "inference_data_size = int(SAMPLE_RATE * INFERENCE_DATA_LENGTH)\n",
    "num_inferences = (inference_data_size - kernel_size) // inference_stride + 1"
   ]
  },
  {
   "cell_type": "markdown",
   "id": "1bf38dcd",
   "metadata": {},
   "source": [
    "Now let's build our extremely simple network"
   ]
  },
  {
   "cell_type": "code",
   "execution_count": 3,
   "id": "fd8d10e6",
   "metadata": {},
   "outputs": [],
   "source": [
    "class GlobalAvgPool(torch.nn.Module):\n",
    "    def forward(self, x):\n",
    "        return x.mean(axis=-1)\n",
    "\n",
    "\n",
    "nn = torch.nn.Sequential(\n",
    "    torch.nn.Conv1d(NUM_IFOS, 8, kernel_size=7, stride=2),\n",
    "    torch.nn.ReLU(),\n",
    "    torch.nn.Conv1d(8, 32, kernel_size=7, stride=2),\n",
    "    torch.nn.ReLU(),\n",
    "    torch.nn.Conv1d(32, 64, kernel_size=7, stride=2),\n",
    "    torch.nn.ReLU(),\n",
    "    torch.nn.Conv1d(64, 128, kernel_size=7, stride=2),\n",
    "    torch.nn.ReLU(),\n",
    "    torch.nn.Conv1d(128, 256, kernel_size=7, stride=2),\n",
    "    torch.nn.ReLU(),\n",
    "    GlobalAvgPool(),\n",
    "    torch.nn.Linear(256, 1024),\n",
    "    torch.nn.ReLU(),\n",
    "    torch.nn.Linear(1024, 1)\n",
    ")\n",
    "\n",
    "# INSERT TRAINING CODE HERE"
   ]
  },
  {
   "cell_type": "markdown",
   "id": "14c91482",
   "metadata": {},
   "source": [
    "Ok, now the set-up work is done. We have a \"trained\" neural network, and we're ready to export it for inference. Enter `hermes`. One of the key concepts in as-a-service inference is the idea of a **model repository**, a local (or cloud-based) directory with a prescribed structure that hosts all the versions of all the models to be served for inference.\n",
    "\n",
    "Maintaining this prescribed structure, as well as the configs that Triton needs to be able to map to named inputs and outputs, can be onerous and non-trivial, so `hermes.quiver` was built to take the headache out of building and maintaining these repositories. In this next step, we'll build a model repository (clearing it beforehand in case you run this notebook multiple times), add a new entry to it for the network that we just build, then export the current version of this network to that repository as an [ONNX](https://onnx.ai/) binary which Triton can load and serve for inference."
   ]
  },
  {
   "cell_type": "code",
   "execution_count": 4,
   "id": "1f7c528f",
   "metadata": {},
   "outputs": [
    {
     "data": {
      "text/plain": [
       "'my-classifier/1/model.onnx'"
      ]
     },
     "execution_count": 4,
     "metadata": {},
     "output_type": "execute_result"
    }
   ],
   "source": [
    "# let's make sure we're starting with a fresh repo\n",
    "repo_path = \"model-repo\"\n",
    "utils.clear_repo(repo_path)\n",
    "\n",
    "# initialize a blank model repository\n",
    "repo = qv.ModelRepository(repo_path)\n",
    "assert len(repo.models) == 0  # this attribute will get updated as we add models\n",
    "\n",
    "# create a new entry in the repo for our model\n",
    "model = repo.add(\"my-classifier\", platform=qv.Platform.ONNX)\n",
    "assert len(repo.models) == 1\n",
    "assert model == repo.models[\"my-classifier\"]\n",
    "\n",
    "# now export our current version of the network to this entry.\n",
    "# Since we haven't exported any versions of this model yet,\n",
    "# Triton needs to know what names to give the inputs and\n",
    "# outputs and what shapes to expect, so we have to specify\n",
    "# them explicitly this first time.\n",
    "# Note that -1 indicates variable length batch dimension.\n",
    "model.export_version(\n",
    "    nn,\n",
    "    input_shapes={\"hoft\": (-1, NUM_IFOS, kernel_size)},\n",
    "    output_names=[\"prob\"]\n",
    ")"
   ]
  },
  {
   "cell_type": "markdown",
   "id": "b4473dc1",
   "metadata": {},
   "source": [
    "Note that our model is associated with a `Config` object that describes the metadata Triton requires"
   ]
  },
  {
   "cell_type": "code",
   "execution_count": 5,
   "id": "9cf5f589",
   "metadata": {},
   "outputs": [
    {
     "data": {
      "text/plain": [
       "name: \"my-classifier\"\n",
       "platform: \"onnxruntime_onnx\"\n",
       "input {\n",
       "  name: \"hoft\"\n",
       "  data_type: TYPE_FP32\n",
       "  dims: -1\n",
       "  dims: 2\n",
       "  dims: 8192\n",
       "}\n",
       "output {\n",
       "  name: \"prob\"\n",
       "  data_type: TYPE_FP32\n",
       "  dims: -1\n",
       "  dims: 1\n",
       "}"
      ]
     },
     "execution_count": 5,
     "metadata": {},
     "output_type": "execute_result"
    }
   ],
   "source": [
    "model.config"
   ]
  },
  {
   "cell_type": "markdown",
   "id": "df740f93",
   "metadata": {},
   "source": [
    "and that each model can be associated with multiple different versions corresponding to different weight values, or even wholesale different architectures. The only thing that matters is that the network represents the same input-to-output mapping:"
   ]
  },
  {
   "cell_type": "code",
   "execution_count": 6,
   "id": "a0d51821",
   "metadata": {},
   "outputs": [
    {
     "data": {
      "text/plain": [
       "[1]"
      ]
     },
     "execution_count": 6,
     "metadata": {},
     "output_type": "execute_result"
    }
   ],
   "source": [
    "model.versions"
   ]
  },
  {
   "cell_type": "markdown",
   "id": "e0cde2a7",
   "metadata": {},
   "source": [
    "And with that, our model is ready to be served for inference! In the code below, we'll use `hermes.aeriel.serve` to spin up a [Singularity container](https://docs.sylabs.io/guides/3.5/user-guide/introduction.html) on a single GPU (index 0) which will run a Triton inference service in the background. Once the `serve` context exits, the service and the container running it will both be spun-down.\n",
    "\n",
    "Once the server is up and running, we'll use `hermes.aeriel.client` to establish a client connection to it, then iterate through our dummy data and make requests using this connection. The requests are made asynchronously and the responses parsed in a callback thread. The parsed responses are made available in the main thread through a queue which can be succinctly accessed by `InferenceClient.get()`, which will return `None` if there are no responses to be returned.\n",
    "\n",
    "Note that below, we'll do our inference in batch sizes of 1. In principle, we could get better throughput by increasing that batch size (at the cost of some latency), but as we'll see momentarily there are more pressing issues we need to address first."
   ]
  },
  {
   "cell_type": "code",
   "execution_count": 7,
   "id": "dcfb5062",
   "metadata": {},
   "outputs": [
    {
     "name": "stdout",
     "output_type": "stream",
     "text": [
      "singularity -s instance start --nv /cvmfs/singularity.opensciencegrid.org/fastml/gwiaas.tritonserver:latest peachy_salad_1710\n"
     ]
    },
    {
     "data": {
      "text/html": [
       "<pre style=\"white-space:pre;overflow-x:auto;line-height:normal;font-family:Menlo,'DejaVu Sans Mono',consolas,'Courier New',monospace\"><span style=\"color: #00ff00; text-decoration-color: #00ff00; font-weight: bold\">17:23:33</span>.<span style=\"color: #008080; text-decoration-color: #008080; font-weight: bold\">235</span>    Waiting for inference service to come online<span style=\"color: #808000; text-decoration-color: #808000\">...</span>                                                    \n",
       "</pre>\n"
      ],
      "text/plain": [
       "\u001b[1;92m17:23:33\u001b[0m.\u001b[1;36m235\u001b[0m    Waiting for inference service to come online\u001b[33m...\u001b[0m                                                    \n"
      ]
     },
     "metadata": {},
     "output_type": "display_data"
    },
    {
     "data": {
      "text/html": [
       "<pre style=\"white-space:pre;overflow-x:auto;line-height:normal;font-family:Menlo,'DejaVu Sans Mono',consolas,'Courier New',monospace\"><span style=\"color: #00ff00; text-decoration-color: #00ff00; font-weight: bold\">17:24:13</span>.<span style=\"color: #008080; text-decoration-color: #008080; font-weight: bold\">240</span>    Service ready!                                                                                     \n",
       "</pre>\n"
      ],
      "text/plain": [
       "\u001b[1;92m17:24:13\u001b[0m.\u001b[1;36m240\u001b[0m    Service ready!                                                                                     \n"
      ]
     },
     "metadata": {},
     "output_type": "display_data"
    },
    {
     "data": {
      "text/html": [
       "<pre style=\"white-space:pre;overflow-x:auto;line-height:normal;font-family:Menlo,'DejaVu Sans Mono',consolas,'Courier New',monospace\"><span style=\"color: #00ff00; text-decoration-color: #00ff00; font-weight: bold\">17:24:21</span>.<span style=\"color: #008080; text-decoration-color: #008080; font-weight: bold\">896</span>    Inference complete!                                                                                \n",
       "</pre>\n"
      ],
      "text/plain": [
       "\u001b[1;92m17:24:21\u001b[0m.\u001b[1;36m896\u001b[0m    Inference complete!                                                                                \n"
      ]
     },
     "metadata": {},
     "output_type": "display_data"
    }
   ],
   "source": [
    "# Start by spinning up an inference service.\n",
    "# Note that this will print the singularity command\n",
    "# used to start the service. This is unfortunately an\n",
    "# unavoidable bug in singularity right now (if you don't\n",
    "# want to receive an unnecessary warning instead), but it's\n",
    "# probably good to note what is really happening under the\n",
    "# hood anyway.\n",
    "# The `instance` returned by the context is an object\n",
    "# representing the running singularity container instance.\n",
    "with serve(\"model-repo\", gpus=[0]) as instance:\n",
    "    # Do our data generation in parallel while the server\n",
    "    # spins up. This will obviously be pretty fast, but\n",
    "    # for more complicated data generation steps this can\n",
    "    # be a good way to parallelize your efforts.\n",
    "    hoft = np.random.randn(NUM_IFOS, inference_data_size).astype(\"float32\")\n",
    "\n",
    "    # now wait until the inference service is online and\n",
    "    # ready to receive requests before we attempt to connect\n",
    "    logger.info(\"Waiting for inference service to come online...\")\n",
    "    instance.wait()\n",
    "    logger.info(\"Service ready!\")\n",
    "\n",
    "    # establish a client connection to the inference service\n",
    "    # and infer the names and shapes of the inputs it expects\n",
    "    client = InferenceClient(\n",
    "        \"localhost:8001\",\n",
    "        model_name=\"my-classifier\",\n",
    "        model_version=1  # can use -1 to imply latest version\n",
    "    )\n",
    "\n",
    "    # client context establishes a streaming connection to\n",
    "    # the inference service. Since we're not yet streaming\n",
    "    # updates but making requests individually, we don't\n",
    "    # technically need this, but it's a good habit to get into.\n",
    "    with client:\n",
    "        # now iterate through our inference timeseries at the\n",
    "        # prescribed stride and send these inputs to the server\n",
    "        # for inference.\n",
    "        for i in range(int(num_inferences)):\n",
    "            start = i * inference_stride\n",
    "            stop = start + kernel_size\n",
    "\n",
    "            # add a dummy dimension for the batch\n",
    "            kernel = hoft[:, start: stop][None]\n",
    "            client.infer(kernel)\n",
    "\n",
    "            # sleep to maintain the prescribed data rate\n",
    "            # and avoid overloading the network\n",
    "            time.sleep(1 / INFERENCE_SAMPLING_RATE / INFERENCE_RATE)\n",
    "\n",
    "        # now that we've submitted all our inference requests,\n",
    "        # start pulling them from the output queue as they\n",
    "        # become available.\n",
    "        results = []\n",
    "        while len(results) < num_inferences:\n",
    "            response = client.get()\n",
    "            if response is not None:\n",
    "                y, request_id, sequence_id = response\n",
    "                results.append(y[:, 0])\n",
    "        logger.info(\"Inference complete!\")\n",
    "\n",
    "# concatenate all the responses into a single timeseries\n",
    "results = np.concatenate(results)"
   ]
  },
  {
   "cell_type": "markdown",
   "id": "81ed7156",
   "metadata": {},
   "source": [
    "We can see from our logs that we roughly hit our inference rate target (a little bit below since our sleep sets an upper bound and we have to pay for things like serializing our gRPC request, but not too shabby).\n",
    "\n",
    "In principle, that does it: you now have everything you need to run inference-as-a-service with `hermes`. But there are some considerations you might think about that could help improve both network performance and throughput. For some inspiration, let's take a look at what our timeseries of network responses looks like:"
   ]
  },
  {
   "cell_type": "code",
   "execution_count": 8,
   "id": "d7e1d78b",
   "metadata": {},
   "outputs": [
    {
     "data": {
      "text/html": [
       "\n",
       "  <div class=\"bk-root\" id=\"5699c5c7-52df-4a8c-a3d2-4d10a47f3719\" data-root-id=\"1003\"></div>\n"
      ]
     },
     "metadata": {},
     "output_type": "display_data"
    },
    {
     "data": {
      "application/javascript": [
       "(function(root) {\n",
       "  function embed_document(root) {\n",
       "  const docs_json = {\"9992e2e9-9944-48a0-a163-2278fa1dc38e\":{\"defs\":[],\"roots\":{\"references\":[{\"attributes\":{\"below\":[{\"id\":\"1014\"}],\"center\":[{\"id\":\"1017\"},{\"id\":\"1021\"}],\"height\":300,\"left\":[{\"id\":\"1018\"}],\"renderers\":[{\"id\":\"1027\"}],\"title\":{\"id\":\"1004\"},\"toolbar\":{\"id\":\"1022\"},\"x_range\":{\"id\":\"1006\"},\"x_scale\":{\"id\":\"1010\"},\"y_range\":{\"id\":\"1008\"},\"y_scale\":{\"id\":\"1012\"}},\"id\":\"1003\",\"subtype\":\"Figure\",\"type\":\"Plot\"},{\"attributes\":{\"line_color\":\"#1f77b4\",\"line_width\":2.0,\"x\":{\"field\":\"x\"},\"y\":{\"field\":\"y\"}},\"id\":\"1024\",\"type\":\"Line\"},{\"attributes\":{\"data\":{\"x\":{\"__ndarray__\":\"AAAAAAAAEEAAAAAAAAAgQAAAAAAAAChAAAAAAAAAMEAAAAAAAAA0QAAAAAAAADhAAAAAAAAAPEAAAAAAAABAQAAAAAAAAEJAAAAAAAAAREAAAAAAAABGQAAAAAAAAEhAAAAAAAAASkAAAAAAAABMQAAAAAAAAE5AAAAAAAAAUEAAAAAAAABRQAAAAAAAAFJAAAAAAAAAU0AAAAAAAABUQAAAAAAAAFVAAAAAAAAAVkAAAAAAAABXQAAAAAAAAFhAAAAAAAAAWUAAAAAAAABaQAAAAAAAAFtAAAAAAAAAXEAAAAAAAABdQAAAAAAAAF5AAAAAAAAAX0AAAAAAAABgQAAAAAAAgGBAAAAAAAAAYUAAAAAAAIBhQAAAAAAAAGJAAAAAAACAYkAAAAAAAABjQAAAAAAAgGNAAAAAAAAAZEAAAAAAAIBkQAAAAAAAAGVAAAAAAACAZUAAAAAAAABmQAAAAAAAgGZAAAAAAAAAZ0AAAAAAAIBnQAAAAAAAAGhAAAAAAACAaEAAAAAAAABpQAAAAAAAgGlAAAAAAAAAakAAAAAAAIBqQAAAAAAAAGtAAAAAAACAa0AAAAAAAABsQAAAAAAAgGxAAAAAAAAAbUAAAAAAAIBtQAAAAAAAAG5AAAAAAACAbkAAAAAAAABvQAAAAAAAgG9AAAAAAAAAcEAAAAAAAEBwQAAAAAAAgHBAAAAAAADAcEAAAAAAAABxQAAAAAAAQHFAAAAAAACAcUAAAAAAAMBxQAAAAAAAAHJAAAAAAABAckAAAAAAAIByQAAAAAAAwHJAAAAAAAAAc0AAAAAAAEBzQAAAAAAAgHNAAAAAAADAc0AAAAAAAAB0QAAAAAAAQHRAAAAAAACAdEAAAAAAAMB0QAAAAAAAAHVAAAAAAABAdUAAAAAAAIB1QAAAAAAAwHVAAAAAAAAAdkAAAAAAAEB2QAAAAAAAgHZAAAAAAADAdkAAAAAAAAB3QAAAAAAAQHdAAAAAAACAd0AAAAAAAMB3QAAAAAAAAHhAAAAAAABAeEAAAAAAAIB4QAAAAAAAwHhAAAAAAAAAeUAAAAAAAEB5QAAAAAAAgHlAAAAAAADAeUAAAAAAAAB6QAAAAAAAQHpAAAAAAACAekAAAAAAAMB6QAAAAAAAAHtAAAAAAABAe0AAAAAAAIB7QAAAAAAAwHtAAAAAAAAAfEAAAAAAAEB8QAAAAAAAgHxAAAAAAADAfEAAAAAAAAB9QAAAAAAAQH1AAAAAAACAfUAAAAAAAMB9QAAAAAAAAH5AAAAAAABAfkAAAAAAAIB+QAAAAAAAwH5AAAAAAAAAf0AAAAAAAEB/QAAAAAAAgH9AAAAAAADAf0AAAAAAAACAQAAAAAAAIIBAAAAAAABAgEAAAAAAAGCAQAAAAAAAgIBAAAAAAACggEAAAAAAAMCAQAAAAAAA4IBAAAAAAAAAgUAAAAAAACCBQAAAAAAAQIFAAAAAAABggUAAAAAAAICBQAAAAAAAoIFAAAAAAADAgUAAAAAAAOCBQAAAAAAAAIJAAAAAAAAggkAAAAAAAECCQAAAAAAAYIJAAAAAAACAgkAAAAAAAKCCQAAAAAAAwIJAAAAAAADggkAAAAAAAACDQAAAAAAAIINAAAAAAABAg0AAAAAAAGCDQAAAAAAAgINAAAAAAACgg0AAAAAAAMCDQAAAAAAA4INAAAAAAAAAhEAAAAAAACCEQAAAAAAAQIRAAAAAAABghEAAAAAAAICEQAAAAAAAoIRAAAAAAADAhEAAAAAAAOCEQAAAAAAAAIVAAAAAAAAghUAAAAAAAECFQAAAAAAAYIVAAAAAAACAhUAAAAAAAKCFQAAAAAAAwIVAAAAAAADghUAAAAAAAACGQAAAAAAAIIZAAAAAAABAhkAAAAAAAGCGQAAAAAAAgIZAAAAAAACghkAAAAAAAMCGQAAAAAAA4IZAAAAAAAAAh0AAAAAAACCHQAAAAAAAQIdAAAAAAABgh0AAAAAAAICHQAAAAAAAoIdAAAAAAADAh0AAAAAAAOCHQAAAAAAAAIhAAAAAAAAgiEAAAAAAAECIQAAAAAAAYIhAAAAAAACAiEAAAAAAAKCIQAAAAAAAwIhAAAAAAADgiEAAAAAAAACJQAAAAAAAIIlAAAAAAABAiUAAAAAAAGCJQAAAAAAAgIlAAAAAAACgiUAAAAAAAMCJQAAAAAAA4IlAAAAAAAAAikAAAAAAACCKQAAAAAAAQIpAAAAAAABgikAAAAAAAICKQAAAAAAAoIpAAAAAAADAikAAAAAAAOCKQAAAAAAAAItAAAAAAAAgi0AAAAAAAECLQAAAAAAAYItAAAAAAACAi0AAAAAAAKCLQAAAAAAAwItAAAAAAADgi0AAAAAAAACMQAAAAAAAIIxAAAAAAABAjEAAAAAAAGCMQAAAAAAAgIxAAAAAAACgjEAAAAAAAMCMQAAAAAAA4IxAAAAAAAAAjUAAAAAAACCNQAAAAAAAQI1AAAAAAABgjUAAAAAAAICNQAAAAAAAoI1AAAAAAADAjUAAAAAAAOCNQAAAAAAAAI5AAAAAAAAgjkAAAAAAAECOQAAAAAAAYI5AAAAAAACAjkAAAAAAAKCOQAAAAAAAwI5AAAAAAADgjkAAAAAAAACPQAAAAAAAII9AAAAAAABAj0AAAAAAAGCPQAAAAAAAgI9AAAAAAACgj0AAAAAAAMCPQAAAAAAA4I9AAAAAAAAAkEAAAAAAABCQQAAAAAAAIJBAAAAAAAAwkEAAAAAAAECQQAAAAAAAUJBAAAAAAABgkEAAAAAAAHCQQAAAAAAAgJBAAAAAAACQkEAAAAAAAKCQQAAAAAAAsJBAAAAAAADAkEAAAAAAANCQQAAAAAAA4JBAAAAAAADwkEAAAAAAAACRQAAAAAAAEJFAAAAAAAAgkUAAAAAAADCRQAAAAAAAQJFAAAAAAABQkUAAAAAAAGCRQAAAAAAAcJFAAAAAAACAkUAAAAAAAJCRQAAAAAAAoJFAAAAAAACwkUAAAAAAAMCRQAAAAAAA0JFAAAAAAADgkUAAAAAAAPCRQAAAAAAAAJJAAAAAAAAQkkAAAAAAACCSQAAAAAAAMJJAAAAAAABAkkAAAAAAAFCSQAAAAAAAYJJAAAAAAABwkkAAAAAAAICSQAAAAAAAkJJAAAAAAACgkkAAAAAAALCSQAAAAAAAwJJAAAAAAADQkkAAAAAAAOCSQAAAAAAA8JJAAAAAAAAAk0AAAAAAABCTQAAAAAAAIJNAAAAAAAAwk0AAAAAAAECTQAAAAAAAUJNAAAAAAABgk0AAAAAAAHCTQAAAAAAAgJNAAAAAAACQk0AAAAAAAKCTQAAAAAAAsJNAAAAAAADAk0AAAAAAANCTQAAAAAAA4JNAAAAAAADwk0AAAAAAAACUQAAAAAAAEJRAAAAAAAAglEAAAAAAADCUQAAAAAAAQJRAAAAAAABQlEAAAAAAAGCUQAAAAAAAcJRAAAAAAACAlEAAAAAAAJCUQAAAAAAAoJRAAAAAAACwlEAAAAAAAMCUQAAAAAAA0JRAAAAAAADglEAAAAAAAPCUQAAAAAAAAJVAAAAAAAAQlUAAAAAAACCVQAAAAAAAMJVAAAAAAABAlUAAAAAAAFCVQAAAAAAAYJVAAAAAAABwlUAAAAAAAICVQAAAAAAAkJVAAAAAAACglUAAAAAAALCVQAAAAAAAwJVAAAAAAADQlUAAAAAAAOCVQAAAAAAA8JVAAAAAAAAAlkAAAAAAABCWQAAAAAAAIJZAAAAAAAAwlkAAAAAAAECWQAAAAAAAUJZAAAAAAABglkAAAAAAAHCWQAAAAAAAgJZAAAAAAACQlkAAAAAAAKCWQAAAAAAAsJZAAAAAAADAlkAAAAAAANCWQAAAAAAA4JZAAAAAAADwlkAAAAAAAACXQAAAAAAAEJdAAAAAAAAgl0AAAAAAADCXQAAAAAAAQJdAAAAAAABQl0AAAAAAAGCXQAAAAAAAcJdAAAAAAACAl0AAAAAAAJCXQAAAAAAAoJdAAAAAAACwl0AAAAAAAMCXQAAAAAAA0JdAAAAAAADgl0AAAAAAAPCXQAAAAAAAAJhAAAAAAAAQmEAAAAAAACCYQAAAAAAAMJhAAAAAAABAmEAAAAAAAFCYQAAAAAAAYJhAAAAAAABwmEAAAAAAAICYQAAAAAAAkJhAAAAAAACgmEAAAAAAALCYQAAAAAAAwJhAAAAAAADQmEAAAAAAAOCYQAAAAAAA8JhAAAAAAAAAmUAAAAAAABCZQAAAAAAAIJlAAAAAAAAwmUAAAAAAAECZQAAAAAAAUJlAAAAAAABgmUAAAAAAAHCZQAAAAAAAgJlAAAAAAACQmUAAAAAAAKCZQAAAAAAAsJlAAAAAAADAmUAAAAAAANCZQAAAAAAA4JlAAAAAAADwmUAAAAAAAACaQAAAAAAAEJpAAAAAAAAgmkAAAAAAADCaQAAAAAAAQJpAAAAAAABQmkAAAAAAAGCaQAAAAAAAcJpAAAAAAACAmkAAAAAAAJCaQAAAAAAAoJpAAAAAAACwmkAAAAAAAMCaQAAAAAAA0JpAAAAAAADgmkAAAAAAAPCaQAAAAAAAAJtAAAAAAAAQm0AAAAAAACCbQAAAAAAAMJtAAAAAAABAm0AAAAAAAFCbQAAAAAAAYJtAAAAAAABwm0AAAAAAAICbQAAAAAAAkJtAAAAAAACgm0AAAAAAALCbQAAAAAAAwJtAAAAAAADQm0AAAAAAAOCbQAAAAAAA8JtAAAAAAAAAnEAAAAAAABCcQAAAAAAAIJxAAAAAAAAwnEAAAAAAAECcQAAAAAAAUJxAAAAAAABgnEAAAAAAAHCcQAAAAAAAgJxAAAAAAACQnEAAAAAAAKCcQAAAAAAAsJxAAAAAAADAnEAAAAAAANCcQAAAAAAA4JxAAAAAAADwnEAAAAAAAACdQAAAAAAAEJ1AAAAAAAAgnUAAAAAAADCdQAAAAAAAQJ1AAAAAAABQnUAAAAAAAGCdQAAAAAAAcJ1AAAAAAACAnUAAAAAAAJCdQAAAAAAAoJ1AAAAAAACwnUAAAAAAAMCdQAAAAAAA0J1AAAAAAADgnUAAAAAAAPCdQAAAAAAAAJ5AAAAAAAAQnkAAAAAAACCeQAAAAAAAMJ5AAAAAAABAnkAAAAAAAFCeQAAAAAAAYJ5AAAAAAABwnkAAAAAAAICeQAAAAAAAkJ5AAAAAAACgnkAAAAAAALCeQAAAAAAAwJ5AAAAAAADQnkAAAAAAAOCeQAAAAAAA8J5AAAAAAAAAn0AAAAAAABCfQAAAAAAAIJ9AAAAAAAAwn0AAAAAAAECfQAAAAAAAUJ9AAAAAAABgn0AAAAAAAHCfQAAAAAAAgJ9AAAAAAACQn0AAAAAAAKCfQAAAAAAAsJ9AAAAAAADAn0AAAAAAANCfQAAAAAAA4J9AAAAAAADwn0AAAAAAAACgQA==\",\"dtype\":\"float64\",\"order\":\"little\",\"shape\":[512]},\"y\":{\"__ndarray__\":\"OwiePDCGnTzT5ps8nWicPAU5njwIYZw8kN2dPCdBnTy8xJw82iGdPA4OnDzz7Jw8aM+dPLKQnDzuOZw8JXGdPAXsnDzS8pw8D+WcPODfmzz5k5s8NFOcPCDjnDxC8pw8hoidPJyanTzo/ps8JHicPEPDmzziUJw8WtGcPPx2nTyO8pw8KK2cPEZqnDyRfZw87jGdPN1SnDzYoZ08ZWebPEJsnTztBJw8JiudPFdcnTxDMZ08neObPGmGnDwA35w8WhKdPJ/5nTy1T5080x6dPEL4nDyxAZ08bWSdPLRgnDy4uZw83g6cPGdTnTxzPZw8x4GcPJCzmzzsAJ08rCOdPPw1nDzITpw8/POaPKqNnDwYdpw83fqdPAQynTwghJw83wycPLKdnDyjHp08v0qcPJNrnDxw/pw8+B2ePPsHnDy4rJw8PG2dPFnxnDw25pw8uDacPJEVnTzW4Zw8tLicPOvBmzy2Xp48raObPCIznTyku5w8QVOdPE2hnDwLvpw8JDucPGgUnTzf9J08Nv6dPGaVnTwBRpw89hWdPGC+nDw99Zs8GEWdPFKtnDxgeJw8242cPAabnDweyp08UoOcPHNznDy4tp08XxGdPJoBnTwSfJw81tOcPKD+mzzOs5082LKbPMYynDwoY5w8zLGbPKernDwNOZw8XcGcPLVDnDyi3Z08IOycPLC6nDxpTJw8kPadPHtImzxUmZs8Yk+cPP+pnDyCdJw8bzKcPOYfnTx/D548LpKcPJD6mzyytZ08m2WcPLh1nTxpTp0828+cPHRlnDyCDJ088uObPFY4nTwmF508SJacPJRGnDxVkZw8qNKcPHudmzweP508JEedPPj6nTyePpw8PLucPBYnnDxRwZs8dJmcPLqrnDzjcJw86AudPKpvnTxHLJw80iifPHWNnTx+7Jw8JJ2bPFHjnDxPMJ08OkacPFgonDw6/Zs84GicPNrwmzwCspw896OdPNQvnTw4iZ08CtSbPP4OnDwmyZw8Z3ebPNCpnDwqMJw8aVecPC7JnDwYyp08tMacPGrAnDzC1J08IiScPLxpnjxY+Z0811abPLDVnDz+uJs8zwqcPIZfnDwkKZw8Fv2bPD32nDw0q5w8hFCdPKKfmzyTkZ08fNKbPPITnDxu2Zw8pvicPLTJnTxu8Jw8JiqdPM8rnTyeTJ08H2WcPOggnjwkJZ085dWcPOrcmzzespw8gkedPDxBnTzsdZw81sGcPBOznDweBZ08HqScPLZ1njzG+Zw82OmcPFcAnTwIFp08P6ucPLj/nDzg0Jw8N1icPMvCnDz+vZw8RjGcPBxXmzwOuZw8z7CcPNoJnDw6AJ082BqdPI3vnDzE+5w8OOibPLzJnTwAh5w80DOcPCZSnTz3z5w8rTWcPErTnDyHTpw8XMOcPPy+nDziOJ08XHGcPGL4mzzclZw8Rz2dPAe+nDyuFp48oAecPOQVnDw6H5s8SImcPAPNnDzsNpw8IxmdPKDjnTwMupw8E5ycPADmnDzDZpw8vvucPGXInTxFl5w82iOcPKilnDxiTJ08AZmcPKz+nDz8RJw8pISdPMqQmzw2AJw8PqqcPH/bmzzuOZ08ZuKdPNwrnDzLoJw8xnKdPJPtmjx2OJ08hnOcPDLwmjwbl5w8WtqcPBmdnDy0FZ08UJ6cPAU/nDwsn508NqOdPBlGnTzwN508fIScPAW1mzzc95w8JlidPGmmnDwPUJ08lpecPORDnDxInZ08lg2dPFRqnTzn7Jw83KCcPOucnDxYpJw8tsmcPPnPnTzoDJw8ELCcPH7qnDyGYZ089O+dPIQSnDzYU5081JKdPMsOnTzk5ps8wsycPHvlnTwl45w8+/ybPDNynDzu6Zw8/W6cPK/vmzyGSZw8Gj2cPDRwnDwRqpw8iNabPOAYnDz4fZw8ksucPKQgnTwKNpw8X/6cPEwxnTzwhJw8Tn6dPPoKnDyamJw89gKdPIS+nTwQO5083tadPG2AmzxXiJw8euacPP70mzwCUps8rNycPDFZnDzmIpw8ef+cPGBqnTwkXp08OLWcPBKGnDy6fJ08kcucPKYlnDxQ1Zw8GM+cPGc8mzwoOp4847KbPJTemzzkqZw8dPqcPKnLnDw865w81nWcPPuSnTyK7pw8A26dPJATnjyuSJs8FBGdPI6tnTyI8ps8wQ2dPK4lnTyjRJ08IiOcPAUqnTzytJw8KvWcPCz6mzxN9Zo8SDedPD7emzwcLZ08kK+cPPi+mzxSpZw8mIKbPAZOnTxWTJw81BGdPGMjnDymRJ083oidPBENnTy3qJw8tUGcPLMYnTzsHp08+FScPPmCnTxasp48Av6bPEC9nDy4fpw8nYidPEAMnDwDvps8L66bPPl5nDypjZ08KuGbPAudnTy8h5w8HimdPJponTwhxJw8DqKePKADnTw4bZw8JMqcPCDWmzycOpw8qnucPIDNnDz865w8U6ecPE3cnDwykJw8WHmdPJKenDwdK5082vecPEz6nDyaBZ0834+cPITkmzx0wJw8YxidPFQynTyo0pw8hHGdPPSvnTyaE5w8ADWdPIO8nDw6C508AfuaPHTdnDyjWZ08F+CdPF6anDyg+Js80PecPEgPnTwIKZ08BCydPMonnjwkTp08CJObPHL4nDzfDp08UHKbPBA5nTz6rJw8xpucPCtsnDxeHp08iMmdPM9InjwRypw8MoucPMTdnDyED548P2mcPBx5nTw=\",\"dtype\":\"float32\",\"order\":\"little\",\"shape\":[512]}},\"selected\":{\"id\":\"1037\"},\"selection_policy\":{\"id\":\"1036\"}},\"id\":\"1023\",\"type\":\"ColumnDataSource\"},{\"attributes\":{\"axis\":{\"id\":\"1014\"},\"coordinates\":null,\"group\":null,\"ticker\":null},\"id\":\"1017\",\"type\":\"Grid\"},{\"attributes\":{},\"id\":\"1031\",\"type\":\"BasicTickFormatter\"},{\"attributes\":{\"coordinates\":null,\"group\":null,\"text\":\"Network response vs. time\"},\"id\":\"1004\",\"type\":\"Title\"},{\"attributes\":{},\"id\":\"1022\",\"type\":\"Toolbar\"},{\"attributes\":{},\"id\":\"1036\",\"type\":\"UnionRenderers\"},{\"attributes\":{\"axis_label\":\"Time from start [s]\",\"coordinates\":null,\"formatter\":{\"id\":\"1034\"},\"group\":null,\"major_label_policy\":{\"id\":\"1035\"},\"ticker\":{\"id\":\"1015\"}},\"id\":\"1014\",\"type\":\"LinearAxis\"},{\"attributes\":{},\"id\":\"1019\",\"type\":\"BasicTicker\"},{\"attributes\":{\"axis\":{\"id\":\"1018\"},\"coordinates\":null,\"dimension\":1,\"group\":null,\"ticker\":null},\"id\":\"1021\",\"type\":\"Grid\"},{\"attributes\":{},\"id\":\"1012\",\"type\":\"LinearScale\"},{\"attributes\":{},\"id\":\"1015\",\"type\":\"BasicTicker\"},{\"attributes\":{},\"id\":\"1032\",\"type\":\"AllLabels\"},{\"attributes\":{},\"id\":\"1035\",\"type\":\"AllLabels\"},{\"attributes\":{\"axis_label\":\"NN Output\",\"coordinates\":null,\"formatter\":{\"id\":\"1031\"},\"group\":null,\"major_label_policy\":{\"id\":\"1032\"},\"ticker\":{\"id\":\"1019\"}},\"id\":\"1018\",\"type\":\"LinearAxis\"},{\"attributes\":{},\"id\":\"1006\",\"type\":\"DataRange1d\"},{\"attributes\":{},\"id\":\"1010\",\"type\":\"LinearScale\"},{\"attributes\":{\"line_alpha\":0.2,\"line_color\":\"#1f77b4\",\"line_width\":2.0,\"x\":{\"field\":\"x\"},\"y\":{\"field\":\"y\"}},\"id\":\"1026\",\"type\":\"Line\"},{\"attributes\":{},\"id\":\"1034\",\"type\":\"BasicTickFormatter\"},{\"attributes\":{\"coordinates\":null,\"data_source\":{\"id\":\"1023\"},\"glyph\":{\"id\":\"1024\"},\"group\":null,\"hover_glyph\":null,\"muted_glyph\":{\"id\":\"1026\"},\"nonselection_glyph\":{\"id\":\"1025\"},\"view\":{\"id\":\"1028\"}},\"id\":\"1027\",\"type\":\"GlyphRenderer\"},{\"attributes\":{},\"id\":\"1037\",\"type\":\"Selection\"},{\"attributes\":{},\"id\":\"1008\",\"type\":\"DataRange1d\"},{\"attributes\":{\"line_alpha\":0.1,\"line_color\":\"#1f77b4\",\"line_width\":2.0,\"x\":{\"field\":\"x\"},\"y\":{\"field\":\"y\"}},\"id\":\"1025\",\"type\":\"Line\"},{\"attributes\":{\"source\":{\"id\":\"1023\"}},\"id\":\"1028\",\"type\":\"CDSView\"}],\"root_ids\":[\"1003\"]},\"title\":\"Bokeh Application\",\"version\":\"2.4.3\"}};\n",
       "  const render_items = [{\"docid\":\"9992e2e9-9944-48a0-a163-2278fa1dc38e\",\"root_ids\":[\"1003\"],\"roots\":{\"1003\":\"5699c5c7-52df-4a8c-a3d2-4d10a47f3719\"}}];\n",
       "  root.Bokeh.embed.embed_items_notebook(docs_json, render_items);\n",
       "  }\n",
       "  if (root.Bokeh !== undefined) {\n",
       "    embed_document(root);\n",
       "  } else {\n",
       "    let attempts = 0;\n",
       "    const timer = setInterval(function(root) {\n",
       "      if (root.Bokeh !== undefined) {\n",
       "        clearInterval(timer);\n",
       "        embed_document(root);\n",
       "      } else {\n",
       "        attempts++;\n",
       "        if (attempts > 100) {\n",
       "          clearInterval(timer);\n",
       "          console.log(\"Bokeh: ERROR: Unable to run BokehJS code because BokehJS library is missing\");\n",
       "        }\n",
       "      }\n",
       "    }, 10, root)\n",
       "  }\n",
       "})(window);"
      ],
      "application/vnd.bokehjs_exec.v0+json": ""
     },
     "metadata": {
      "application/vnd.bokehjs_exec.v0+json": {
       "id": "1003"
      }
     },
     "output_type": "display_data"
    }
   ],
   "source": [
    "p = figure(\n",
    "    title=\"Network response vs. time\",\n",
    "    x_axis_label=\"Time from start [s]\",\n",
    "    y_axis_label=\"NN Output\",\n",
    "    width=600,\n",
    "    height=300,\n",
    "    tools=\"\",\n",
    ")\n",
    "times = np.arange(num_inferences) / INFERENCE_SAMPLING_RATE\n",
    "times += KERNEL_LENGTH  # to indicate where the right edge of the kernel is\n",
    "\n",
    "p.line(times, results, line_width=2.0)\n",
    "show(p)"
   ]
  },
  {
   "cell_type": "markdown",
   "id": "f161d416",
   "metadata": {},
   "source": [
    "So as we should have expected, it's just a timeseries of more or less random data. What is worth noting about this timeseries, however, is the rate at which it is sampled: 0.25 Hz means that for shorter-duration events like binary blackhole mergers, we only get to make one prediction on each event. Surely there might be some benefit to taking predictions from multiple overlapping windows containing the same event and aggregating them somewhow. Let's increase our inference sampling rate to, say, 4 Hz and see how this impacts our throughput.\n",
    "\n",
    "For this next round of inference, I'm going to add a little more complication up front at the expense of slightly more elegance at inference time. Rather than iterating through responses after all our inference requests have been submitted, I'll set up a callback up front that aggregates our responsesinto an array in real-time in the callback thread, then returns the array once completed."
   ]
  },
  {
   "cell_type": "code",
   "execution_count": 9,
   "id": "4031a4b0",
   "metadata": {},
   "outputs": [
    {
     "name": "stdout",
     "output_type": "stream",
     "text": [
      "singularity -s instance start --nv /cvmfs/singularity.opensciencegrid.org/fastml/gwiaas.tritonserver:latest goodbye_pancake_5706\n"
     ]
    },
    {
     "data": {
      "text/html": [
       "<pre style=\"white-space:pre;overflow-x:auto;line-height:normal;font-family:Menlo,'DejaVu Sans Mono',consolas,'Courier New',monospace\"><span style=\"color: #00ff00; text-decoration-color: #00ff00; font-weight: bold\">17:24:24</span>.<span style=\"color: #008080; text-decoration-color: #008080; font-weight: bold\">648</span>    Waiting for inference service to come online<span style=\"color: #808000; text-decoration-color: #808000\">...</span>                                                    \n",
       "</pre>\n"
      ],
      "text/plain": [
       "\u001b[1;92m17:24:24\u001b[0m.\u001b[1;36m648\u001b[0m    Waiting for inference service to come online\u001b[33m...\u001b[0m                                                    \n"
      ]
     },
     "metadata": {},
     "output_type": "display_data"
    },
    {
     "data": {
      "text/html": [
       "<pre style=\"white-space:pre;overflow-x:auto;line-height:normal;font-family:Menlo,'DejaVu Sans Mono',consolas,'Courier New',monospace\"><span style=\"color: #00ff00; text-decoration-color: #00ff00; font-weight: bold\">17:25:11</span>.<span style=\"color: #008080; text-decoration-color: #008080; font-weight: bold\">980</span>    Service ready!                                                                                     \n",
       "</pre>\n"
      ],
      "text/plain": [
       "\u001b[1;92m17:25:11\u001b[0m.\u001b[1;36m980\u001b[0m    Service ready!                                                                                     \n"
      ]
     },
     "metadata": {},
     "output_type": "display_data"
    },
    {
     "data": {
      "text/html": [
       "<pre style=\"white-space:pre;overflow-x:auto;line-height:normal;font-family:Menlo,'DejaVu Sans Mono',consolas,'Courier New',monospace\"><span style=\"color: #00ff00; text-decoration-color: #00ff00; font-weight: bold\">17:25:26</span>.<span style=\"color: #008080; text-decoration-color: #008080; font-weight: bold\">281</span>    Inference complete!                                                                                \n",
       "</pre>\n"
      ],
      "text/plain": [
       "\u001b[1;92m17:25:26\u001b[0m.\u001b[1;36m281\u001b[0m    Inference complete!                                                                                \n"
      ]
     },
     "metadata": {},
     "output_type": "display_data"
    }
   ],
   "source": [
    "class Callback:\n",
    "    def __init__(self, num_inferences):\n",
    "        self.y = np.zeros((num_inferences,))\n",
    "\n",
    "    def __call__(self, response, request_id, sequence_id):\n",
    "        self.y[request_id] = response[0, 0]\n",
    "        if (request_id + 1) == len(self.y):\n",
    "            return self.y\n",
    "\n",
    "\n",
    "# reset some of our parameters with a new inference sampling rate\n",
    "INFERENCE_SAMPLING_RATE = 4\n",
    "inference_stride = int(SAMPLE_RATE / INFERENCE_SAMPLING_RATE)\n",
    "num_inferences = (inference_data_size - kernel_size) // inference_stride + 1\n",
    "callback = Callback(num_inferences)\n",
    "\n",
    "# from here things will look more or less the same\n",
    "with serve(\"model-repo\", gpus=[0]) as instance:\n",
    "    logger.info(\"Waiting for inference service to come online...\")\n",
    "    instance.wait()\n",
    "    logger.info(\"Service ready!\")\n",
    "\n",
    "    # instantiate client with custom callback\n",
    "    client = InferenceClient(\n",
    "        \"localhost:8001\",\n",
    "        model_name=\"my-classifier\",\n",
    "        model_version=1,\n",
    "        callback=callback\n",
    "    )\n",
    "\n",
    "    with client:\n",
    "        for i in range(int(num_inferences)):\n",
    "            start = i * inference_stride\n",
    "            stop = start + kernel_size\n",
    "            kernel = hoft[:, start: stop][None]\n",
    "\n",
    "            # pass explicit request ids this time\n",
    "            # for the callback to use\n",
    "            client.infer(kernel, request_id=i)\n",
    "            time.sleep(1 / INFERENCE_SAMPLING_RATE / INFERENCE_RATE)\n",
    "\n",
    "    # now wait until the callback returns its\n",
    "    # filled out array to the client's queue\n",
    "    while True:\n",
    "        results = client.get()\n",
    "        if results is not None:\n",
    "            logger.info(\"Inference complete!\")\n",
    "            break"
   ]
  },
  {
   "cell_type": "markdown",
   "id": "340edf3f",
   "metadata": {},
   "source": [
    "And now let's take a look at how this timeseries looks"
   ]
  },
  {
   "cell_type": "code",
   "execution_count": 10,
   "id": "0c84a27e",
   "metadata": {},
   "outputs": [
    {
     "data": {
      "text/html": [
       "\n",
       "  <div class=\"bk-root\" id=\"0162deb3-08b6-497a-91dc-be435f56442f\" data-root-id=\"1083\"></div>\n"
      ]
     },
     "metadata": {},
     "output_type": "display_data"
    },
    {
     "data": {
      "application/javascript": [
       "(function(root) {\n",
       "  function embed_document(root) {\n",
       "  const docs_json = {\"8e41cdf1-601a-483a-8777-e1a821a320cb\":{\"defs\":[],\"roots\":{\"references\":[{\"attributes\":{\"below\":[{\"id\":\"1094\"}],\"center\":[{\"id\":\"1097\"},{\"id\":\"1101\"}],\"height\":300,\"left\":[{\"id\":\"1098\"}],\"renderers\":[{\"id\":\"1107\"}],\"title\":{\"id\":\"1084\"},\"toolbar\":{\"id\":\"1102\"},\"x_range\":{\"id\":\"1086\"},\"x_scale\":{\"id\":\"1090\"},\"y_range\":{\"id\":\"1088\"},\"y_scale\":{\"id\":\"1092\"}},\"id\":\"1083\",\"subtype\":\"Figure\",\"type\":\"Plot\"},{\"attributes\":{},\"id\":\"1124\",\"type\":\"AllLabels\"},{\"attributes\":{},\"id\":\"1123\",\"type\":\"BasicTickFormatter\"},{\"attributes\":{},\"id\":\"1102\",\"type\":\"Toolbar\"},{\"attributes\":{},\"id\":\"1092\",\"type\":\"LinearScale\"},{\"attributes\":{},\"id\":\"1095\",\"type\":\"BasicTicker\"},{\"attributes\":{\"source\":{\"id\":\"1103\"}},\"id\":\"1108\",\"type\":\"CDSView\"},{\"attributes\":{\"line_color\":\"#1f77b4\",\"line_width\":2.0,\"x\":{\"field\":\"x\"},\"y\":{\"field\":\"y\"}},\"id\":\"1104\",\"type\":\"Line\"},{\"attributes\":{\"axis\":{\"id\":\"1094\"},\"coordinates\":null,\"group\":null,\"ticker\":null},\"id\":\"1097\",\"type\":\"Grid\"},{\"attributes\":{\"axis_label\":\"NN Output\",\"coordinates\":null,\"formatter\":{\"id\":\"1120\"},\"group\":null,\"major_label_policy\":{\"id\":\"1121\"},\"ticker\":{\"id\":\"1099\"}},\"id\":\"1098\",\"type\":\"LinearAxis\"},{\"attributes\":{},\"id\":\"1125\",\"type\":\"UnionRenderers\"},{\"attributes\":{},\"id\":\"1120\",\"type\":\"BasicTickFormatter\"},{\"attributes\":{},\"id\":\"1090\",\"type\":\"LinearScale\"},{\"attributes\":{\"coordinates\":null,\"group\":null,\"text\":\"Network response vs. time\"},\"id\":\"1084\",\"type\":\"Title\"},{\"attributes\":{\"line_alpha\":0.2,\"line_color\":\"#1f77b4\",\"line_width\":2.0,\"x\":{\"field\":\"x\"},\"y\":{\"field\":\"y\"}},\"id\":\"1106\",\"type\":\"Line\"},{\"attributes\":{},\"id\":\"1121\",\"type\":\"AllLabels\"},{\"attributes\":{},\"id\":\"1088\",\"type\":\"DataRange1d\"},{\"attributes\":{\"axis_label\":\"Time from start [s]\",\"coordinates\":null,\"formatter\":{\"id\":\"1123\"},\"group\":null,\"major_label_policy\":{\"id\":\"1124\"},\"ticker\":{\"id\":\"1095\"}},\"id\":\"1094\",\"type\":\"LinearAxis\"},{\"attributes\":{\"coordinates\":null,\"data_source\":{\"id\":\"1103\"},\"glyph\":{\"id\":\"1104\"},\"group\":null,\"hover_glyph\":null,\"muted_glyph\":{\"id\":\"1106\"},\"nonselection_glyph\":{\"id\":\"1105\"},\"view\":{\"id\":\"1108\"}},\"id\":\"1107\",\"type\":\"GlyphRenderer\"},{\"attributes\":{\"line_alpha\":0.1,\"line_color\":\"#1f77b4\",\"line_width\":2.0,\"x\":{\"field\":\"x\"},\"y\":{\"field\":\"y\"}},\"id\":\"1105\",\"type\":\"Line\"},{\"attributes\":{},\"id\":\"1126\",\"type\":\"Selection\"},{\"attributes\":{},\"id\":\"1086\",\"type\":\"DataRange1d\"},{\"attributes\":{\"data\":{\"x\":{\"__ndarray__\":\"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\",\"dtype\":\"float64\",\"order\":\"little\",\"shape\":[8177]},\"y\":{\"__ndarray__\":\"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\",\"dtype\":\"float64\",\"order\":\"little\",\"shape\":[8177]}},\"selected\":{\"id\":\"1126\"},\"selection_policy\":{\"id\":\"1125\"}},\"id\":\"1103\",\"type\":\"ColumnDataSource\"},{\"attributes\":{},\"id\":\"1099\",\"type\":\"BasicTicker\"},{\"attributes\":{\"axis\":{\"id\":\"1098\"},\"coordinates\":null,\"dimension\":1,\"group\":null,\"ticker\":null},\"id\":\"1101\",\"type\":\"Grid\"}],\"root_ids\":[\"1083\"]},\"title\":\"Bokeh Application\",\"version\":\"2.4.3\"}};\n",
       "  const render_items = [{\"docid\":\"8e41cdf1-601a-483a-8777-e1a821a320cb\",\"root_ids\":[\"1083\"],\"roots\":{\"1083\":\"0162deb3-08b6-497a-91dc-be435f56442f\"}}];\n",
       "  root.Bokeh.embed.embed_items_notebook(docs_json, render_items);\n",
       "  }\n",
       "  if (root.Bokeh !== undefined) {\n",
       "    embed_document(root);\n",
       "  } else {\n",
       "    let attempts = 0;\n",
       "    const timer = setInterval(function(root) {\n",
       "      if (root.Bokeh !== undefined) {\n",
       "        clearInterval(timer);\n",
       "        embed_document(root);\n",
       "      } else {\n",
       "        attempts++;\n",
       "        if (attempts > 100) {\n",
       "          clearInterval(timer);\n",
       "          console.log(\"Bokeh: ERROR: Unable to run BokehJS code because BokehJS library is missing\");\n",
       "        }\n",
       "      }\n",
       "    }, 10, root)\n",
       "  }\n",
       "})(window);"
      ],
      "application/vnd.bokehjs_exec.v0+json": ""
     },
     "metadata": {
      "application/vnd.bokehjs_exec.v0+json": {
       "id": "1083"
      }
     },
     "output_type": "display_data"
    }
   ],
   "source": [
    "p = figure(\n",
    "    title=\"Network response vs. time\",\n",
    "    x_axis_label=\"Time from start [s]\",\n",
    "    y_axis_label=\"NN Output\",\n",
    "    width=600,\n",
    "    height=300,\n",
    "    tools=\"\",\n",
    ")\n",
    "times = np.arange(num_inferences) / INFERENCE_SAMPLING_RATE\n",
    "times += KERNEL_LENGTH\n",
    "\n",
    "p.line(times, results, line_width=2.0)\n",
    "show(p)"
   ]
  },
  {
   "cell_type": "markdown",
   "id": "db03fc12",
   "metadata": {},
   "source": [
    "So things work with higher frequency inference, but our logs indicate that we're now falling well short of our intended inference rate target (at time of writing, I'm seeing a rate of ~145 data seconds / second). Why is that? Can our network capable of handling the desired number of requests per second?\n",
    "\n",
    "For diagnosing these sorts of questions, Triton makes some inference metrics available at port 8002 by default, which clients can query for per-model information like cumulative time spent queueing and executing requests, as well as cumulative inference counts. The `hermes.stillwater` library has a `ServerMonitor` class which requests and organizes these metrics from potentially many servers in a separate process (to not slow down inference) and writes them to a local log file.\n",
    "\n",
    "Let's run the same snippet from above with a monitor in place and take a look at how queuing latency evolves over time. If requests spend longer and longer queuing over time, then our network is acting as a bottleneck and we need to scale it up. Otherwise, something else is going wrong."
   ]
  },
  {
   "cell_type": "code",
   "execution_count": 11,
   "id": "2ab59da4",
   "metadata": {},
   "outputs": [
    {
     "name": "stdout",
     "output_type": "stream",
     "text": [
      "singularity -s instance start --nv /cvmfs/singularity.opensciencegrid.org/fastml/gwiaas.tritonserver:latest stinky_pastry_3512\n"
     ]
    },
    {
     "data": {
      "text/html": [
       "<pre style=\"white-space:pre;overflow-x:auto;line-height:normal;font-family:Menlo,'DejaVu Sans Mono',consolas,'Courier New',monospace\"><span style=\"color: #00ff00; text-decoration-color: #00ff00; font-weight: bold\">17:25:29</span>.<span style=\"color: #008080; text-decoration-color: #008080; font-weight: bold\">278</span>    Waiting for inference service to come online<span style=\"color: #808000; text-decoration-color: #808000\">...</span>                                                    \n",
       "</pre>\n"
      ],
      "text/plain": [
       "\u001b[1;92m17:25:29\u001b[0m.\u001b[1;36m278\u001b[0m    Waiting for inference service to come online\u001b[33m...\u001b[0m                                                    \n"
      ]
     },
     "metadata": {},
     "output_type": "display_data"
    },
    {
     "data": {
      "text/html": [
       "<pre style=\"white-space:pre;overflow-x:auto;line-height:normal;font-family:Menlo,'DejaVu Sans Mono',consolas,'Courier New',monospace\"><span style=\"color: #00ff00; text-decoration-color: #00ff00; font-weight: bold\">17:26:14</span>.<span style=\"color: #008080; text-decoration-color: #008080; font-weight: bold\">124</span>    Service ready!                                                                                     \n",
       "</pre>\n"
      ],
      "text/plain": [
       "\u001b[1;92m17:26:14\u001b[0m.\u001b[1;36m124\u001b[0m    Service ready!                                                                                     \n"
      ]
     },
     "metadata": {},
     "output_type": "display_data"
    },
    {
     "data": {
      "text/html": [
       "<pre style=\"white-space:pre;overflow-x:auto;line-height:normal;font-family:Menlo,'DejaVu Sans Mono',consolas,'Courier New',monospace\"><span style=\"color: #00ff00; text-decoration-color: #00ff00; font-weight: bold\">17:26:28</span>.<span style=\"color: #008080; text-decoration-color: #008080; font-weight: bold\">540</span>    Inference complete!                                                                                \n",
       "</pre>\n"
      ],
      "text/plain": [
       "\u001b[1;92m17:26:28\u001b[0m.\u001b[1;36m540\u001b[0m    Inference complete!                                                                                \n"
      ]
     },
     "metadata": {},
     "output_type": "display_data"
    }
   ],
   "source": [
    "callback = Callback(num_inferences)\n",
    "with serve(\"model-repo\", gpus=[0]) as instance:\n",
    "    logger.info(\"Waiting for inference service to come online...\")\n",
    "    instance.wait()\n",
    "    logger.info(\"Service ready!\")\n",
    "\n",
    "    client = InferenceClient(\n",
    "        \"localhost:8001\",\n",
    "        model_name=\"my-classifier\",\n",
    "        model_version=1,\n",
    "        callback=callback\n",
    "    )\n",
    "    monitor = ServerMonitor(\n",
    "        model_name=\"my-classifier\",\n",
    "        ips=\"localhost\",\n",
    "        filename=\"non-streaming_single-model_server-stats.csv\",\n",
    "        model_version=1,\n",
    "        name=\"monitor\"\n",
    "    )\n",
    "\n",
    "    with client, monitor:\n",
    "        for i in range(int(num_inferences)):\n",
    "            start = i * inference_stride\n",
    "            stop = start + kernel_size\n",
    "            kernel = hoft[:, start: stop][None]\n",
    "\n",
    "            client.infer(kernel, request_id=i)\n",
    "            time.sleep(1 / INFERENCE_SAMPLING_RATE / INFERENCE_RATE)\n",
    "\n",
    "        # wait for the callback under the context this\n",
    "        # time to let the monitor keep doing its thing\n",
    "        while True:\n",
    "            results = client.get()\n",
    "            if results is not None:\n",
    "                logger.info(\"Inference complete!\")\n",
    "                break"
   ]
  },
  {
   "cell_type": "markdown",
   "id": "cd37687c",
   "metadata": {},
   "source": [
    "Now let's load in the CSV that our monitor produced and take a look at the data it captured."
   ]
  },
  {
   "cell_type": "code",
   "execution_count": 12,
   "id": "c4a64d19",
   "metadata": {},
   "outputs": [
    {
     "data": {
      "text/html": [
       "<div>\n",
       "<style scoped>\n",
       "    .dataframe tbody tr th:only-of-type {\n",
       "        vertical-align: middle;\n",
       "    }\n",
       "\n",
       "    .dataframe tbody tr th {\n",
       "        vertical-align: top;\n",
       "    }\n",
       "\n",
       "    .dataframe thead th {\n",
       "        text-align: right;\n",
       "    }\n",
       "</style>\n",
       "<table border=\"1\" class=\"dataframe\">\n",
       "  <thead>\n",
       "    <tr style=\"text-align: right;\">\n",
       "      <th></th>\n",
       "      <th>timestamp</th>\n",
       "      <th>ip</th>\n",
       "      <th>model</th>\n",
       "      <th>count</th>\n",
       "      <th>queue</th>\n",
       "      <th>compute_input</th>\n",
       "      <th>compute_infer</th>\n",
       "      <th>compute_output</th>\n",
       "      <th>request</th>\n",
       "    </tr>\n",
       "  </thead>\n",
       "  <tbody>\n",
       "    <tr>\n",
       "      <th>0</th>\n",
       "      <td>1.663720e+09</td>\n",
       "      <td>localhost</td>\n",
       "      <td>my-classifier</td>\n",
       "      <td>2</td>\n",
       "      <td>7691253</td>\n",
       "      <td>7346</td>\n",
       "      <td>7685740</td>\n",
       "      <td>60</td>\n",
       "      <td>15384601</td>\n",
       "    </tr>\n",
       "    <tr>\n",
       "      <th>1</th>\n",
       "      <td>1.663720e+09</td>\n",
       "      <td>localhost</td>\n",
       "      <td>my-classifier</td>\n",
       "      <td>251</td>\n",
       "      <td>1889819993</td>\n",
       "      <td>22845</td>\n",
       "      <td>7898638</td>\n",
       "      <td>2164</td>\n",
       "      <td>1897756693</td>\n",
       "    </tr>\n",
       "    <tr>\n",
       "      <th>2</th>\n",
       "      <td>1.663720e+09</td>\n",
       "      <td>localhost</td>\n",
       "      <td>my-classifier</td>\n",
       "      <td>462</td>\n",
       "      <td>3261910440</td>\n",
       "      <td>22645</td>\n",
       "      <td>151057</td>\n",
       "      <td>4121</td>\n",
       "      <td>3262109736</td>\n",
       "    </tr>\n",
       "    <tr>\n",
       "      <th>3</th>\n",
       "      <td>1.663720e+09</td>\n",
       "      <td>localhost</td>\n",
       "      <td>my-classifier</td>\n",
       "      <td>451</td>\n",
       "      <td>2887317378</td>\n",
       "      <td>24483</td>\n",
       "      <td>146749</td>\n",
       "      <td>3998</td>\n",
       "      <td>2887515642</td>\n",
       "    </tr>\n",
       "    <tr>\n",
       "      <th>4</th>\n",
       "      <td>1.663720e+09</td>\n",
       "      <td>localhost</td>\n",
       "      <td>my-classifier</td>\n",
       "      <td>463</td>\n",
       "      <td>2660231453</td>\n",
       "      <td>23813</td>\n",
       "      <td>148424</td>\n",
       "      <td>3828</td>\n",
       "      <td>2660429533</td>\n",
       "    </tr>\n",
       "    <tr>\n",
       "      <th>...</th>\n",
       "      <td>...</td>\n",
       "      <td>...</td>\n",
       "      <td>...</td>\n",
       "      <td>...</td>\n",
       "      <td>...</td>\n",
       "      <td>...</td>\n",
       "      <td>...</td>\n",
       "      <td>...</td>\n",
       "      <td>...</td>\n",
       "    </tr>\n",
       "    <tr>\n",
       "      <th>61</th>\n",
       "      <td>1.663720e+09</td>\n",
       "      <td>localhost</td>\n",
       "      <td>my-classifier</td>\n",
       "      <td>58</td>\n",
       "      <td>3170</td>\n",
       "      <td>2896</td>\n",
       "      <td>21323</td>\n",
       "      <td>418</td>\n",
       "      <td>30811</td>\n",
       "    </tr>\n",
       "    <tr>\n",
       "      <th>62</th>\n",
       "      <td>1.663720e+09</td>\n",
       "      <td>localhost</td>\n",
       "      <td>my-classifier</td>\n",
       "      <td>57</td>\n",
       "      <td>3005</td>\n",
       "      <td>2796</td>\n",
       "      <td>20496</td>\n",
       "      <td>455</td>\n",
       "      <td>29940</td>\n",
       "    </tr>\n",
       "    <tr>\n",
       "      <th>63</th>\n",
       "      <td>1.663720e+09</td>\n",
       "      <td>localhost</td>\n",
       "      <td>my-classifier</td>\n",
       "      <td>57</td>\n",
       "      <td>3007</td>\n",
       "      <td>2710</td>\n",
       "      <td>21033</td>\n",
       "      <td>483</td>\n",
       "      <td>29961</td>\n",
       "    </tr>\n",
       "    <tr>\n",
       "      <th>64</th>\n",
       "      <td>1.663720e+09</td>\n",
       "      <td>localhost</td>\n",
       "      <td>my-classifier</td>\n",
       "      <td>58</td>\n",
       "      <td>3250</td>\n",
       "      <td>2835</td>\n",
       "      <td>20409</td>\n",
       "      <td>421</td>\n",
       "      <td>30484</td>\n",
       "    </tr>\n",
       "    <tr>\n",
       "      <th>65</th>\n",
       "      <td>1.663720e+09</td>\n",
       "      <td>localhost</td>\n",
       "      <td>my-classifier</td>\n",
       "      <td>58</td>\n",
       "      <td>3051</td>\n",
       "      <td>2885</td>\n",
       "      <td>20904</td>\n",
       "      <td>511</td>\n",
       "      <td>30726</td>\n",
       "    </tr>\n",
       "  </tbody>\n",
       "</table>\n",
       "<p>66 rows × 9 columns</p>\n",
       "</div>"
      ],
      "text/plain": [
       "       timestamp         ip          model  count       queue  compute_input  \\\n",
       "0   1.663720e+09  localhost  my-classifier      2     7691253           7346   \n",
       "1   1.663720e+09  localhost  my-classifier    251  1889819993          22845   \n",
       "2   1.663720e+09  localhost  my-classifier    462  3261910440          22645   \n",
       "3   1.663720e+09  localhost  my-classifier    451  2887317378          24483   \n",
       "4   1.663720e+09  localhost  my-classifier    463  2660231453          23813   \n",
       "..           ...        ...            ...    ...         ...            ...   \n",
       "61  1.663720e+09  localhost  my-classifier     58        3170           2896   \n",
       "62  1.663720e+09  localhost  my-classifier     57        3005           2796   \n",
       "63  1.663720e+09  localhost  my-classifier     57        3007           2710   \n",
       "64  1.663720e+09  localhost  my-classifier     58        3250           2835   \n",
       "65  1.663720e+09  localhost  my-classifier     58        3051           2885   \n",
       "\n",
       "    compute_infer  compute_output     request  \n",
       "0         7685740              60    15384601  \n",
       "1         7898638            2164  1897756693  \n",
       "2          151057            4121  3262109736  \n",
       "3          146749            3998  2887515642  \n",
       "4          148424            3828  2660429533  \n",
       "..            ...             ...         ...  \n",
       "61          21323             418       30811  \n",
       "62          20496             455       29940  \n",
       "63          21033             483       29961  \n",
       "64          20409             421       30484  \n",
       "65          20904             511       30726  \n",
       "\n",
       "[66 rows x 9 columns]"
      ]
     },
     "execution_count": 12,
     "metadata": {},
     "output_type": "execute_result"
    }
   ],
   "source": [
    "df = pd.read_csv(\"non-streaming_single-model_server-stats.csv\")\n",
    "df"
   ]
  },
  {
   "cell_type": "markdown",
   "id": "ea8aeafe",
   "metadata": {},
   "source": [
    "The `queue`, `compute_input`, `compute_infer`, and `compute_output` columns all represent different steps in the inference compute of a single request. The values in each column represent the cumulative microseconds spent on each step over all of the requests computed between each ping to the metrics service, the number of which is indicated by the `count` column. Knowing this, let's reframe some of the info in these columns in a more useful fashion for our purposes."
   ]
  },
  {
   "cell_type": "code",
   "execution_count": 13,
   "id": "0c73f322",
   "metadata": {},
   "outputs": [
    {
     "data": {
      "text/html": [
       "<div>\n",
       "<style scoped>\n",
       "    .dataframe tbody tr th:only-of-type {\n",
       "        vertical-align: middle;\n",
       "    }\n",
       "\n",
       "    .dataframe tbody tr th {\n",
       "        vertical-align: top;\n",
       "    }\n",
       "\n",
       "    .dataframe thead th {\n",
       "        text-align: right;\n",
       "    }\n",
       "</style>\n",
       "<table border=\"1\" class=\"dataframe\">\n",
       "  <thead>\n",
       "    <tr style=\"text-align: right;\">\n",
       "      <th></th>\n",
       "      <th>Time since start (s)</th>\n",
       "      <th>Average queue time (us)</th>\n",
       "      <th>Average infer time (us)</th>\n",
       "    </tr>\n",
       "  </thead>\n",
       "  <tbody>\n",
       "    <tr>\n",
       "      <th>0</th>\n",
       "      <td>0.000000</td>\n",
       "      <td>3.845626e+06</td>\n",
       "      <td>3.846573e+06</td>\n",
       "    </tr>\n",
       "    <tr>\n",
       "      <th>1</th>\n",
       "      <td>0.101565</td>\n",
       "      <td>7.529163e+06</td>\n",
       "      <td>3.156831e+04</td>\n",
       "    </tr>\n",
       "    <tr>\n",
       "      <th>2</th>\n",
       "      <td>0.203396</td>\n",
       "      <td>7.060412e+06</td>\n",
       "      <td>3.848983e+02</td>\n",
       "    </tr>\n",
       "    <tr>\n",
       "      <th>3</th>\n",
       "      <td>0.305061</td>\n",
       "      <td>6.402034e+06</td>\n",
       "      <td>3.885366e+02</td>\n",
       "    </tr>\n",
       "    <tr>\n",
       "      <th>4</th>\n",
       "      <td>0.406572</td>\n",
       "      <td>5.745640e+06</td>\n",
       "      <td>3.802700e+02</td>\n",
       "    </tr>\n",
       "    <tr>\n",
       "      <th>...</th>\n",
       "      <td>...</td>\n",
       "      <td>...</td>\n",
       "      <td>...</td>\n",
       "    </tr>\n",
       "    <tr>\n",
       "      <th>61</th>\n",
       "      <td>6.189616</td>\n",
       "      <td>5.465517e+01</td>\n",
       "      <td>4.247759e+02</td>\n",
       "    </tr>\n",
       "    <tr>\n",
       "      <th>62</th>\n",
       "      <td>6.291206</td>\n",
       "      <td>5.271930e+01</td>\n",
       "      <td>4.166140e+02</td>\n",
       "    </tr>\n",
       "    <tr>\n",
       "      <th>63</th>\n",
       "      <td>6.392915</td>\n",
       "      <td>5.275439e+01</td>\n",
       "      <td>4.250175e+02</td>\n",
       "    </tr>\n",
       "    <tr>\n",
       "      <th>64</th>\n",
       "      <td>6.494053</td>\n",
       "      <td>5.603448e+01</td>\n",
       "      <td>4.080172e+02</td>\n",
       "    </tr>\n",
       "    <tr>\n",
       "      <th>65</th>\n",
       "      <td>6.595323</td>\n",
       "      <td>5.260345e+01</td>\n",
       "      <td>4.189655e+02</td>\n",
       "    </tr>\n",
       "  </tbody>\n",
       "</table>\n",
       "<p>66 rows × 3 columns</p>\n",
       "</div>"
      ],
      "text/plain": [
       "    Time since start (s)  Average queue time (us)  Average infer time (us)\n",
       "0               0.000000             3.845626e+06             3.846573e+06\n",
       "1               0.101565             7.529163e+06             3.156831e+04\n",
       "2               0.203396             7.060412e+06             3.848983e+02\n",
       "3               0.305061             6.402034e+06             3.885366e+02\n",
       "4               0.406572             5.745640e+06             3.802700e+02\n",
       "..                   ...                      ...                      ...\n",
       "61              6.189616             5.465517e+01             4.247759e+02\n",
       "62              6.291206             5.271930e+01             4.166140e+02\n",
       "63              6.392915             5.275439e+01             4.250175e+02\n",
       "64              6.494053             5.603448e+01             4.080172e+02\n",
       "65              6.595323             5.260345e+01             4.189655e+02\n",
       "\n",
       "[66 rows x 3 columns]"
      ]
     },
     "execution_count": 13,
     "metadata": {},
     "output_type": "execute_result"
    }
   ],
   "source": [
    "df[\"Time since start (s)\"] = df[\"timestamp\"] - df[\"timestamp\"][0]\n",
    "df[\"Average queue time (us)\"] = df[\"queue\"] / df[\"count\"]\n",
    "infer_time = df[[f\"compute_{i}\" for i in [\"input\", \"infer\", \"output\"]]].sum(axis=1)\n",
    "df[\"Average infer time (us)\"] = infer_time / df[\"count\"]\n",
    "\n",
    "df = df[[\"Time since start (s)\", \"Average queue time (us)\", \"Average infer time (us)\"]]\n",
    "df"
   ]
  },
  {
   "cell_type": "markdown",
   "id": "7851bed6",
   "metadata": {},
   "source": [
    "Now let's plot the queue time as a function of time, and consider what this data tells us:"
   ]
  },
  {
   "cell_type": "code",
   "execution_count": 14,
   "id": "c9105a6b",
   "metadata": {},
   "outputs": [
    {
     "data": {
      "text/html": [
       "\n",
       "  <div class=\"bk-root\" id=\"502a7326-c386-4e4d-bf44-5d3e4f7f3bfb\" data-root-id=\"1172\"></div>\n"
      ]
     },
     "metadata": {},
     "output_type": "display_data"
    },
    {
     "data": {
      "application/javascript": [
       "(function(root) {\n",
       "  function embed_document(root) {\n",
       "  const docs_json = {\"04ab6e66-ce4e-4740-a618-2051f434835e\":{\"defs\":[],\"roots\":{\"references\":[{\"attributes\":{\"below\":[{\"id\":\"1183\"}],\"center\":[{\"id\":\"1186\"},{\"id\":\"1190\"}],\"height\":300,\"left\":[{\"id\":\"1187\"}],\"renderers\":[{\"id\":\"1196\"}],\"title\":{\"id\":\"1173\"},\"toolbar\":{\"id\":\"1191\"},\"x_range\":{\"id\":\"1175\"},\"x_scale\":{\"id\":\"1179\"},\"y_range\":{\"id\":\"1177\"},\"y_scale\":{\"id\":\"1181\"}},\"id\":\"1172\",\"subtype\":\"Figure\",\"type\":\"Plot\"},{\"attributes\":{\"axis_label\":\"Average queue latency in interval [us]\",\"coordinates\":null,\"formatter\":{\"id\":\"1218\"},\"group\":null,\"major_label_policy\":{\"id\":\"1219\"},\"ticker\":{\"id\":\"1188\"}},\"id\":\"1187\",\"type\":\"LinearAxis\"},{\"attributes\":{},\"id\":\"1222\",\"type\":\"AllLabels\"},{\"attributes\":{},\"id\":\"1184\",\"type\":\"BasicTicker\"},{\"attributes\":{},\"id\":\"1219\",\"type\":\"AllLabels\"},{\"attributes\":{\"line_alpha\":0.1,\"line_color\":\"#1f77b4\",\"line_width\":2.0,\"x\":{\"field\":\"x\"},\"y\":{\"field\":\"y\"}},\"id\":\"1194\",\"type\":\"Line\"},{\"attributes\":{\"line_color\":\"#1f77b4\",\"line_width\":2.0,\"x\":{\"field\":\"x\"},\"y\":{\"field\":\"y\"}},\"id\":\"1193\",\"type\":\"Line\"},{\"attributes\":{},\"id\":\"1175\",\"type\":\"DataRange1d\"},{\"attributes\":{},\"id\":\"1224\",\"type\":\"Selection\"},{\"attributes\":{},\"id\":\"1177\",\"type\":\"DataRange1d\"},{\"attributes\":{\"axis\":{\"id\":\"1183\"},\"coordinates\":null,\"group\":null,\"ticker\":null},\"id\":\"1186\",\"type\":\"Grid\"},{\"attributes\":{},\"id\":\"1218\",\"type\":\"BasicTickFormatter\"},{\"attributes\":{},\"id\":\"1191\",\"type\":\"Toolbar\"},{\"attributes\":{},\"id\":\"1221\",\"type\":\"BasicTickFormatter\"},{\"attributes\":{\"coordinates\":null,\"group\":null,\"text\":\"Queuing latency vs. time\"},\"id\":\"1173\",\"type\":\"Title\"},{\"attributes\":{},\"id\":\"1223\",\"type\":\"UnionRenderers\"},{\"attributes\":{\"data\":{\"x\":{\"__ndarray__\":\"AAAAAAAAAAAAAAAAKAC6PwAAAADeCMo/AAAAAB2G0z8AAAAARgXaPwAAAIDWQOA/AAAAgLV/4z8AAACASb/mPwAAAADf/+k/AAAAgNM/7T8AAADAXT/wPwAAAMAO4PE/AAAAAJh/8z8AAABAvh31PwAAAIDPvfY/AAAAgPBd+D8AAADAhPz5PwAAAABgnPs/AAAAQDU8/T8AAACA99r+PwAAAEAvPQBAAAAAAFQNAUAAAAAASt0BQAAAAMBQrQJAAAAAgHZ8A0AAAABAyUsEQAAAACAGGwVAAAAAIGbrBUAAAADgZLsGQAAAAMBWiwdAAAAAoIVbCEAAAAAgjSsJQAAAAGCS+wlAAAAAgLHLCkAAAABg5ZsLQAAAAKDpagxAAAAAQE86DUAAAADgogkOQAAAAKD22Q5AAAAAABqqD0AAAABQIT0QQAAAAPCopBBAAAAA8KcMEUAAAAAwxXQRQAAAACDo3BFAAAAAMHhEEkAAAACgA6wSQAAAAAALFBNAAAAAwBN8E0AAAABwI+QTQAAAAGCoSxRAAAAAsCCzFEAAAACArBoVQAAAAKCughVAAAAAQHrqFUAAAADwBVIWQAAAAJDruRZAAAAA4PMhF0AAAABQHooXQAAAAKAm8hdAAAAAUEJaGEAAAADQKsIYQAAAAAAyKhlAAAAAQFiSGUAAAAAg6fkZQAAAAHCcYRpA\",\"dtype\":\"float64\",\"order\":\"little\",\"shape\":[66]},\"y\":{\"__ndarray__\":\"AAAAQP1WTUH2/WXUsrhcQbB3TA3v7lpBZHA+hvxrWEFEa2IS+upVQT6NsHRhW1NBzoWSWRCCUEF1Q5pHSUVLQZJ5SOYeUEZBQh3UwW2sQUE2kJNMPNA5QfNnfLEtLC9BexSuR/WZEUGZzmI6i+lJQNNZTGcxHUpAjbDc0whLSkCL6Syms5hHQH4E9xHcx0hABPcR3EdwSEAlSZIkSUJLQKuqqqqqqk1A5p5GWO6pSUDuI7iP4D5LQG7btm3bdklAlNdQXkN5SUAjLPc0wrJKQMJyTyMsN0lAymsor6G8R0BHWO5phCVHQA0ndV8e20VAZmZmZmZGSECh4aTuy+NIQMprKK+hPExAymsor6G8SkBu27Zt2zZNQHNPIyz3NE1A5p5GWO7pSEC2b1j7hrVMQDip+/LYiklAEpZ7GmG5SUDIVgQNJ/VNQFjuaYTlnkxAi+ksprMYSkC5pxGWe5pKQMprKK+hPEpAt23btm07S0CWexphuSdLQDaU11BeQ01Amc5iOovpS0C5pxGWexpNQJIkSZIk+UtAn0ZY7mkETEBDeQ3lNRRNQAAAAAAAgEdAfgT3EdzHSkD3EdxHcB9LQNhQXkN5DUlAEtxHcB/BSEAE9xHcR/BKQAnuI7iPYEtAPo2w3NMISkDLPY2w3FNLQMF9BPcRXEpACe4juI9gSkCfRljuaQRMQN3TCMs9TUpA\",\"dtype\":\"float64\",\"order\":\"little\",\"shape\":[66]}},\"selected\":{\"id\":\"1224\"},\"selection_policy\":{\"id\":\"1223\"}},\"id\":\"1192\",\"type\":\"ColumnDataSource\"},{\"attributes\":{},\"id\":\"1188\",\"type\":\"BasicTicker\"},{\"attributes\":{\"axis\":{\"id\":\"1187\"},\"coordinates\":null,\"dimension\":1,\"group\":null,\"ticker\":null},\"id\":\"1190\",\"type\":\"Grid\"},{\"attributes\":{},\"id\":\"1179\",\"type\":\"LinearScale\"},{\"attributes\":{},\"id\":\"1181\",\"type\":\"LinearScale\"},{\"attributes\":{\"source\":{\"id\":\"1192\"}},\"id\":\"1197\",\"type\":\"CDSView\"},{\"attributes\":{\"line_alpha\":0.2,\"line_color\":\"#1f77b4\",\"line_width\":2.0,\"x\":{\"field\":\"x\"},\"y\":{\"field\":\"y\"}},\"id\":\"1195\",\"type\":\"Line\"},{\"attributes\":{\"axis_label\":\"Time from start of monitoring [s]\",\"coordinates\":null,\"formatter\":{\"id\":\"1221\"},\"group\":null,\"major_label_policy\":{\"id\":\"1222\"},\"ticker\":{\"id\":\"1184\"}},\"id\":\"1183\",\"type\":\"LinearAxis\"},{\"attributes\":{\"coordinates\":null,\"data_source\":{\"id\":\"1192\"},\"glyph\":{\"id\":\"1193\"},\"group\":null,\"hover_glyph\":null,\"muted_glyph\":{\"id\":\"1195\"},\"nonselection_glyph\":{\"id\":\"1194\"},\"view\":{\"id\":\"1197\"}},\"id\":\"1196\",\"type\":\"GlyphRenderer\"}],\"root_ids\":[\"1172\"]},\"title\":\"Bokeh Application\",\"version\":\"2.4.3\"}};\n",
       "  const render_items = [{\"docid\":\"04ab6e66-ce4e-4740-a618-2051f434835e\",\"root_ids\":[\"1172\"],\"roots\":{\"1172\":\"502a7326-c386-4e4d-bf44-5d3e4f7f3bfb\"}}];\n",
       "  root.Bokeh.embed.embed_items_notebook(docs_json, render_items);\n",
       "  }\n",
       "  if (root.Bokeh !== undefined) {\n",
       "    embed_document(root);\n",
       "  } else {\n",
       "    let attempts = 0;\n",
       "    const timer = setInterval(function(root) {\n",
       "      if (root.Bokeh !== undefined) {\n",
       "        clearInterval(timer);\n",
       "        embed_document(root);\n",
       "      } else {\n",
       "        attempts++;\n",
       "        if (attempts > 100) {\n",
       "          clearInterval(timer);\n",
       "          console.log(\"Bokeh: ERROR: Unable to run BokehJS code because BokehJS library is missing\");\n",
       "        }\n",
       "      }\n",
       "    }, 10, root)\n",
       "  }\n",
       "})(window);"
      ],
      "application/vnd.bokehjs_exec.v0+json": ""
     },
     "metadata": {
      "application/vnd.bokehjs_exec.v0+json": {
       "id": "1172"
      }
     },
     "output_type": "display_data"
    }
   ],
   "source": [
    "p = figure(\n",
    "    title=\"Queuing latency vs. time\",\n",
    "    x_axis_label=\"Time from start of monitoring [s]\",\n",
    "    y_axis_label=\"Average queue latency in interval [us]\",\n",
    "    height=300,\n",
    "    width=600,\n",
    "    tools=\"\"\n",
    ")\n",
    "p.line(\n",
    "    df[\"Time since start (s)\"],\n",
    "    df[\"Average queue time (us)\"],\n",
    "    line_width=2.0\n",
    ")\n",
    "show(p)"
   ]
  },
  {
   "cell_type": "markdown",
   "id": "c93d52f8",
   "metadata": {},
   "source": [
    "Counterintuitively, our queue time starts off really high, then goes *down* over time! Moreover, the length of the x-axis, a little over 6 seconds, doesn't match up with the time delta we see between our logs above. What's going on here?\n",
    "\n",
    "It turns out that the first couple of inferences can often take substantially longer than the rest, as Triton tries to optimize the compute kernels used to actually perform inference. So while the first request is taking several seconds to process, an enormous queue builds up while we inundate the server with follow-ups. Meanwhile, the `ServerMonitor` doesn't start saving metrics until the server-side metrics service indicates that at least one inference has completed, which explains why we see a much shorter observation window.\n",
    "\n",
    "One trick to get around this in practice is to block until the first inference response comes back, then open the floodgates to the rest of our requests. Let's try this and then see what story our inference metrics tell us."
   ]
  },
  {
   "cell_type": "code",
   "execution_count": 15,
   "id": "8fb05d02",
   "metadata": {},
   "outputs": [
    {
     "name": "stdout",
     "output_type": "stream",
     "text": [
      "singularity -s instance start --nv /cvmfs/singularity.opensciencegrid.org/fastml/gwiaas.tritonserver:latest bloated_lentil_1869\n"
     ]
    },
    {
     "data": {
      "text/html": [
       "<pre style=\"white-space:pre;overflow-x:auto;line-height:normal;font-family:Menlo,'DejaVu Sans Mono',consolas,'Courier New',monospace\"><span style=\"color: #00ff00; text-decoration-color: #00ff00; font-weight: bold\">17:26:31</span>.<span style=\"color: #008080; text-decoration-color: #008080; font-weight: bold\">614</span>    Waiting for inference service to come online<span style=\"color: #808000; text-decoration-color: #808000\">...</span>                                                    \n",
       "</pre>\n"
      ],
      "text/plain": [
       "\u001b[1;92m17:26:31\u001b[0m.\u001b[1;36m614\u001b[0m    Waiting for inference service to come online\u001b[33m...\u001b[0m                                                    \n"
      ]
     },
     "metadata": {},
     "output_type": "display_data"
    },
    {
     "data": {
      "text/html": [
       "<pre style=\"white-space:pre;overflow-x:auto;line-height:normal;font-family:Menlo,'DejaVu Sans Mono',consolas,'Courier New',monospace\"><span style=\"color: #00ff00; text-decoration-color: #00ff00; font-weight: bold\">17:27:12</span>.<span style=\"color: #008080; text-decoration-color: #008080; font-weight: bold\">933</span>    Service ready!                                                                                     \n",
       "</pre>\n"
      ],
      "text/plain": [
       "\u001b[1;92m17:27:12\u001b[0m.\u001b[1;36m933\u001b[0m    Service ready!                                                                                     \n"
      ]
     },
     "metadata": {},
     "output_type": "display_data"
    },
    {
     "data": {
      "text/html": [
       "<pre style=\"white-space:pre;overflow-x:auto;line-height:normal;font-family:Menlo,'DejaVu Sans Mono',consolas,'Courier New',monospace\"><span style=\"color: #00ff00; text-decoration-color: #00ff00; font-weight: bold\">17:27:20</span>.<span style=\"color: #008080; text-decoration-color: #008080; font-weight: bold\">435</span>    First request completed                                                                            \n",
       "</pre>\n"
      ],
      "text/plain": [
       "\u001b[1;92m17:27:20\u001b[0m.\u001b[1;36m435\u001b[0m    First request completed                                                                            \n"
      ]
     },
     "metadata": {},
     "output_type": "display_data"
    },
    {
     "data": {
      "text/html": [
       "<pre style=\"white-space:pre;overflow-x:auto;line-height:normal;font-family:Menlo,'DejaVu Sans Mono',consolas,'Courier New',monospace\"><span style=\"color: #00ff00; text-decoration-color: #00ff00; font-weight: bold\">17:27:34</span>.<span style=\"color: #008080; text-decoration-color: #008080; font-weight: bold\">786</span>    Inference complete!                                                                                \n",
       "</pre>\n"
      ],
      "text/plain": [
       "\u001b[1;92m17:27:34\u001b[0m.\u001b[1;36m786\u001b[0m    Inference complete!                                                                                \n"
      ]
     },
     "metadata": {},
     "output_type": "display_data"
    }
   ],
   "source": [
    "callback = Callback(num_inferences)\n",
    "with serve(\"model-repo\", gpus=[0]) as instance:\n",
    "    logger.info(\"Waiting for inference service to come online...\")\n",
    "    instance.wait()\n",
    "    logger.info(\"Service ready!\")\n",
    "\n",
    "    client = InferenceClient(\n",
    "        \"localhost:8001\",\n",
    "        model_name=\"my-classifier\",\n",
    "        model_version=1,\n",
    "        callback=callback\n",
    "    )\n",
    "    monitor = ServerMonitor(\n",
    "        model_name=\"my-classifier\",\n",
    "        ips=\"localhost\",\n",
    "        filename=\"non-streaming_single-model-with-wait_server-stats.csv\",\n",
    "        model_version=1,\n",
    "        name=\"monitor\"\n",
    "    )\n",
    "\n",
    "    with client, monitor:\n",
    "        for i in range(int(num_inferences)):\n",
    "            start = i * inference_stride\n",
    "            stop = start + kernel_size\n",
    "            kernel = hoft[:, start: stop][None]\n",
    "\n",
    "            client.infer(kernel, request_id=i)\n",
    "            time.sleep(1 / INFERENCE_SAMPLING_RATE / INFERENCE_RATE)\n",
    "\n",
    "            if not i:\n",
    "                # you might imagine building a better callback with\n",
    "                # a more explicit/elegant mechanism for handling this\n",
    "                while not callback.y[0]:\n",
    "                    time.sleep(1e-3)\n",
    "                logger.info(\"First request completed\")\n",
    "\n",
    "        while True:\n",
    "            results = client.get()\n",
    "            if results is not None:\n",
    "                logger.info(\"Inference complete!\")\n",
    "                break"
   ]
  },
  {
   "cell_type": "code",
   "execution_count": 16,
   "id": "aeecf741",
   "metadata": {},
   "outputs": [
    {
     "data": {
      "text/html": [
       "<div>\n",
       "<style scoped>\n",
       "    .dataframe tbody tr th:only-of-type {\n",
       "        vertical-align: middle;\n",
       "    }\n",
       "\n",
       "    .dataframe tbody tr th {\n",
       "        vertical-align: top;\n",
       "    }\n",
       "\n",
       "    .dataframe thead th {\n",
       "        text-align: right;\n",
       "    }\n",
       "</style>\n",
       "<table border=\"1\" class=\"dataframe\">\n",
       "  <thead>\n",
       "    <tr style=\"text-align: right;\">\n",
       "      <th></th>\n",
       "      <th>Time since start (s)</th>\n",
       "      <th>Throughput (s' / s)</th>\n",
       "      <th>Average queue time (us)</th>\n",
       "      <th>Average infer time (us)</th>\n",
       "    </tr>\n",
       "  </thead>\n",
       "  <tbody>\n",
       "    <tr>\n",
       "      <th>0</th>\n",
       "      <td>0.000000</td>\n",
       "      <td>NaN</td>\n",
       "      <td>48.833333</td>\n",
       "      <td>311259.750000</td>\n",
       "    </tr>\n",
       "    <tr>\n",
       "      <th>1</th>\n",
       "      <td>0.101627</td>\n",
       "      <td>162.357869</td>\n",
       "      <td>47.606061</td>\n",
       "      <td>386.030303</td>\n",
       "    </tr>\n",
       "    <tr>\n",
       "      <th>2</th>\n",
       "      <td>0.203340</td>\n",
       "      <td>157.306186</td>\n",
       "      <td>49.578125</td>\n",
       "      <td>387.828125</td>\n",
       "    </tr>\n",
       "    <tr>\n",
       "      <th>3</th>\n",
       "      <td>0.304984</td>\n",
       "      <td>159.872023</td>\n",
       "      <td>50.076923</td>\n",
       "      <td>379.446154</td>\n",
       "    </tr>\n",
       "    <tr>\n",
       "      <th>4</th>\n",
       "      <td>0.406557</td>\n",
       "      <td>159.983475</td>\n",
       "      <td>53.507692</td>\n",
       "      <td>375.384615</td>\n",
       "    </tr>\n",
       "    <tr>\n",
       "      <th>...</th>\n",
       "      <td>...</td>\n",
       "      <td>...</td>\n",
       "      <td>...</td>\n",
       "      <td>...</td>\n",
       "    </tr>\n",
       "    <tr>\n",
       "      <th>137</th>\n",
       "      <td>13.885181</td>\n",
       "      <td>138.503583</td>\n",
       "      <td>54.696429</td>\n",
       "      <td>401.035714</td>\n",
       "    </tr>\n",
       "    <tr>\n",
       "      <th>138</th>\n",
       "      <td>13.986419</td>\n",
       "      <td>138.287978</td>\n",
       "      <td>55.178571</td>\n",
       "      <td>453.892857</td>\n",
       "    </tr>\n",
       "    <tr>\n",
       "      <th>139</th>\n",
       "      <td>14.087929</td>\n",
       "      <td>137.916734</td>\n",
       "      <td>56.303571</td>\n",
       "      <td>397.660714</td>\n",
       "    </tr>\n",
       "    <tr>\n",
       "      <th>140</th>\n",
       "      <td>14.189511</td>\n",
       "      <td>140.282006</td>\n",
       "      <td>57.157895</td>\n",
       "      <td>406.701754</td>\n",
       "    </tr>\n",
       "    <tr>\n",
       "      <th>141</th>\n",
       "      <td>14.290870</td>\n",
       "      <td>140.588550</td>\n",
       "      <td>56.157895</td>\n",
       "      <td>396.140351</td>\n",
       "    </tr>\n",
       "  </tbody>\n",
       "</table>\n",
       "<p>142 rows × 4 columns</p>\n",
       "</div>"
      ],
      "text/plain": [
       "     Time since start (s)  Throughput (s' / s)  Average queue time (us)  \\\n",
       "0                0.000000                  NaN                48.833333   \n",
       "1                0.101627           162.357869                47.606061   \n",
       "2                0.203340           157.306186                49.578125   \n",
       "3                0.304984           159.872023                50.076923   \n",
       "4                0.406557           159.983475                53.507692   \n",
       "..                    ...                  ...                      ...   \n",
       "137             13.885181           138.503583                54.696429   \n",
       "138             13.986419           138.287978                55.178571   \n",
       "139             14.087929           137.916734                56.303571   \n",
       "140             14.189511           140.282006                57.157895   \n",
       "141             14.290870           140.588550                56.157895   \n",
       "\n",
       "     Average infer time (us)  \n",
       "0              311259.750000  \n",
       "1                 386.030303  \n",
       "2                 387.828125  \n",
       "3                 379.446154  \n",
       "4                 375.384615  \n",
       "..                       ...  \n",
       "137               401.035714  \n",
       "138               453.892857  \n",
       "139               397.660714  \n",
       "140               406.701754  \n",
       "141               396.140351  \n",
       "\n",
       "[142 rows x 4 columns]"
      ]
     },
     "execution_count": 16,
     "metadata": {},
     "output_type": "execute_result"
    }
   ],
   "source": [
    "df = pd.read_csv(\"non-streaming_single-model-with-wait_server-stats.csv\")\n",
    "\n",
    "# go through our preparation steps\n",
    "df[\"Time since start (s)\"] = df[\"timestamp\"] - df[\"timestamp\"][0]\n",
    "df[\"Average queue time (us)\"] = df[\"queue\"] / df[\"count\"]\n",
    "infer_time = df[[f\"compute_{i}\" for i in [\"input\", \"infer\", \"output\"]]].sum(axis=1)\n",
    "df[\"Average infer time (us)\"] = infer_time / df[\"count\"]\n",
    "df[\"Throughput (s' / s)\"] = df[\"count\"] / df[\"timestamp\"].diff() / INFERENCE_SAMPLING_RATE\n",
    "\n",
    "df = df[[\n",
    "    \"Time since start (s)\",\n",
    "    \"Throughput (s' / s)\",\n",
    "    \"Average queue time (us)\",\n",
    "    \"Average infer time (us)\"\n",
    "]]\n",
    "df"
   ]
  },
  {
   "cell_type": "code",
   "execution_count": 17,
   "id": "2ad2f8e8",
   "metadata": {},
   "outputs": [
    {
     "data": {
      "text/html": [
       "\n",
       "  <div class=\"bk-root\" id=\"97a08d78-d97d-4b00-9b51-39196a349408\" data-root-id=\"1270\"></div>\n"
      ]
     },
     "metadata": {},
     "output_type": "display_data"
    },
    {
     "data": {
      "application/javascript": [
       "(function(root) {\n",
       "  function embed_document(root) {\n",
       "  const docs_json = {\"b3e274cf-2da4-4de7-95f4-547a91f57900\":{\"defs\":[],\"roots\":{\"references\":[{\"attributes\":{\"below\":[{\"id\":\"1281\"}],\"center\":[{\"id\":\"1284\"},{\"id\":\"1288\"}],\"height\":300,\"left\":[{\"id\":\"1285\"}],\"renderers\":[{\"id\":\"1294\"}],\"title\":{\"id\":\"1271\"},\"toolbar\":{\"id\":\"1289\"},\"x_range\":{\"id\":\"1273\"},\"x_scale\":{\"id\":\"1277\"},\"y_range\":{\"id\":\"1275\"},\"y_scale\":{\"id\":\"1279\"}},\"id\":\"1270\",\"subtype\":\"Figure\",\"type\":\"Plot\"},{\"attributes\":{\"coordinates\":null,\"data_source\":{\"id\":\"1290\"},\"glyph\":{\"id\":\"1291\"},\"group\":null,\"hover_glyph\":null,\"muted_glyph\":{\"id\":\"1293\"},\"nonselection_glyph\":{\"id\":\"1292\"},\"view\":{\"id\":\"1295\"}},\"id\":\"1294\",\"type\":\"GlyphRenderer\"},{\"attributes\":{\"line_alpha\":0.2,\"line_color\":\"#1f77b4\",\"line_width\":2.0,\"x\":{\"field\":\"x\"},\"y\":{\"field\":\"y\"}},\"id\":\"1293\",\"type\":\"Line\"},{\"attributes\":{\"line_alpha\":0.1,\"line_color\":\"#1f77b4\",\"line_width\":2.0,\"x\":{\"field\":\"x\"},\"y\":{\"field\":\"y\"}},\"id\":\"1292\",\"type\":\"Line\"},{\"attributes\":{},\"id\":\"1277\",\"type\":\"LinearScale\"},{\"attributes\":{\"axis\":{\"id\":\"1285\"},\"coordinates\":null,\"dimension\":1,\"group\":null,\"ticker\":null},\"id\":\"1288\",\"type\":\"Grid\"},{\"attributes\":{},\"id\":\"1275\",\"type\":\"DataRange1d\"},{\"attributes\":{\"axis_label\":\"Time from start of monitoring [s]\",\"coordinates\":null,\"formatter\":{\"id\":\"1328\"},\"group\":null,\"major_label_policy\":{\"id\":\"1329\"},\"ticker\":{\"id\":\"1282\"}},\"id\":\"1281\",\"type\":\"LinearAxis\"},{\"attributes\":{},\"id\":\"1279\",\"type\":\"LinearScale\"},{\"attributes\":{},\"id\":\"1273\",\"type\":\"DataRange1d\"},{\"attributes\":{},\"id\":\"1282\",\"type\":\"BasicTicker\"},{\"attributes\":{\"line_color\":\"#1f77b4\",\"line_width\":2.0,\"x\":{\"field\":\"x\"},\"y\":{\"field\":\"y\"}},\"id\":\"1291\",\"type\":\"Line\"},{\"attributes\":{\"data\":{\"x\":{\"__ndarray__\":\"AAAAAEAEuj8AAAAACgfKPwAAAADahNM/AAAAAAYF2j8AAAAAtkHgPwAAAID+fuM/AAAAgCq85j8AAACAU/rpPwAAAICiOu0/AAAAAK088D8AAABA6drxPwAAAECeevM/AAAAAD4a9T8AAACAAbj2PwAAAIDMVfg/AAAAQMD0+T8AAABAtpT7PwAAAICUNP0/AAAAQIXU/j8AAADgNDkAQAAAAOCGCAFAAAAAIKPXAUAAAACghqcCQAAAAMA7dwNAAAAAgBtGBEAAAADAMRUFQAAAAODI5AVAAAAAAMi0BkAAAAAgCoQHQAAAAABAUwhAAAAA4B4iCUAAAADg+PAJQAAAAOANwApAAAAAABiPC0AAAADAQF4MQAAAAOBCLQ1AAAAAILH8DUAAAABAB8wOQAAAAIDsmw9AAAAAAAI2EEAAAACg350QQAAAAOBOBRFAAAAAUONsEUAAAADgkdQRQAAAAEBwPBJAAAAAIGikEkAAAAAgGgwTQAAAAADZcxNAAAAAQG/bE0AAAACASkMUQAAAALA1qxRAAAAAIAITFUAAAABA3HoVQAAAAECa4hVAAAAAQC5KFkAAAABAGrIWQAAAANCqGRdAAAAA0KKBF0AAAADAxekXQAAAALCuURhAAAAAkEG5GEAAAAAAVCEZQAAAAEBCiRlAAAAAQB7xGUAAAAAwF1kaQAAAANALwRpAAAAAYOooG0AAAACQ2JAbQAAAALC9+BtAAAAAcJlgHEAAAACALMgcQAAAANAEMB1AAAAAwPWXHUAAAADg6v8dQAAAALBfZx5AAAAAwNrOHkAAAABQCzcfQAAAAPATnx9AAAAAmMMDIEAAAADQsjcgQAAAAHhqayBAAAAA6FSfIEAAAACwZtMgQAAAALhlByFAAAAAiFE7IUAAAADIDW8hQAAAAJjNoiFAAAAAaL3WIUAAAACIswoiQAAAAKioPiJAAAAAKJByIkAAAADgTaYiQAAAAGhM2iJAAAAAyAoOI0AAAACA/kEjQAAAAGj3dSNAAAAAcLOpI0AAAAAQdt0jQAAAALBiESRAAAAAqFVFJEAAAAAgNXkkQAAAAFBCrSRAAAAAMDPhJEAAAACAPhUlQAAAAOhPSSVAAAAAoE99JUAAAACwZLElQAAAAFAc5SVAAAAAmAUZJkAAAAAo8UwmQAAAADD7gCZAAAAACPG0JkAAAABwm+gmQAAAAKhVHCdAAAAAgCdQJ0AAAAAA+YMnQAAAAGiytydAAAAAwF/rJ0AAAAAINR8oQAAAAEgrUyhAAAAAuCmHKEAAAADgI7soQAAAAEgo7yhAAAAAqOUiKUAAAABwuFYpQAAAAAB6iilAAAAAkDK+KUAAAADII/IpQAAAAMDwJSpAAAAAEOtZKkAAAABw4o0qQAAAAOjEwSpAAAAA+Nn1KkAAAADopikrQAAAAJi0XStAAAAAoHWRK0AAAABwNsUrQAAAAOgL+StAAAAAGAUtLEAAAACIB2EsQAAAAPDslCxA\",\"dtype\":\"float64\",\"order\":\"little\",\"shape\":[141]},\"y\":{\"__ndarray__\":\"TjbZZJPNR0AAAAAAAMpIQJ7YiZ3YCUlAEPzAD/zASkBVVVVVVVVLQEdY7mmEZUxA4T6C+whuS0BaTGcxnUVKQHwaYbmnUUlA7mmE5Z7GS0AWQcNJ3RdMQGM6i+ksJkdA2FBeQ3mNSkAs9zTCcs9KQBphuacR1ktAncV0FtPZS0A6i+ksprNLQGqE5Z5GGEpAdRbTWUxnS0DhPoL7CO5JQExnMZ3F9EpA4T6C+whuSEAAAAAAAJBDQPcR3Edwn0NAxnQW01nMSkAAAAAAAABLQHUW01lMZ0xA9xHcR3CfQ0C3bdu2bVtBQA3lNZTX0ENAWO5phOUeQEDbtm3btj1DQEmSJEmSdENADmvfsPaNQ0C9hvIaymtEQMZ0FtNZzEJAfBphuaeRQ0B5DeU1lNdFQCS4j+A+gkpAfBphuaeRSkA1wnJPI2xKQMprKK+hPEhAJLiP4D4CSkCivIbyGspKQJIkSZIk6UtABXlKkKcER0DuI7iP4D5FQAnuI7iPYENAoryG8hpKR0AaYbmnEdZDQF8eWxE0HEhAXDIE62hzSUDQcFL35TFHQCIiIiIiAkhAjbDc0wiLSkDUCMs9jTBJQCz3NMJyD0pACcs9jbDcSUBHWO5phGVJQBKWexphuUpAOKn78tgKTUDqLKazmM5LQEdY7mmEpUpA7mmE5Z5GS0DmnkZY7mlLQMs9jbDcE0dAWkxnMZ3FQkD3NMJyT+NDQA3lNZTXUExA1AjLPY3wS0AAAAAAAIBIQG7btm3bJkRAzGMrgoYTRkBJkiRJksRMQLmnEZZ7GktAj60IGk5qSkDqvjy2ImhLQErdl8dWhEtApe7LYysCRUA1wnJPI+xDQN2Xx1YEjURAPo2w3NOISEAjaDip+/JKQH4E9xHcR0tAlnsaYblnSkB3d3d3dxdLQOKk7stjq0pAMZ3FdBZTREAAAAAAACBNQLmnEZZ7WktAfBphuaeRS0CSJEmSJHlNQDGdxXQW00pAq6qqqqoqTUCE5Z5GWC5MQPwI7iO4D0xAhOWeRlhuSkA1wnJPI6xJQN3TCMs9TUtAZzGdxXSWS0BVVVVVVVVKQK4IGk7qPkpA9zTCck8jS0C5pxGWe5pJQEXQcFL35URA/AjuI7iPS0AW01lMZzFKQE8jLPc0AktAkOA+gvsISkC3bdu2bUtLQFVVVVVVVUpAwnJPIyw3S0BnMZ3FdJZLQHAfwX0Ed0pAPo2w3NNITkB8GmG5p1FKQD+C+wjuo0tA4T6C+whuTECoEZZ7GiFLQH55bEXQcElAdRbTWUznSEAs9zTCck9MQNxHcB/BfUxAAAAAAADASkA/gvsI7iNLQJnOYjqL6UlAjbDc0wiLSUCQ4D6C+4hLQKgRlnsaIUpAsdzTCMs9SUBzTyMs9zRKQIL7CO4jOEpA3EdwH8F9S0C0mM5iOgtLQGG5pxGWe0tAz2I6i+ksSkCSJEmSJFlLQG7btm3blktAbtu2bdsmTEBDeQ3lNZRMQEN5DeU1FExA\",\"dtype\":\"float64\",\"order\":\"little\",\"shape\":[141]}},\"selected\":{\"id\":\"1331\"},\"selection_policy\":{\"id\":\"1330\"}},\"id\":\"1290\",\"type\":\"ColumnDataSource\"},{\"attributes\":{},\"id\":\"1289\",\"type\":\"Toolbar\"},{\"attributes\":{\"coordinates\":null,\"group\":null,\"text\":\"Queuing latency vs. time\"},\"id\":\"1271\",\"type\":\"Title\"},{\"attributes\":{\"source\":{\"id\":\"1290\"}},\"id\":\"1295\",\"type\":\"CDSView\"},{\"attributes\":{\"axis_label\":\"Average queue latency in interval [us]\",\"coordinates\":null,\"formatter\":{\"id\":\"1325\"},\"group\":null,\"major_label_policy\":{\"id\":\"1326\"},\"ticker\":{\"id\":\"1286\"}},\"id\":\"1285\",\"type\":\"LinearAxis\"},{\"attributes\":{},\"id\":\"1329\",\"type\":\"AllLabels\"},{\"attributes\":{\"axis\":{\"id\":\"1281\"},\"coordinates\":null,\"group\":null,\"ticker\":null},\"id\":\"1284\",\"type\":\"Grid\"},{\"attributes\":{},\"id\":\"1325\",\"type\":\"BasicTickFormatter\"},{\"attributes\":{},\"id\":\"1286\",\"type\":\"BasicTicker\"},{\"attributes\":{},\"id\":\"1331\",\"type\":\"Selection\"},{\"attributes\":{},\"id\":\"1328\",\"type\":\"BasicTickFormatter\"},{\"attributes\":{},\"id\":\"1330\",\"type\":\"UnionRenderers\"},{\"attributes\":{},\"id\":\"1326\",\"type\":\"AllLabels\"}],\"root_ids\":[\"1270\"]},\"title\":\"Bokeh Application\",\"version\":\"2.4.3\"}};\n",
       "  const render_items = [{\"docid\":\"b3e274cf-2da4-4de7-95f4-547a91f57900\",\"root_ids\":[\"1270\"],\"roots\":{\"1270\":\"97a08d78-d97d-4b00-9b51-39196a349408\"}}];\n",
       "  root.Bokeh.embed.embed_items_notebook(docs_json, render_items);\n",
       "  }\n",
       "  if (root.Bokeh !== undefined) {\n",
       "    embed_document(root);\n",
       "  } else {\n",
       "    let attempts = 0;\n",
       "    const timer = setInterval(function(root) {\n",
       "      if (root.Bokeh !== undefined) {\n",
       "        clearInterval(timer);\n",
       "        embed_document(root);\n",
       "      } else {\n",
       "        attempts++;\n",
       "        if (attempts > 100) {\n",
       "          clearInterval(timer);\n",
       "          console.log(\"Bokeh: ERROR: Unable to run BokehJS code because BokehJS library is missing\");\n",
       "        }\n",
       "      }\n",
       "    }, 10, root)\n",
       "  }\n",
       "})(window);"
      ],
      "application/vnd.bokehjs_exec.v0+json": ""
     },
     "metadata": {
      "application/vnd.bokehjs_exec.v0+json": {
       "id": "1270"
      }
     },
     "output_type": "display_data"
    }
   ],
   "source": [
    "p = figure(\n",
    "    title=\"Queuing latency vs. time\",\n",
    "    x_axis_label=\"Time from start of monitoring [s]\",\n",
    "    y_axis_label=\"Average queue latency in interval [us]\",\n",
    "    height=300,\n",
    "    width=600,\n",
    "    tools=\"\"\n",
    ")\n",
    "p.line(\n",
    "    df[\"Time since start (s)\"].loc[1:],\n",
    "    df[\"Average queue time (us)\"].loc[1:],\n",
    "    line_width=2.0\n",
    ")\n",
    "show(p)"
   ]
  },
  {
   "cell_type": "markdown",
   "id": "c9d6b98d",
   "metadata": {},
   "source": [
    "There's a couple interesting takeaways here. First and foremost is that even though we're unable to hit our target throughput, the queue latency for our model stays largely constant as a function of time. This tells us that our neural network's throughput capacity is not being saturated: we're not getting data to it fast enough, and so it's not the bottleneck in our pipeline.\n",
    "\n",
    "We can also see this from the fact that our average throughput matches the total throughput we saw above even when we had the first request bottlenecking our pipeline: once the first request cleared, the network was able to tear through our data faster than we could replenish the queue with new requests, and so the total time taken was purely a function of how quickly we could send requests to the server.\n",
    "\n",
    "So with this in mind, what's the existing bottleneck and how do we alleviate it? Well, think about what happened when we went from `INFERENCE_SAMPLING_RATE = 1 / KERNEL_LENGTH` to `INFERENCE_SAMPLING_RATE = KERNEL_LENGTH`: we're continuing to send `KERNEL_LENGTH`-long windows of data to the inference service with each request, but now we're doing it 16 times as often per second, with largely redundant data! It's this network I/O that's bottlenecking our pipeline now.\n",
    "\n",
    "To alleviate this, we'll need to build a model on the server-side which can cache data we've already sent and build the windows we need with exclusively *new* data and pass these along to our neural network. `hermes.quiver` has built-in support for constructing such a **model ensemble** by adding in a \"snapshotter\" model on the front-end of the server which maintains the state of the most recent input snapshot."
   ]
  },
  {
   "cell_type": "code",
   "execution_count": 18,
   "id": "b9fd80c4",
   "metadata": {},
   "outputs": [
    {
     "data": {
      "text/plain": [
       "'streaming-classifier/1/model.empty'"
      ]
     },
     "execution_count": 18,
     "metadata": {},
     "output_type": "execute_result"
    }
   ],
   "source": [
    "# add a new meta-model to the repository that organizes\n",
    "# graphs of existing models to pass outputs from one\n",
    "# as inputs to the next\n",
    "ensemble = repo.add(\"streaming-classifier\", platform=qv.Platform.ENSEMBLE)\n",
    "\n",
    "# insert a snapshotter model at the front of this ensemble\n",
    "# whose output will be passed to the input of my-classifier\n",
    "classifier = repo.models[\"my-classifier\"]\n",
    "ensemble.add_streaming_inputs(\n",
    "    classifier.inputs[\"hoft\"],\n",
    "    stream_size=inference_stride,\n",
    "    batch_size=1\n",
    ")\n",
    "\n",
    "# we know our first request takes ~12s, so make\n",
    "# sure that the snapshotter will maintain a state\n",
    "# for longer than this\n",
    "snapshotter = repo.models[\"snapshotter\"]\n",
    "snapshotter.config.sequence_batching.max_sequence_idle_microseconds = int(25 * 10**6)\n",
    "snapshotter.config.write()\n",
    "\n",
    "# mark the output of our classifier as the output\n",
    "# of the whole ensemble and then export a \"version\"\n",
    "# of the ensemble (basically just writes its config)\n",
    "ensemble.add_output(classifier.outputs[\"prob\"])\n",
    "ensemble.export_version(None)"
   ]
  },
  {
   "cell_type": "markdown",
   "id": "db7e951a",
   "metadata": {},
   "source": [
    "Now we can run inference on our streaming model and only send the updates we need for each request, rather than the entire window!"
   ]
  },
  {
   "cell_type": "code",
   "execution_count": 19,
   "id": "7bcf14b8",
   "metadata": {},
   "outputs": [
    {
     "name": "stdout",
     "output_type": "stream",
     "text": [
      "singularity -s instance start --nv /cvmfs/singularity.opensciencegrid.org/fastml/gwiaas.tritonserver:latest gloopy_lettuce_8926\n"
     ]
    },
    {
     "data": {
      "text/html": [
       "<pre style=\"white-space:pre;overflow-x:auto;line-height:normal;font-family:Menlo,'DejaVu Sans Mono',consolas,'Courier New',monospace\"><span style=\"color: #00ff00; text-decoration-color: #00ff00; font-weight: bold\">17:27:38</span>.<span style=\"color: #008080; text-decoration-color: #008080; font-weight: bold\">069</span>    Waiting for inference service to come online<span style=\"color: #808000; text-decoration-color: #808000\">...</span>                                                    \n",
       "</pre>\n"
      ],
      "text/plain": [
       "\u001b[1;92m17:27:38\u001b[0m.\u001b[1;36m069\u001b[0m    Waiting for inference service to come online\u001b[33m...\u001b[0m                                                    \n"
      ]
     },
     "metadata": {},
     "output_type": "display_data"
    },
    {
     "data": {
      "text/html": [
       "<pre style=\"white-space:pre;overflow-x:auto;line-height:normal;font-family:Menlo,'DejaVu Sans Mono',consolas,'Courier New',monospace\"><span style=\"color: #00ff00; text-decoration-color: #00ff00; font-weight: bold\">17:28:20</span>.<span style=\"color: #008080; text-decoration-color: #008080; font-weight: bold\">647</span>    Service ready!                                                                                     \n",
       "</pre>\n"
      ],
      "text/plain": [
       "\u001b[1;92m17:28:20\u001b[0m.\u001b[1;36m647\u001b[0m    Service ready!                                                                                     \n"
      ]
     },
     "metadata": {},
     "output_type": "display_data"
    },
    {
     "data": {
      "text/html": [
       "<pre style=\"white-space:pre;overflow-x:auto;line-height:normal;font-family:Menlo,'DejaVu Sans Mono',consolas,'Courier New',monospace\"><span style=\"color: #00ff00; text-decoration-color: #00ff00; font-weight: bold\">17:28:28</span>.<span style=\"color: #008080; text-decoration-color: #008080; font-weight: bold\">081</span>    First request completed                                                                            \n",
       "</pre>\n"
      ],
      "text/plain": [
       "\u001b[1;92m17:28:28\u001b[0m.\u001b[1;36m081\u001b[0m    First request completed                                                                            \n"
      ]
     },
     "metadata": {},
     "output_type": "display_data"
    },
    {
     "data": {
      "text/html": [
       "<pre style=\"white-space:pre;overflow-x:auto;line-height:normal;font-family:Menlo,'DejaVu Sans Mono',consolas,'Courier New',monospace\"><span style=\"color: #00ff00; text-decoration-color: #00ff00; font-weight: bold\">17:28:38</span>.<span style=\"color: #008080; text-decoration-color: #008080; font-weight: bold\">612</span>    Inference complete!                                                                                \n",
       "</pre>\n"
      ],
      "text/plain": [
       "\u001b[1;92m17:28:38\u001b[0m.\u001b[1;36m612\u001b[0m    Inference complete!                                                                                \n"
      ]
     },
     "metadata": {},
     "output_type": "display_data"
    }
   ],
   "source": [
    "# keep our inference results from earlier to\n",
    "# verify that this implementation comes out the same\n",
    "nonstreaming_results = results\n",
    "\n",
    "# we need to do more inferences this time, since\n",
    "# the snapshot state gets initialized to 0s, so the\n",
    "# first KERNEL_LENGTH * INFERENCE_SAMPLING_RATE updates\n",
    "# just function to fill the snapshot out\n",
    "num_inferences = inference_data_size // inference_stride\n",
    "callback = Callback(num_inferences)\n",
    "with serve(\"model-repo\", gpus=[0]) as instance:\n",
    "    logger.info(\"Waiting for inference service to come online...\")\n",
    "    instance.wait()\n",
    "    logger.info(\"Service ready!\")\n",
    "\n",
    "    client = InferenceClient(\n",
    "        \"localhost:8001\",\n",
    "        model_name=\"streaming-classifier\",\n",
    "        model_version=1,\n",
    "        callback=callback\n",
    "    )\n",
    "    monitor = ServerMonitor(\n",
    "        model_name=\"streaming-classifier\",\n",
    "        ips=\"localhost\",\n",
    "        filename=\"streaming_single-model_server-stats.csv\",\n",
    "        model_version=1,\n",
    "        name=\"monitor\"\n",
    "    )\n",
    "\n",
    "    with client, monitor:\n",
    "        for i in range(int(num_inferences)):\n",
    "            start = i * inference_stride\n",
    "            stop = start + inference_stride  # note the smaller slice\n",
    "            kernel = hoft[:, start: stop]\n",
    "\n",
    "            # provide some additional information to\n",
    "            # the inference server to allow us to keep\n",
    "            # track of multiple different streams\n",
    "            client.infer(\n",
    "                kernel,\n",
    "                request_id=i,\n",
    "                sequence_id=1001,\n",
    "                sequence_start=i == 0,\n",
    "                sequence_end=(i + 1) == num_inferences\n",
    "            )\n",
    "            time.sleep(1 / INFERENCE_SAMPLING_RATE / INFERENCE_RATE)\n",
    "\n",
    "            if not i:\n",
    "                while not callback.y[0]:\n",
    "                    time.sleep(1e-3)\n",
    "                logger.info(\"First request completed\")\n",
    "\n",
    "        while True:\n",
    "            results = client.get()\n",
    "            if results is not None:\n",
    "                logger.info(\"Inference complete!\")\n",
    "                break\n",
    "\n",
    "results = results[int(KERNEL_LENGTH * INFERENCE_SAMPLING_RATE) - 1:]\n",
    "assert (results == nonstreaming_results).all()"
   ]
  },
  {
   "cell_type": "code",
   "execution_count": 20,
   "id": "241f9e7f",
   "metadata": {},
   "outputs": [
    {
     "data": {
      "text/html": [
       "\n",
       "  <div class=\"bk-root\" id=\"6dae7bf6-496c-411c-a128-52e2d6ee45ba\" data-root-id=\"1377\"></div>\n"
      ]
     },
     "metadata": {},
     "output_type": "display_data"
    },
    {
     "data": {
      "application/javascript": [
       "(function(root) {\n",
       "  function embed_document(root) {\n",
       "  const docs_json = {\"1eddaebe-3a40-48f1-90b2-745d9865c46b\":{\"defs\":[],\"roots\":{\"references\":[{\"attributes\":{\"below\":[{\"id\":\"1388\"}],\"center\":[{\"id\":\"1391\"},{\"id\":\"1395\"}],\"height\":300,\"left\":[{\"id\":\"1392\"}],\"renderers\":[{\"id\":\"1401\"}],\"title\":{\"id\":\"1378\"},\"toolbar\":{\"id\":\"1396\"},\"x_range\":{\"id\":\"1380\"},\"x_scale\":{\"id\":\"1384\"},\"y_range\":{\"id\":\"1382\"},\"y_scale\":{\"id\":\"1386\"}},\"id\":\"1377\",\"subtype\":\"Figure\",\"type\":\"Plot\"},{\"attributes\":{},\"id\":\"1446\",\"type\":\"UnionRenderers\"},{\"attributes\":{},\"id\":\"1445\",\"type\":\"AllLabels\"},{\"attributes\":{},\"id\":\"1384\",\"type\":\"LinearScale\"},{\"attributes\":{},\"id\":\"1393\",\"type\":\"BasicTicker\"},{\"attributes\":{\"axis_label\":\"Time from start [s]\",\"coordinates\":null,\"formatter\":{\"id\":\"1444\"},\"group\":null,\"major_label_policy\":{\"id\":\"1445\"},\"ticker\":{\"id\":\"1389\"}},\"id\":\"1388\",\"type\":\"LinearAxis\"},{\"attributes\":{},\"id\":\"1380\",\"type\":\"DataRange1d\"},{\"attributes\":{},\"id\":\"1447\",\"type\":\"Selection\"},{\"attributes\":{\"coordinates\":null,\"data_source\":{\"id\":\"1397\"},\"glyph\":{\"id\":\"1398\"},\"group\":null,\"hover_glyph\":null,\"muted_glyph\":{\"id\":\"1400\"},\"nonselection_glyph\":{\"id\":\"1399\"},\"view\":{\"id\":\"1402\"}},\"id\":\"1401\",\"type\":\"GlyphRenderer\"},{\"attributes\":{},\"id\":\"1441\",\"type\":\"BasicTickFormatter\"},{\"attributes\":{},\"id\":\"1382\",\"type\":\"DataRange1d\"},{\"attributes\":{},\"id\":\"1444\",\"type\":\"BasicTickFormatter\"},{\"attributes\":{\"axis\":{\"id\":\"1392\"},\"coordinates\":null,\"dimension\":1,\"group\":null,\"ticker\":null},\"id\":\"1395\",\"type\":\"Grid\"},{\"attributes\":{\"line_color\":\"#1f77b4\",\"line_width\":2.0,\"x\":{\"field\":\"x\"},\"y\":{\"field\":\"y\"}},\"id\":\"1398\",\"type\":\"Line\"},{\"attributes\":{},\"id\":\"1386\",\"type\":\"LinearScale\"},{\"attributes\":{\"source\":{\"id\":\"1397\"}},\"id\":\"1402\",\"type\":\"CDSView\"},{\"attributes\":{\"line_alpha\":0.2,\"line_color\":\"#1f77b4\",\"line_width\":2.0,\"x\":{\"field\":\"x\"},\"y\":{\"field\":\"y\"}},\"id\":\"1400\",\"type\":\"Line\"},{\"attributes\":{\"line_alpha\":0.1,\"line_color\":\"#1f77b4\",\"line_width\":2.0,\"x\":{\"field\":\"x\"},\"y\":{\"field\":\"y\"}},\"id\":\"1399\",\"type\":\"Line\"},{\"attributes\":{},\"id\":\"1396\",\"type\":\"Toolbar\"},{\"attributes\":{\"data\":{\"x\":{\"__ndarray__\":\"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\",\"dtype\":\"float64\",\"order\":\"little\",\"shape\":[8192]},\"y\":{\"__ndarray__\":\"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\",\"dtype\":\"float64\",\"order\":\"little\",\"shape\":[8177]}},\"selected\":{\"id\":\"1447\"},\"selection_policy\":{\"id\":\"1446\"}},\"id\":\"1397\",\"type\":\"ColumnDataSource\"},{\"attributes\":{},\"id\":\"1389\",\"type\":\"BasicTicker\"},{\"attributes\":{},\"id\":\"1442\",\"type\":\"AllLabels\"},{\"attributes\":{\"axis\":{\"id\":\"1388\"},\"coordinates\":null,\"group\":null,\"ticker\":null},\"id\":\"1391\",\"type\":\"Grid\"},{\"attributes\":{\"coordinates\":null,\"group\":null,\"text\":\"Network response vs. time\"},\"id\":\"1378\",\"type\":\"Title\"},{\"attributes\":{\"axis_label\":\"NN Output\",\"coordinates\":null,\"formatter\":{\"id\":\"1441\"},\"group\":null,\"major_label_policy\":{\"id\":\"1442\"},\"ticker\":{\"id\":\"1393\"}},\"id\":\"1392\",\"type\":\"LinearAxis\"}],\"root_ids\":[\"1377\"]},\"title\":\"Bokeh Application\",\"version\":\"2.4.3\"}};\n",
       "  const render_items = [{\"docid\":\"1eddaebe-3a40-48f1-90b2-745d9865c46b\",\"root_ids\":[\"1377\"],\"roots\":{\"1377\":\"6dae7bf6-496c-411c-a128-52e2d6ee45ba\"}}];\n",
       "  root.Bokeh.embed.embed_items_notebook(docs_json, render_items);\n",
       "  }\n",
       "  if (root.Bokeh !== undefined) {\n",
       "    embed_document(root);\n",
       "  } else {\n",
       "    let attempts = 0;\n",
       "    const timer = setInterval(function(root) {\n",
       "      if (root.Bokeh !== undefined) {\n",
       "        clearInterval(timer);\n",
       "        embed_document(root);\n",
       "      } else {\n",
       "        attempts++;\n",
       "        if (attempts > 100) {\n",
       "          clearInterval(timer);\n",
       "          console.log(\"Bokeh: ERROR: Unable to run BokehJS code because BokehJS library is missing\");\n",
       "        }\n",
       "      }\n",
       "    }, 10, root)\n",
       "  }\n",
       "})(window);"
      ],
      "application/vnd.bokehjs_exec.v0+json": ""
     },
     "metadata": {
      "application/vnd.bokehjs_exec.v0+json": {
       "id": "1377"
      }
     },
     "output_type": "display_data"
    }
   ],
   "source": [
    "p = figure(\n",
    "    title=\"Network response vs. time\",\n",
    "    x_axis_label=\"Time from start [s]\",\n",
    "    y_axis_label=\"NN Output\",\n",
    "    width=600,\n",
    "    height=300,\n",
    "    tools=\"\",\n",
    ")\n",
    "times = np.arange(num_inferences) / INFERENCE_SAMPLING_RATE\n",
    "times += KERNEL_LENGTH\n",
    "\n",
    "p.line(times, results, line_width=2.0)\n",
    "show(p)"
   ]
  },
  {
   "cell_type": "code",
   "execution_count": 21,
   "id": "56215728",
   "metadata": {},
   "outputs": [
    {
     "data": {
      "text/html": [
       "<div>\n",
       "<style scoped>\n",
       "    .dataframe tbody tr th:only-of-type {\n",
       "        vertical-align: middle;\n",
       "    }\n",
       "\n",
       "    .dataframe tbody tr th {\n",
       "        vertical-align: top;\n",
       "    }\n",
       "\n",
       "    .dataframe thead th {\n",
       "        text-align: right;\n",
       "    }\n",
       "</style>\n",
       "<table border=\"1\" class=\"dataframe\">\n",
       "  <thead>\n",
       "    <tr style=\"text-align: right;\">\n",
       "      <th></th>\n",
       "      <th>timestamp</th>\n",
       "      <th>ip</th>\n",
       "      <th>model</th>\n",
       "      <th>count</th>\n",
       "      <th>queue</th>\n",
       "      <th>compute_input</th>\n",
       "      <th>compute_infer</th>\n",
       "      <th>compute_output</th>\n",
       "      <th>request</th>\n",
       "    </tr>\n",
       "  </thead>\n",
       "  <tbody>\n",
       "    <tr>\n",
       "      <th>0</th>\n",
       "      <td>1.663720e+09</td>\n",
       "      <td>localhost</td>\n",
       "      <td>snapshotter</td>\n",
       "      <td>16</td>\n",
       "      <td>1465</td>\n",
       "      <td>665</td>\n",
       "      <td>2155</td>\n",
       "      <td>641</td>\n",
       "      <td>5280</td>\n",
       "    </tr>\n",
       "    <tr>\n",
       "      <th>1</th>\n",
       "      <td>1.663720e+09</td>\n",
       "      <td>localhost</td>\n",
       "      <td>my-classifier</td>\n",
       "      <td>16</td>\n",
       "      <td>851</td>\n",
       "      <td>153</td>\n",
       "      <td>7390567</td>\n",
       "      <td>465</td>\n",
       "      <td>7392855</td>\n",
       "    </tr>\n",
       "    <tr>\n",
       "      <th>2</th>\n",
       "      <td>1.663720e+09</td>\n",
       "      <td>localhost</td>\n",
       "      <td>snapshotter</td>\n",
       "      <td>80</td>\n",
       "      <td>7423</td>\n",
       "      <td>2749</td>\n",
       "      <td>10116</td>\n",
       "      <td>3115</td>\n",
       "      <td>25100</td>\n",
       "    </tr>\n",
       "    <tr>\n",
       "      <th>3</th>\n",
       "      <td>1.663720e+09</td>\n",
       "      <td>localhost</td>\n",
       "      <td>my-classifier</td>\n",
       "      <td>79</td>\n",
       "      <td>3869</td>\n",
       "      <td>708</td>\n",
       "      <td>23365</td>\n",
       "      <td>1977</td>\n",
       "      <td>33034</td>\n",
       "    </tr>\n",
       "    <tr>\n",
       "      <th>4</th>\n",
       "      <td>1.663720e+09</td>\n",
       "      <td>localhost</td>\n",
       "      <td>snapshotter</td>\n",
       "      <td>80</td>\n",
       "      <td>7406</td>\n",
       "      <td>2956</td>\n",
       "      <td>12062</td>\n",
       "      <td>3606</td>\n",
       "      <td>27803</td>\n",
       "    </tr>\n",
       "    <tr>\n",
       "      <th>...</th>\n",
       "      <td>...</td>\n",
       "      <td>...</td>\n",
       "      <td>...</td>\n",
       "      <td>...</td>\n",
       "      <td>...</td>\n",
       "      <td>...</td>\n",
       "      <td>...</td>\n",
       "      <td>...</td>\n",
       "      <td>...</td>\n",
       "    </tr>\n",
       "    <tr>\n",
       "      <th>203</th>\n",
       "      <td>1.663720e+09</td>\n",
       "      <td>localhost</td>\n",
       "      <td>my-classifier</td>\n",
       "      <td>81</td>\n",
       "      <td>3055</td>\n",
       "      <td>1835</td>\n",
       "      <td>24571</td>\n",
       "      <td>2040</td>\n",
       "      <td>38768</td>\n",
       "    </tr>\n",
       "    <tr>\n",
       "      <th>204</th>\n",
       "      <td>1.663720e+09</td>\n",
       "      <td>localhost</td>\n",
       "      <td>snapshotter</td>\n",
       "      <td>80</td>\n",
       "      <td>7796</td>\n",
       "      <td>2809</td>\n",
       "      <td>9827</td>\n",
       "      <td>2971</td>\n",
       "      <td>25187</td>\n",
       "    </tr>\n",
       "    <tr>\n",
       "      <th>205</th>\n",
       "      <td>1.663720e+09</td>\n",
       "      <td>localhost</td>\n",
       "      <td>my-classifier</td>\n",
       "      <td>79</td>\n",
       "      <td>3247</td>\n",
       "      <td>1811</td>\n",
       "      <td>24295</td>\n",
       "      <td>1999</td>\n",
       "      <td>38322</td>\n",
       "    </tr>\n",
       "    <tr>\n",
       "      <th>206</th>\n",
       "      <td>1.663720e+09</td>\n",
       "      <td>localhost</td>\n",
       "      <td>snapshotter</td>\n",
       "      <td>79</td>\n",
       "      <td>4864</td>\n",
       "      <td>2656</td>\n",
       "      <td>8732</td>\n",
       "      <td>2267</td>\n",
       "      <td>20091</td>\n",
       "    </tr>\n",
       "    <tr>\n",
       "      <th>207</th>\n",
       "      <td>1.663720e+09</td>\n",
       "      <td>localhost</td>\n",
       "      <td>my-classifier</td>\n",
       "      <td>79</td>\n",
       "      <td>3082</td>\n",
       "      <td>1792</td>\n",
       "      <td>24607</td>\n",
       "      <td>1944</td>\n",
       "      <td>38277</td>\n",
       "    </tr>\n",
       "  </tbody>\n",
       "</table>\n",
       "<p>208 rows × 9 columns</p>\n",
       "</div>"
      ],
      "text/plain": [
       "        timestamp         ip          model  count  queue  compute_input  \\\n",
       "0    1.663720e+09  localhost    snapshotter     16   1465            665   \n",
       "1    1.663720e+09  localhost  my-classifier     16    851            153   \n",
       "2    1.663720e+09  localhost    snapshotter     80   7423           2749   \n",
       "3    1.663720e+09  localhost  my-classifier     79   3869            708   \n",
       "4    1.663720e+09  localhost    snapshotter     80   7406           2956   \n",
       "..            ...        ...            ...    ...    ...            ...   \n",
       "203  1.663720e+09  localhost  my-classifier     81   3055           1835   \n",
       "204  1.663720e+09  localhost    snapshotter     80   7796           2809   \n",
       "205  1.663720e+09  localhost  my-classifier     79   3247           1811   \n",
       "206  1.663720e+09  localhost    snapshotter     79   4864           2656   \n",
       "207  1.663720e+09  localhost  my-classifier     79   3082           1792   \n",
       "\n",
       "     compute_infer  compute_output  request  \n",
       "0             2155             641     5280  \n",
       "1          7390567             465  7392855  \n",
       "2            10116            3115    25100  \n",
       "3            23365            1977    33034  \n",
       "4            12062            3606    27803  \n",
       "..             ...             ...      ...  \n",
       "203          24571            2040    38768  \n",
       "204           9827            2971    25187  \n",
       "205          24295            1999    38322  \n",
       "206           8732            2267    20091  \n",
       "207          24607            1944    38277  \n",
       "\n",
       "[208 rows x 9 columns]"
      ]
     },
     "execution_count": 21,
     "metadata": {},
     "output_type": "execute_result"
    }
   ],
   "source": [
    "df = pd.read_csv(\"streaming_single-model_server-stats.csv\")\n",
    "df"
   ]
  },
  {
   "cell_type": "code",
   "execution_count": 22,
   "id": "01123e32",
   "metadata": {},
   "outputs": [
    {
     "data": {
      "text/html": [
       "\n",
       "  <div class=\"bk-root\" id=\"0f4c5746-2952-432f-a387-d723ab4115b1\" data-root-id=\"1493\"></div>\n"
      ]
     },
     "metadata": {},
     "output_type": "display_data"
    },
    {
     "data": {
      "application/javascript": [
       "(function(root) {\n",
       "  function embed_document(root) {\n",
       "  const docs_json = {\"772d0f73-d090-462f-b2dc-e2e373a9f310\":{\"defs\":[],\"roots\":{\"references\":[{\"attributes\":{\"below\":[{\"id\":\"1504\"}],\"center\":[{\"id\":\"1507\"},{\"id\":\"1511\"},{\"id\":\"1528\"}],\"height\":300,\"left\":[{\"id\":\"1508\"}],\"renderers\":[{\"id\":\"1517\"},{\"id\":\"1534\"}],\"title\":{\"id\":\"1494\"},\"toolbar\":{\"id\":\"1512\"},\"x_range\":{\"id\":\"1496\"},\"x_scale\":{\"id\":\"1500\"},\"y_range\":{\"id\":\"1498\"},\"y_scale\":{\"id\":\"1502\"}},\"id\":\"1493\",\"subtype\":\"Figure\",\"type\":\"Plot\"},{\"attributes\":{},\"id\":\"1509\",\"type\":\"BasicTicker\"},{\"attributes\":{},\"id\":\"1521\",\"type\":\"BasicTickFormatter\"},{\"attributes\":{\"axis_label\":\"Time from start of monitoring [s]\",\"coordinates\":null,\"formatter\":{\"id\":\"1524\"},\"group\":null,\"major_label_policy\":{\"id\":\"1525\"},\"ticker\":{\"id\":\"1505\"}},\"id\":\"1504\",\"type\":\"LinearAxis\"},{\"attributes\":{\"label\":{\"value\":\"my-classifier\"},\"renderers\":[{\"id\":\"1534\"}]},\"id\":\"1547\",\"type\":\"LegendItem\"},{\"attributes\":{},\"id\":\"1526\",\"type\":\"UnionRenderers\"},{\"attributes\":{},\"id\":\"1502\",\"type\":\"LinearScale\"},{\"attributes\":{},\"id\":\"1505\",\"type\":\"BasicTicker\"},{\"attributes\":{\"data\":{\"x\":{\"__ndarray__\":\"AAAAALgRuj8AAAAA3hjKPwAAAABVktM/AAAAAFYX2j8AAAAAeU7gPwAAAID8keM/AAAAANTT5j8AAAAAfhTqPwAAAIBWVO0/AAAAAMRK8D8AAABA6OrxPwAAAICmi/M/AAAAQNYr9T8AAABAM872PwAAAEDwb/g/AAAAgNUQ+j8AAACA0LL7PwAAAIC2VP0/AAAAAAj0/j8AAAAAD0oAQAAAAADUGgFAAAAA4C7rAUAAAAAARbsCQAAAACCPiwNAAAAAQKlbBEAAAAAgzywFQAAAAIBv/QVAAAAAIOfMBkAAAACAnpwHQAAAAMDNbAhAAAAA4Ag9CUAAAACAAg4KQAAAAOCw3gpAAAAAQEKvC0AAAAAg4H8MQAAAAABdUA1AAAAAQFEgDkAAAACgLfEOQAAAAADbwQ9AAAAAEApJEEAAAABQ67AQQAAAAPBPGRFAAAAAgEaBEUAAAAAQROkRQAAAACB5URJAAAAA8Kq5EkAAAADAXSETQAAAALAIiRNAAAAA0DvxE0AAAACQnFkUQAAAANAcwhRAAAAA4O4pFUAAAABQqZEVQAAAAECZ+RVAAAAAAKBhFkAAAABgzckWQAAAAEDgMRdAAAAAEKmZF0AAAACQeQEYQAAAABBVaRhAAAAAkE/RGEAAAACQljkZQAAAANB1oRlAAAAAgHgJGkAAAAAwVHIaQAAAAMAF2xpAAAAAAGBEG0AAAADAb60bQAAAAFAcFhxAAAAA0Bh/HEAAAACA4OccQAAAAGBPUB1AAAAA0JG4HUAAAADw1iAeQAAAAOA6iR5AAAAAEKvxHkAAAACABlofQAAAACB0wh9AAAAAeEYVIEAAAAAYRkkgQAAAACByfSBAAAAAeICxIEAAAABwr+UgQAAAAKCyGSFAAAAACK9NIUAAAABo3IEhQAAAAPADtiFAAAAAECvqIUAAAAAoHh4iQAAAALAPUiJAAAAAOP6FIkAAAABIELoiQAAAAKgJ7iJAAAAAOEUiI0AAAACIeFYjQAAAAMiuiiNAAAAAkN++I0AAAACIFPMjQAAAAAA9JyRAAAAAKF1bJEAAAADAj48kQAAAALB/wyRAAAAAGLX3JEA=\",\"dtype\":\"float64\",\"order\":\"little\",\"shape\":[103]},\"y\":{\"__ndarray__\":\"ZmZmZmYyV0DNzMzMzCRXQJqZmZmZbVhAzO9qcRMmWEAu3/It39JtQG3ZsmXLFltAgynyWTfYWEDu3Llz545VQJTXUF5D2VZAmpmZmZlFVkAzMzMzM8dXQGTPQFQ6MlhAZmZmZmYeWUBcvuVbvkVaQF4tbsL8LlhAmpmZmZn5U0AAAAAAAPRZQJqZmZmZsVdAmpmZmZkZWkAxv6vFTVhZQM3MzMzMpFpANj8sUgbeV0DtJbSX0F5ZQM3MzMzMhFpAzczMzMzwWUAzMzMzMytaQI7jOI7j+FpAGohKR/YMW0CamZmZmelZQHFWfkKc1VRAAAAAAAD4VEBEpSN7BqJVQF9CewntJVdAAAAAAACsV0Dmd7W4CXNQQBCVjuwZiFNAAAAAAAAATkAAAAAAAJRSQDMzMzMzO1NAXi1uwvxuVEBL1K5E7apYQKuqqqqqSlpA2TMQlY6sUUANPN2aHxZNQHVrflikDE1A6ciegaj0TECXb/mWb1lTQBPmd7W4iVBAl2/5lm95SEAN0iAN0qBLQJqZmZmZhVdAAAAAAACYVkAu3/It3xJUQA1EpSN7RllAsmcgKh3ZWEDNzMzMzAxaQAAAAAAAbFpAzczMzMwUV0A+A1HpyJ5fQCR7BqLSUVtA6ciegah0W0DNzMzMzAhZQHvH1MDecVhALW7C/K7WV0AzMzMzMzNZQIubML+rxVtA5DiO4zhOXEDpyJ6BqDRZQM3MzMzMjFhAeLW4CfN7WUBmZmZmZspZQM3MzMzMQFpAQhqkQRpkWEDtJbSX0B5WQHVrflikDFpA5ne1uAmzWUCamZmZmSVZQE6Y39XiJllAAAAAAAB4W0CCp1vzw2JaQGZmZmZmiltAZmZmZmZaXEAcx3Ecx7FdQMmegah0JFxAZmZmZmbWXECpdGTPQJRaQJI9A1HpSFdA7MRO7MSuVkBuwvyuFjdXQNIgDdIg7VdAFDuxEzsxWUCYIp91g2lXQDMzMzMzR1hAFikDT7emWUAAAAAAAHBaQGTPQFQ68lJAOrJnICqdUkAAAAAAAOBWQCNl4OnWPFlAAAAAAABAXEBJGXi6Nf9bQM3MzMzMXFhAkj0DUenITkA=\",\"dtype\":\"float64\",\"order\":\"little\",\"shape\":[103]}},\"selected\":{\"id\":\"1527\"},\"selection_policy\":{\"id\":\"1526\"}},\"id\":\"1513\",\"type\":\"ColumnDataSource\"},{\"attributes\":{},\"id\":\"1527\",\"type\":\"Selection\"},{\"attributes\":{\"line_color\":\"#d95f02\",\"line_width\":2.0,\"x\":{\"field\":\"x\"},\"y\":{\"field\":\"y\"}},\"id\":\"1531\",\"type\":\"Line\"},{\"attributes\":{\"coordinates\":null,\"group\":null,\"items\":[{\"id\":\"1529\"},{\"id\":\"1547\"}],\"location\":\"top_left\"},\"id\":\"1528\",\"type\":\"Legend\"},{\"attributes\":{},\"id\":\"1522\",\"type\":\"AllLabels\"},{\"attributes\":{},\"id\":\"1546\",\"type\":\"Selection\"},{\"attributes\":{\"axis\":{\"id\":\"1504\"},\"coordinates\":null,\"group\":null,\"ticker\":null},\"id\":\"1507\",\"type\":\"Grid\"},{\"attributes\":{\"line_color\":\"#1b9e77\",\"line_width\":2.0,\"x\":{\"field\":\"x\"},\"y\":{\"field\":\"y\"}},\"id\":\"1514\",\"type\":\"Line\"},{\"attributes\":{},\"id\":\"1545\",\"type\":\"UnionRenderers\"},{\"attributes\":{\"line_alpha\":0.2,\"line_color\":\"#1b9e77\",\"line_width\":2.0,\"x\":{\"field\":\"x\"},\"y\":{\"field\":\"y\"}},\"id\":\"1516\",\"type\":\"Line\"},{\"attributes\":{},\"id\":\"1525\",\"type\":\"AllLabels\"},{\"attributes\":{},\"id\":\"1496\",\"type\":\"DataRange1d\"},{\"attributes\":{\"source\":{\"id\":\"1513\"}},\"id\":\"1518\",\"type\":\"CDSView\"},{\"attributes\":{\"axis_label\":\"Average queue latency in interval [us]\",\"coordinates\":null,\"formatter\":{\"id\":\"1521\"},\"group\":null,\"major_label_policy\":{\"id\":\"1522\"},\"ticker\":{\"id\":\"1509\"}},\"id\":\"1508\",\"type\":\"LinearAxis\"},{\"attributes\":{\"coordinates\":null,\"data_source\":{\"id\":\"1513\"},\"glyph\":{\"id\":\"1514\"},\"group\":null,\"hover_glyph\":null,\"muted_glyph\":{\"id\":\"1516\"},\"nonselection_glyph\":{\"id\":\"1515\"},\"view\":{\"id\":\"1518\"}},\"id\":\"1517\",\"type\":\"GlyphRenderer\"},{\"attributes\":{},\"id\":\"1500\",\"type\":\"LinearScale\"},{\"attributes\":{\"line_alpha\":0.1,\"line_color\":\"#1b9e77\",\"line_width\":2.0,\"x\":{\"field\":\"x\"},\"y\":{\"field\":\"y\"}},\"id\":\"1515\",\"type\":\"Line\"},{\"attributes\":{},\"id\":\"1498\",\"type\":\"DataRange1d\"},{\"attributes\":{\"label\":{\"value\":\"snapshotter\"},\"renderers\":[{\"id\":\"1517\"}]},\"id\":\"1529\",\"type\":\"LegendItem\"},{\"attributes\":{\"data\":{\"x\":{\"__ndarray__\":\"AAAAALgRuj8AAAAA3hjKPwAAAABVktM/AAAAAFYX2j8AAAAAeU7gPwAAAID8keM/AAAAANTT5j8AAAAAfhTqPwAAAIBWVO0/AAAAAMRK8D8AAABA6OrxPwAAAICmi/M/AAAAQNYr9T8AAABAM872PwAAAEDwb/g/AAAAgNUQ+j8AAACA0LL7PwAAAIC2VP0/AAAAAAj0/j8AAAAAD0oAQAAAAADUGgFAAAAA4C7rAUAAAAAARbsCQAAAACCPiwNAAAAAQKlbBEAAAAAgzywFQAAAAIBv/QVAAAAAIOfMBkAAAACAnpwHQAAAAMDNbAhAAAAA4Ag9CUAAAACAAg4KQAAAAOCw3gpAAAAAQEKvC0AAAAAg4H8MQAAAAABdUA1AAAAAQFEgDkAAAACgLfEOQAAAAADbwQ9AAAAAEApJEEAAAABQ67AQQAAAAPBPGRFAAAAAgEaBEUAAAAAQROkRQAAAACB5URJAAAAA8Kq5EkAAAADAXSETQAAAALAIiRNAAAAA0DvxE0AAAACQnFkUQAAAANAcwhRAAAAA4O4pFUAAAABQqZEVQAAAAECZ+RVAAAAAAKBhFkAAAABgzckWQAAAAEDgMRdAAAAAEKmZF0AAAACQeQEYQAAAABBVaRhAAAAAkE/RGEAAAACQljkZQAAAANB1oRlAAAAAgHgJGkAAAAAwVHIaQAAAAMAF2xpAAAAAAGBEG0AAAADAb60bQAAAAFAcFhxAAAAA0Bh/HEAAAACA4OccQAAAAGBPUB1AAAAA0JG4HUAAAADw1iAeQAAAAOA6iR5AAAAAEKvxHkAAAACABlofQAAAACB0wh9AAAAAeEYVIEAAAAAYRkkgQAAAACByfSBAAAAAeICxIEAAAABwr+UgQAAAAKCyGSFAAAAACK9NIUAAAABo3IEhQAAAAPADtiFAAAAAECvqIUAAAAAoHh4iQAAAALAPUiJAAAAAOP6FIkAAAABIELoiQAAAAKgJ7iJAAAAAOEUiI0AAAACIeFYjQAAAAMiuiiNAAAAAkN++I0AAAACIFPMjQAAAAAA9JyRAAAAAKF1bJEAAAADAj48kQAAAALB/wyRAAAAAGLX3JEA=\",\"dtype\":\"float64\",\"order\":\"little\",\"shape\":[103]},\"y\":{\"__ndarray__\":\"+l0tbsJ8SEDNzMzMzNRHQGZmZmZmPkdAzczMzMysNEBH9gxEpaNVQHTnzp0790xAhQoVKlQoTEAAAAAAAABMQH5CnJWfEE9AZmZmZmZmTUDNzMzMzNxMQFeLmzC/K0VAMzMzMzNTRUBqYO+YGlhGQGZmZmZmLkRAzczMzMz0RkDNzMzMzMRMQDMzMzMzS0xAzczMzMxcTkAnzO9qcZNMQAAAAAAAiElAMzMzMzODRUDtStSuRG1GQGZmZmZmLkpAMzMzMzMLRkBmZmZmZh5OQDMzMzMzm0xAA1HpyJ6BUUAAAAAAALRQQGIndmIndkxA8GpxE+Z3TECVjuwZiEpMQD4G52Nw/k1AnDC/q8XNS0BUOrJnICpKQDMzMzMz60hA4ybM72pxSEANRKUje4ZLQJqZmZmZeUpAAAAAAACQS0ChvYT2ElpOQAAAAAAAwExAmpmZmZnhS0A2PyxSBp5MQHi6NT8s0ktAPgNR6cieRkC+5Vu+5dtHQL7lW77lG0VAvuVbvuWbRkDjJszvanFGQGZmZmZmxktAtbgJ87vaTEAUO7ETO3FEQLJnICodWUlAMzMzMzMzSkAAAAAAAFBPQAAAAAAAQE1AMzMzMzOjRkD6XS1uwnxMQLkJ87ta3EpAXi1uwvwuR0DM72pxE2ZNQHZiJ3ZiJ01Ay7d8y7d8R0BmZmZmZlZIQGZmZmZmrklAmpmZmZnRTEDNzMzMzMxKQM3MzMzMbEhAaCAqHdkzR0AAAAAAADhGQESlI3sGokNAfleLmzA/SEAT2ktoLyFKQJqZmZmZMU1AzczMzMw0TkDW4ibM72pNQM3MzMzMZEtAZmZmZmZmTUAmtJfQXsJMQF4tbsL8rklAFikDT7fmSkDNzMzMzDRLQGZmZmZmbkxArMVNmN/VTEDPQFQ6smdMQK8WN2F+V01A05E9A1FpTUB4tbgJ87tMQBQ7sRM7MUtAuHzLt3yLTUCvXr169WpOQAAAAAAA0FBA88MiZeBpSkBmZmZmZvZEQJqZmZmZKUlA6ciegah0SkAgKh3ZM5BNQEvUrkTtiklAL6G9hPaSQ0AQi5SBp9tCQBqISkf2jERAA1HpyJ6BQ0A=\",\"dtype\":\"float64\",\"order\":\"little\",\"shape\":[103]}},\"selected\":{\"id\":\"1546\"},\"selection_policy\":{\"id\":\"1545\"}},\"id\":\"1530\",\"type\":\"ColumnDataSource\"},{\"attributes\":{\"source\":{\"id\":\"1530\"}},\"id\":\"1535\",\"type\":\"CDSView\"},{\"attributes\":{\"coordinates\":null,\"group\":null,\"text\":\"Queuing latency vs. time\"},\"id\":\"1494\",\"type\":\"Title\"},{\"attributes\":{},\"id\":\"1524\",\"type\":\"BasicTickFormatter\"},{\"attributes\":{\"line_alpha\":0.1,\"line_color\":\"#d95f02\",\"line_width\":2.0,\"x\":{\"field\":\"x\"},\"y\":{\"field\":\"y\"}},\"id\":\"1532\",\"type\":\"Line\"},{\"attributes\":{\"line_alpha\":0.2,\"line_color\":\"#d95f02\",\"line_width\":2.0,\"x\":{\"field\":\"x\"},\"y\":{\"field\":\"y\"}},\"id\":\"1533\",\"type\":\"Line\"},{\"attributes\":{\"axis\":{\"id\":\"1508\"},\"coordinates\":null,\"dimension\":1,\"group\":null,\"ticker\":null},\"id\":\"1511\",\"type\":\"Grid\"},{\"attributes\":{\"coordinates\":null,\"data_source\":{\"id\":\"1530\"},\"glyph\":{\"id\":\"1531\"},\"group\":null,\"hover_glyph\":null,\"muted_glyph\":{\"id\":\"1533\"},\"nonselection_glyph\":{\"id\":\"1532\"},\"view\":{\"id\":\"1535\"}},\"id\":\"1534\",\"type\":\"GlyphRenderer\"},{\"attributes\":{},\"id\":\"1512\",\"type\":\"Toolbar\"}],\"root_ids\":[\"1493\"]},\"title\":\"Bokeh Application\",\"version\":\"2.4.3\"}};\n",
       "  const render_items = [{\"docid\":\"772d0f73-d090-462f-b2dc-e2e373a9f310\",\"root_ids\":[\"1493\"],\"roots\":{\"1493\":\"0f4c5746-2952-432f-a387-d723ab4115b1\"}}];\n",
       "  root.Bokeh.embed.embed_items_notebook(docs_json, render_items);\n",
       "  }\n",
       "  if (root.Bokeh !== undefined) {\n",
       "    embed_document(root);\n",
       "  } else {\n",
       "    let attempts = 0;\n",
       "    const timer = setInterval(function(root) {\n",
       "      if (root.Bokeh !== undefined) {\n",
       "        clearInterval(timer);\n",
       "        embed_document(root);\n",
       "      } else {\n",
       "        attempts++;\n",
       "        if (attempts > 100) {\n",
       "          clearInterval(timer);\n",
       "          console.log(\"Bokeh: ERROR: Unable to run BokehJS code because BokehJS library is missing\");\n",
       "        }\n",
       "      }\n",
       "    }, 10, root)\n",
       "  }\n",
       "})(window);"
      ],
      "application/vnd.bokehjs_exec.v0+json": ""
     },
     "metadata": {
      "application/vnd.bokehjs_exec.v0+json": {
       "id": "1493"
      }
     },
     "output_type": "display_data"
    }
   ],
   "source": [
    "p = figure(\n",
    "    title=\"Queuing latency vs. time\",\n",
    "    x_axis_label=\"Time from start of monitoring [s]\",\n",
    "    y_axis_label=\"Average queue latency in interval [us]\",\n",
    "    height=300,\n",
    "    width=600,\n",
    "    tools=\"\"\n",
    ")\n",
    "\n",
    "for model, color in zip([\"snapshotter\", \"my-classifier\"], palette):\n",
    "    subdf = df[df[\"model\"] == model]\n",
    "    time_from_start = subdf[\"timestamp\"] - df[\"timestamp\"].iloc[0]\n",
    "    queue_time = subdf[\"queue\"] / subdf[\"count\"]\n",
    "\n",
    "    p.line(\n",
    "        time_from_start.iloc[1:],\n",
    "        queue_time.iloc[1:],\n",
    "        line_width=2.0,\n",
    "        line_color=color,\n",
    "        legend_label=model\n",
    "    )\n",
    "p.legend.location = \"top_left\"\n",
    "show(p)"
   ]
  },
  {
   "cell_type": "markdown",
   "id": "83fce875",
   "metadata": {},
   "source": [
    "It looks like there's a slight upward trend to our snapshotter model's queue times, which means we may be bottlenecked by the rate at which can perform the snapshot update. This is the tradeoff we incur in exchange for reduced network I/O: we introduce a serial step in our processing pipeline which limits the amount of parallelism we can take advantage of.\n",
    "\n",
    "There are a couple different ways we can get around this, however. We can either parallelize across multiple inference streams (or take a single stream and break it up into multiple), or we can batch our updates to take advantage of parallel execution on the server. I'm going to to try the latter first, but later we'll see how `hermes` makes the former easy as well.\n",
    "\n",
    "Let's export a new ensemble and associated snapshotter model that expects batched updates, then run inference with that."
   ]
  },
  {
   "cell_type": "code",
   "execution_count": 23,
   "id": "5f0b19ef",
   "metadata": {},
   "outputs": [
    {
     "data": {
      "text/plain": [
       "'batched-streaming-classifier/1/model.empty'"
      ]
     },
     "execution_count": 23,
     "metadata": {},
     "output_type": "execute_result"
    }
   ],
   "source": [
    "batched_ensemble = repo.add(\"batched-streaming-classifier\", platform=qv.Platform.ENSEMBLE)\n",
    "\n",
    "# right now we can only handle batches small\n",
    "# enough that the update isn't longer than\n",
    "# the kernel itself, so we'll use the biggest\n",
    "# batch we can with that constraint\n",
    "batch_size = int(KERNEL_LENGTH * INFERENCE_SAMPLING_RATE)\n",
    "classifier = repo.models[\"my-classifier\"]\n",
    "batched_ensemble.add_streaming_inputs(\n",
    "    classifier.inputs[\"hoft\"],\n",
    "    stream_size=inference_stride,\n",
    "    batch_size=batch_size,\n",
    "    name=\"batched-snapshotter\"\n",
    ")\n",
    "\n",
    "# we know our first request takes ~12s, so make\n",
    "# sure that the snapshotter will maintain a state\n",
    "# for longer than this\n",
    "snapshotter = repo.models[\"batched-snapshotter\"]\n",
    "snapshotter.config.sequence_batching.max_sequence_idle_microseconds = int(25 * 10**6)\n",
    "snapshotter.config.write()\n",
    "\n",
    "# mark the output of our classifier as the output\n",
    "# of the whole ensemble and then export a \"version\"\n",
    "# of the ensemble (basically just writes its config)\n",
    "batched_ensemble.add_output(classifier.outputs[\"prob\"])\n",
    "batched_ensemble.export_version(None)"
   ]
  },
  {
   "cell_type": "code",
   "execution_count": 24,
   "id": "6a21a072",
   "metadata": {},
   "outputs": [
    {
     "name": "stdout",
     "output_type": "stream",
     "text": [
      "singularity -s instance start --nv /cvmfs/singularity.opensciencegrid.org/fastml/gwiaas.tritonserver:latest lovely_malarkey_1196\n"
     ]
    },
    {
     "data": {
      "text/html": [
       "<pre style=\"white-space:pre;overflow-x:auto;line-height:normal;font-family:Menlo,'DejaVu Sans Mono',consolas,'Courier New',monospace\"><span style=\"color: #00ff00; text-decoration-color: #00ff00; font-weight: bold\">17:28:42</span>.<span style=\"color: #008080; text-decoration-color: #008080; font-weight: bold\">042</span>    Waiting for inference service to come online<span style=\"color: #808000; text-decoration-color: #808000\">...</span>                                                    \n",
       "</pre>\n"
      ],
      "text/plain": [
       "\u001b[1;92m17:28:42\u001b[0m.\u001b[1;36m042\u001b[0m    Waiting for inference service to come online\u001b[33m...\u001b[0m                                                    \n"
      ]
     },
     "metadata": {},
     "output_type": "display_data"
    },
    {
     "data": {
      "text/html": [
       "<pre style=\"white-space:pre;overflow-x:auto;line-height:normal;font-family:Menlo,'DejaVu Sans Mono',consolas,'Courier New',monospace\"><span style=\"color: #00ff00; text-decoration-color: #00ff00; font-weight: bold\">17:29:25</span>.<span style=\"color: #008080; text-decoration-color: #008080; font-weight: bold\">604</span>    Service ready!                                                                                     \n",
       "</pre>\n"
      ],
      "text/plain": [
       "\u001b[1;92m17:29:25\u001b[0m.\u001b[1;36m604\u001b[0m    Service ready!                                                                                     \n"
      ]
     },
     "metadata": {},
     "output_type": "display_data"
    },
    {
     "data": {
      "text/html": [
       "<pre style=\"white-space:pre;overflow-x:auto;line-height:normal;font-family:Menlo,'DejaVu Sans Mono',consolas,'Courier New',monospace\"><span style=\"color: #00ff00; text-decoration-color: #00ff00; font-weight: bold\">17:29:33</span>.<span style=\"color: #008080; text-decoration-color: #008080; font-weight: bold\">728</span>    First request completed                                                                            \n",
       "</pre>\n"
      ],
      "text/plain": [
       "\u001b[1;92m17:29:33\u001b[0m.\u001b[1;36m728\u001b[0m    First request completed                                                                            \n"
      ]
     },
     "metadata": {},
     "output_type": "display_data"
    },
    {
     "data": {
      "text/html": [
       "<pre style=\"white-space:pre;overflow-x:auto;line-height:normal;font-family:Menlo,'DejaVu Sans Mono',consolas,'Courier New',monospace\"><span style=\"color: #00ff00; text-decoration-color: #00ff00; font-weight: bold\">17:29:42</span>.<span style=\"color: #008080; text-decoration-color: #008080; font-weight: bold\">140</span>    Inference complete!                                                                                \n",
       "</pre>\n"
      ],
      "text/plain": [
       "\u001b[1;92m17:29:42\u001b[0m.\u001b[1;36m140\u001b[0m    Inference complete!                                                                                \n"
      ]
     },
     "metadata": {},
     "output_type": "display_data"
    }
   ],
   "source": [
    "# make a new callback that's better equipped to\n",
    "# slice out a batch of responses\n",
    "class BatchedCallback:\n",
    "    def __init__(self, num_inferences, batch_size):\n",
    "        self.y = np.zeros((num_inferences * batch_size,))\n",
    "        self.batch_size = batch_size\n",
    "\n",
    "    def __call__(self, response, request_id, sequence_id):\n",
    "        start = request_id * self.batch_size\n",
    "        self.y[start: start + len(response)] = response[:, 0]\n",
    "        if (start + len(response) + 1) >= len(self.y):\n",
    "            return self.y\n",
    "\n",
    "\n",
    "num_kernels = inference_data_size // inference_stride\n",
    "num_inferences = num_kernels // batch_size\n",
    "callback = BatchedCallback(num_inferences, batch_size)\n",
    "with serve(\"model-repo\", gpus=[0]) as instance:\n",
    "    logger.info(\"Waiting for inference service to come online...\")\n",
    "    instance.wait()\n",
    "    logger.info(\"Service ready!\")\n",
    "\n",
    "    client = InferenceClient(\n",
    "        \"localhost:8001\",\n",
    "        model_name=\"batched-streaming-classifier\",\n",
    "        model_version=1,\n",
    "        callback=callback\n",
    "    )\n",
    "    monitor = ServerMonitor(\n",
    "        model_name=\"batched-streaming-classifier\",\n",
    "        ips=\"localhost\",\n",
    "        filename=\"batched-streaming_single-model_server-stats.csv\",\n",
    "        model_version=1,\n",
    "        name=\"monitor\"\n",
    "    )\n",
    "\n",
    "    with client, monitor:\n",
    "        for i in range(int(num_inferences)):\n",
    "            start = i * inference_stride * batch_size\n",
    "            stop = (i + 1) * inference_stride * batch_size\n",
    "            kernel = hoft[:, start: stop]\n",
    "\n",
    "            # provide some additional information to\n",
    "            # the inference server to allow us to keep\n",
    "            # track of multiple different streams\n",
    "            client.infer(\n",
    "                kernel,\n",
    "                request_id=i,\n",
    "                sequence_id=1001,\n",
    "                sequence_start=i == 0,\n",
    "                sequence_end=(i + 1) == num_inferences\n",
    "            )\n",
    "            time.sleep(batch_size / INFERENCE_SAMPLING_RATE / INFERENCE_RATE)\n",
    "\n",
    "            if not i:\n",
    "                while not callback.y[0]:\n",
    "                    time.sleep(1e-3)\n",
    "                logger.info(\"First request completed\")\n",
    "\n",
    "        while True:\n",
    "            results = client.get()\n",
    "            if results is not None:\n",
    "                logger.info(\"Inference complete!\")\n",
    "                break\n",
    "\n",
    "results = results[int(KERNEL_LENGTH * INFERENCE_SAMPLING_RATE) - 1:]\n",
    "assert (results == nonstreaming_results).all()"
   ]
  },
  {
   "cell_type": "code",
   "execution_count": 25,
   "id": "d5c9f982",
   "metadata": {},
   "outputs": [
    {
     "data": {
      "text/html": [
       "\n",
       "  <div class=\"bk-root\" id=\"5ade62e9-3573-4200-aa4a-166693457a19\" data-root-id=\"1659\"></div>\n"
      ]
     },
     "metadata": {},
     "output_type": "display_data"
    },
    {
     "data": {
      "application/javascript": [
       "(function(root) {\n",
       "  function embed_document(root) {\n",
       "  const docs_json = {\"8cb9e302-c017-4ae9-b388-8733cfde7428\":{\"defs\":[],\"roots\":{\"references\":[{\"attributes\":{\"below\":[{\"id\":\"1670\"}],\"center\":[{\"id\":\"1673\"},{\"id\":\"1677\"},{\"id\":\"1699\"}],\"extra_y_ranges\":{\"throughput\":{\"id\":\"1679\"}},\"height\":400,\"left\":[{\"id\":\"1674\"}],\"renderers\":[{\"id\":\"1685\"},{\"id\":\"1705\"},{\"id\":\"1726\"},{\"id\":\"1749\"}],\"right\":[{\"id\":\"1680\"}],\"title\":{\"id\":\"1660\"},\"toolbar\":{\"id\":\"1678\"},\"width\":750,\"x_range\":{\"id\":\"1662\"},\"x_scale\":{\"id\":\"1666\"},\"y_range\":{\"id\":\"1664\"},\"y_scale\":{\"id\":\"1668\"}},\"id\":\"1659\",\"subtype\":\"Figure\",\"type\":\"Plot\"},{\"attributes\":{},\"id\":\"1678\",\"type\":\"Toolbar\"},{\"attributes\":{},\"id\":\"1743\",\"type\":\"Selection\"},{\"attributes\":{},\"id\":\"1668\",\"type\":\"LinearScale\"},{\"attributes\":{\"axis_label\":\"Throughput [data s / s]\",\"coordinates\":null,\"formatter\":{\"id\":\"1692\"},\"group\":null,\"major_label_policy\":{\"id\":\"1693\"},\"ticker\":{\"id\":\"1691\"},\"y_range_name\":\"throughput\"},\"id\":\"1680\",\"type\":\"LinearAxis\"},{\"attributes\":{},\"id\":\"1671\",\"type\":\"BasicTicker\"},{\"attributes\":{\"end\":200},\"id\":\"1664\",\"type\":\"Range1d\"},{\"attributes\":{\"coordinates\":null,\"group\":null,\"text\":\"Queuing latency vs. time\"},\"id\":\"1660\",\"type\":\"Title\"},{\"attributes\":{},\"id\":\"1696\",\"type\":\"AllLabels\"},{\"attributes\":{},\"id\":\"1742\",\"type\":\"UnionRenderers\"},{\"attributes\":{},\"id\":\"1698\",\"type\":\"Selection\"},{\"attributes\":{\"line_alpha\":0.1,\"line_color\":\"#d95f02\",\"line_width\":2.0,\"x\":{\"field\":\"x\"},\"y\":{\"field\":\"y\"}},\"id\":\"1724\",\"type\":\"Line\"},{\"attributes\":{\"end\":300},\"id\":\"1679\",\"type\":\"Range1d\"},{\"attributes\":{\"line_alpha\":0.1,\"line_color\":\"#d95f02\",\"line_dash\":[2,2],\"line_width\":2.0,\"x\":{\"field\":\"x\"},\"y\":{\"field\":\"y\"}},\"id\":\"1747\",\"type\":\"Line\"},{\"attributes\":{\"coordinates\":null,\"data_source\":{\"id\":\"1745\"},\"glyph\":{\"id\":\"1746\"},\"group\":null,\"hover_glyph\":null,\"muted_glyph\":{\"id\":\"1748\"},\"nonselection_glyph\":{\"id\":\"1747\"},\"view\":{\"id\":\"1750\"},\"y_range_name\":\"throughput\"},\"id\":\"1749\",\"type\":\"GlyphRenderer\"},{\"attributes\":{\"source\":{\"id\":\"1681\"}},\"id\":\"1686\",\"type\":\"CDSView\"},{\"attributes\":{},\"id\":\"1695\",\"type\":\"BasicTickFormatter\"},{\"attributes\":{\"line_color\":\"#1b9e77\",\"line_dash\":[2,2],\"line_width\":2.0,\"x\":{\"field\":\"x\"},\"y\":{\"field\":\"y\"}},\"id\":\"1702\",\"type\":\"Line\"},{\"attributes\":{\"label\":{\"value\":\"batched-snapshotter queue latency\"},\"renderers\":[{\"id\":\"1685\"}]},\"id\":\"1700\",\"type\":\"LegendItem\"},{\"attributes\":{},\"id\":\"1719\",\"type\":\"UnionRenderers\"},{\"attributes\":{\"source\":{\"id\":\"1745\"}},\"id\":\"1750\",\"type\":\"CDSView\"},{\"attributes\":{\"source\":{\"id\":\"1701\"}},\"id\":\"1706\",\"type\":\"CDSView\"},{\"attributes\":{},\"id\":\"1692\",\"type\":\"BasicTickFormatter\"},{\"attributes\":{\"line_alpha\":0.2,\"line_color\":\"#d95f02\",\"line_width\":2.0,\"x\":{\"field\":\"x\"},\"y\":{\"field\":\"y\"}},\"id\":\"1725\",\"type\":\"Line\"},{\"attributes\":{},\"id\":\"1691\",\"type\":\"BasicTicker\"},{\"attributes\":{\"data\":{\"x\":{\"__ndarray__\":\"AAAAuDFbIEAAAADAmY8gQAAAAIgBxCBAAAAAWE/4IEAAAAAgxywhQAAAAEgAYSFAAAAA4GSVIUAAAACwhckhQAAAAHB4/SFAAAAAcL0xIkAAAABg02UiQAAAACghmiJAAAAAOCbOIkAAAAAgIQIjQAAAAIAnNiNAAAAAgFJqI0AAAADws54jQAAAACj60iNAAAAASPoGJEAAAADA6zokQAAAAEg9byRAAAAAoE6jJEAAAADIitckQAAAABD0CyVAAAAAGAFAJUAAAADYa3QlQAAAANDDqCVAAAAAaOrcJUAAAADYLxEmQAAAALiARSZAAAAAaNx5JkAAAABAK64mQAAAAMiE4iZAAAAAWNoWJ0AAAABYPUsnQAAAAJibfydAAAAAYNmzJ0AAAADA+OcnQAAAALBCHChAAAAAKIVQKEAAAAAI2IQoQAAAAOANuShAAAAAoEPtKEAAAADwiSEpQAAAAHDDVSlAAAAAgBiKKUAAAAAISL4pQAAAAPhn8ilAAAAAmLMmKkAAAADIEVsqQAAAAKBojypAAAAA0J7DKkAAAACwpfcqQAAAABifKytAAAAAkMlfK0AAAACw7JMrQAAAAEhYyCtAAAAAuL38K0AAAACIHDEsQAAAAAh9ZSxAAAAAEJKZLEAAAAB41M0sQAAAAIAjAi1AAAAAcEE2LUAAAAAgTmotQAAAALBzni1AAAAAELfSLUAAAACo9QYuQAAAABhZOy5AAAAAUIRvLkAAAADYxKMuQAAAAFj21y5AAAAAoCoML0AAAACgX0AvQAAAAAhgdC9AAAAAeKqoL0AAAABI5dwvQAAAACydCDBAAAAApMoiMEAAAACUyjwwQAAAAPDWVjBA\",\"dtype\":\"float64\",\"order\":\"little\",\"shape\":[81]},\"y\":{\"__ndarray__\":\"kiRJkiTJUECrqqqqqkpQQKuqqqqq6kxAVVVVVVW1UkCSJEmSJMlSQLdt27ZtG1BAVVVVVVX1UUBVVVVVVdVMQKuqqqqq6k9AVVVVVVWVTkBu27Zt27ZMQAAAAAAAgE9AVVVVVVVVS0AAAAAAAABQQAAAAAAA4FBAt23btm3bSkAAAAAAAIBPQAAAAAAAwE9AVVVVVVVVUUBVVVVVVRVQQNu2bdu2bVFAAAAAAACAUUBVVVVVVZVPQFVVVVVV1U5AVVVVVVV1UUBu27Zt2zZOQFVVVVVVVVFAAAAAAACATkCrqqqqqupQQAAAAAAAwFJAt23btm1bT0CrqqqqqipNQAAAAAAAAExAVVVVVVUVSkBVVVVVVXVQQNu2bdu2LVJAVVVVVVWVS0AAAAAAAMBVQFVVVVVV1VNAAAAAAACAUkCSJEmSJAlSQFVVVVVVFUtAVVVVVVVVT0AAAAAAAGBRQAAAAAAAAExAAAAAAABAUkCrqqqqqgpRQKuqqqqqalNAAAAAAAAASUAAAAAAAGBQQLdt27ZtW1BAAAAAAABgUUAAAAAAAMBNQAAAAAAAwFFAq6qqqqoKUEAAAAAAAMBQQAAAAAAAwE1AAAAAAAAAUkBVVVVVVVVSQG7btm3btkhAq6qqqqqqRkAAAAAAAGBQQFVVVVVVFUlAq6qqqqpqTkBu27Zt27ZOQFVVVVVV1VFAAAAAAABAR0BVVVVVVZVNQAAAAAAA4FBASZIkSZIkSkBVVVVVVRVKQAAAAAAAAEVAAAAAAABATkAAAAAAAMBPQAAAAAAAgEpAAAAAAADAS0AAAAAAAMBNQKuqqqqqKk9Aq6qqqqqqSkBJkiRJkiROQKuqqqqq6kpA\",\"dtype\":\"float64\",\"order\":\"little\",\"shape\":[81]}},\"selected\":{\"id\":\"1743\"},\"selection_policy\":{\"id\":\"1742\"}},\"id\":\"1722\",\"type\":\"ColumnDataSource\"},{\"attributes\":{\"source\":{\"id\":\"1722\"}},\"id\":\"1727\",\"type\":\"CDSView\"},{\"attributes\":{\"axis_label\":\"Time from start of monitoring [s]\",\"coordinates\":null,\"formatter\":{\"id\":\"1695\"},\"group\":null,\"major_label_policy\":{\"id\":\"1696\"},\"ticker\":{\"id\":\"1671\"}},\"id\":\"1670\",\"type\":\"LinearAxis\"},{\"attributes\":{\"coordinates\":null,\"data_source\":{\"id\":\"1722\"},\"glyph\":{\"id\":\"1723\"},\"group\":null,\"hover_glyph\":null,\"muted_glyph\":{\"id\":\"1725\"},\"nonselection_glyph\":{\"id\":\"1724\"},\"view\":{\"id\":\"1727\"}},\"id\":\"1726\",\"type\":\"GlyphRenderer\"},{\"attributes\":{\"label\":{\"value\":\"my-classifier queue latency\"},\"renderers\":[{\"id\":\"1726\"}]},\"id\":\"1744\",\"type\":\"LegendItem\"},{\"attributes\":{\"data\":{\"x\":{\"__ndarray__\":\"AAAAuDFbIEAAAADAmY8gQAAAAIgBxCBAAAAAWE/4IEAAAAAgxywhQAAAAEgAYSFAAAAA4GSVIUAAAACwhckhQAAAAHB4/SFAAAAAcL0xIkAAAABg02UiQAAAACghmiJAAAAAOCbOIkAAAAAgIQIjQAAAAIAnNiNAAAAAgFJqI0AAAADws54jQAAAACj60iNAAAAASPoGJEAAAADA6zokQAAAAEg9byRAAAAAoE6jJEAAAADIitckQAAAABD0CyVAAAAAGAFAJUAAAADYa3QlQAAAANDDqCVAAAAAaOrcJUAAAADYLxEmQAAAALiARSZAAAAAaNx5JkAAAABAK64mQAAAAMiE4iZAAAAAWNoWJ0AAAABYPUsnQAAAAJibfydAAAAAYNmzJ0AAAADA+OcnQAAAALBCHChAAAAAKIVQKEAAAAAI2IQoQAAAAOANuShAAAAAoEPtKEAAAADwiSEpQAAAAHDDVSlAAAAAgBiKKUAAAAAISL4pQAAAAPhn8ilAAAAAmLMmKkAAAADIEVsqQAAAAKBojypAAAAA0J7DKkAAAACwpfcqQAAAABifKytAAAAAkMlfK0AAAACw7JMrQAAAAEhYyCtAAAAAuL38K0AAAACIHDEsQAAAAAh9ZSxAAAAAEJKZLEAAAAB41M0sQAAAAIAjAi1AAAAAcEE2LUAAAAAgTmotQAAAALBzni1AAAAAELfSLUAAAACo9QYuQAAAABhZOy5AAAAAUIRvLkAAAADYxKMuQAAAAFj21y5AAAAAoCoML0AAAACgX0AvQAAAAAhgdC9AAAAAeKqoL0AAAABI5dwvQAAAACydCDBAAAAApMoiMEAAAACUyjwwQAAAAPDWVjBA\",\"dtype\":\"float64\",\"order\":\"little\",\"shape\":[81]},\"y\":{\"__ndarray__\":\"fEf5eH4bcUDsKtOvNU9tQIJhG3tZT21A8aDV3uZdbUDi5sBzvRNxQGxLgfI3KHFAPW/l+CFRbUC5phDAQHdtQFJnCVphkW1AUAY+XtpibUAwV7XU0TNxQOBQt1zrXW1AnMq1tPiGbUB43fWhvYxtQN8LgQE6hm1AgpjE0N8scUAvirkz5lJtQN9g9/kqYm1AOWwjcMaJbUAIpogPHJJtQK7FuKA5IHFAbXBVxAGAbUCGYj0K1GdtQL9bibyCTm1A7hVzdnOCbUBvX4VM/BdxQLm/bys0WG1AOdMciPxzbUAe5EBnm2JtQEQ2eMguXG1AIVf5MOcccUDJucCnUl1tQPLbTfNTV21AGHDTkY1ZbUB2Wp9MBlJtQO0cvdIQHHFAbRfR4elmbUDTOpDJEHhtQBRKGAEUYG1AYQjNvkZkbUA5ANUIyR9xQM85jjFia21AEpuZt29rbUAwDHB8HWJtQACIsetSaW1AZMGWyhEfcUCXWA818W5tQIxjTmC/d21A8ZOCVyFfbUCviEEWuFRtQBX7j598HnFAR97OmzBrbUBrAD5e8YVtQEheWPSXjW1AikrMccxxbUCy2Jnvdy9xQLnoJsQ3TW1ASPB8HalQbUBl0+R5XlRtQK8GRKpUG3FAkimeEut9bUA2m3i+T2RtQHd6o7U3XW1A8LmJ3uB4bUAtUe104DZxQAFLVaSRdG1AvmAARsRjbUAoURHTdGZtQJrOqp3HUW1AIOz+YM0scUAeaJa+XWVtQGozo/zUbW1AwUijnENsbUBZQ7Tp22ttQACdWDvxOnFAYAoRGcxfbUA0Kqy2lWhtQKyUS1vVWW1AcbGgMopWbUDb38NLHjtxQKBqmKzUe21A\",\"dtype\":\"float64\",\"order\":\"little\",\"shape\":[81]}},\"selected\":{\"id\":\"1768\"},\"selection_policy\":{\"id\":\"1767\"}},\"id\":\"1745\",\"type\":\"ColumnDataSource\"},{\"attributes\":{},\"id\":\"1689\",\"type\":\"BasicTickFormatter\"},{\"attributes\":{},\"id\":\"1690\",\"type\":\"AllLabels\"},{\"attributes\":{\"coordinates\":null,\"data_source\":{\"id\":\"1701\"},\"glyph\":{\"id\":\"1702\"},\"group\":null,\"hover_glyph\":null,\"muted_glyph\":{\"id\":\"1704\"},\"nonselection_glyph\":{\"id\":\"1703\"},\"view\":{\"id\":\"1706\"},\"y_range_name\":\"throughput\"},\"id\":\"1705\",\"type\":\"GlyphRenderer\"},{\"attributes\":{\"line_alpha\":0.1,\"line_color\":\"#1b9e77\",\"line_width\":2.0,\"x\":{\"field\":\"x\"},\"y\":{\"field\":\"y\"}},\"id\":\"1683\",\"type\":\"Line\"},{\"attributes\":{\"line_alpha\":0.2,\"line_color\":\"#1b9e77\",\"line_dash\":[2,2],\"line_width\":2.0,\"x\":{\"field\":\"x\"},\"y\":{\"field\":\"y\"}},\"id\":\"1704\",\"type\":\"Line\"},{\"attributes\":{\"line_color\":\"#d95f02\",\"line_dash\":[2,2],\"line_width\":2.0,\"x\":{\"field\":\"x\"},\"y\":{\"field\":\"y\"}},\"id\":\"1746\",\"type\":\"Line\"},{\"attributes\":{\"data\":{\"x\":{\"__ndarray__\":\"AAAAuDFbIEAAAADAmY8gQAAAAIgBxCBAAAAAWE/4IEAAAAAgxywhQAAAAEgAYSFAAAAA4GSVIUAAAACwhckhQAAAAHB4/SFAAAAAcL0xIkAAAABg02UiQAAAACghmiJAAAAAOCbOIkAAAAAgIQIjQAAAAIAnNiNAAAAAgFJqI0AAAADws54jQAAAACj60iNAAAAASPoGJEAAAADA6zokQAAAAEg9byRAAAAAoE6jJEAAAADIitckQAAAABD0CyVAAAAAGAFAJUAAAADYa3QlQAAAANDDqCVAAAAAaOrcJUAAAADYLxEmQAAAALiARSZAAAAAaNx5JkAAAABAK64mQAAAAMiE4iZAAAAAWNoWJ0AAAABYPUsnQAAAAJibfydAAAAAYNmzJ0AAAADA+OcnQAAAALBCHChAAAAAKIVQKEAAAAAI2IQoQAAAAOANuShAAAAAoEPtKEAAAADwiSEpQAAAAHDDVSlAAAAAgBiKKUAAAAAISL4pQAAAAPhn8ilAAAAAmLMmKkAAAADIEVsqQAAAAKBojypAAAAA0J7DKkAAAACwpfcqQAAAABifKytAAAAAkMlfK0AAAACw7JMrQAAAAEhYyCtAAAAAuL38K0AAAACIHDEsQAAAAAh9ZSxAAAAAEJKZLEAAAAB41M0sQAAAAIAjAi1AAAAAcEE2LUAAAAAgTmotQAAAALBzni1AAAAAELfSLUAAAACo9QYuQAAAABhZOy5AAAAAUIRvLkAAAADYxKMuQAAAAFj21y5AAAAAoCoML0AAAACgX0AvQAAAAAhgdC9AAAAAeKqoL0AAAABI5dwvQAAAACydCDBAAAAApMoiMEAAAACUyjwwQAAAAPDWVjBA\",\"dtype\":\"float64\",\"order\":\"little\",\"shape\":[81]},\"y\":{\"__ndarray__\":\"q6qqqqqaYUCrqqqqqkpbQKuqqqqqClJAq6qqqqoqYEAAAAAAAKBXQCVJkiRJ0ltAVVVVVVVVXEAAAAAAAKBRQAAAAAAAQFJAAAAAAADAUEC3bdu2bdtGQFVVVVVVlVNAAAAAAACgUkCrqqqqqgpUQKuqqqqqaldAJUmSJEmSTkCrqqqqqipSQAAAAAAAoFBAAAAAAADAUUAAAAAAAIBQQCVJkiRJElRAVVVVVVV1UkCrqqqqqspTQKuqqqqqKlRAVVVVVVX1UkBu27Zt2zZVQAAAAAAAoFFAAAAAAADgU0CrqqqqqipSQFVVVVVV1VJAt23btm3bUkBVVVVVVZVTQAAAAAAAIFZAVVVVVVX1UkBJkiRJkmRUQKuqqqqqSlNAVVVVVVW1UUAAAAAAAGBUQKuqqqqqqlNAq6qqqqrqU0Bu27Zt27ZSQKuqqqqqKltAq6qqqqqKXUCrqqqqqupbQKuqqqqqqlxAJUmSJElSXUBVVVVVVZVaQAAAAAAAAGBAVVVVVVWVX0CSJEmSJEldQKuqqqqqCltAq6qqqqoqW0AAAAAAAABXQKuqqqqqyl5At23btm2bWkAAAAAAAGBYQFVVVVVV9VBAAAAAAABAUUAAAAAAAOBSQCVJkiRJklZAAAAAAACgVUCrqqqqqqpPQKuqqqqqClFAVVVVVVVVTEBu27Zt27ZTQAAAAAAAwERAq6qqqqqKUkAAAAAAACBSQEmSJEmSpFJAq6qqqqoqU0CrqqqqqkpXQAAAAAAAgFFAAAAAAABgUkC3bdu2bVtUQKuqqqqqSldAq6qqqqrKXkBVVVVVVfVZQAAAAAAAAF1ASZIkSZIkXEBVVVVVVTVeQKuqqqqqilpA\",\"dtype\":\"float64\",\"order\":\"little\",\"shape\":[81]}},\"selected\":{\"id\":\"1698\"},\"selection_policy\":{\"id\":\"1697\"}},\"id\":\"1681\",\"type\":\"ColumnDataSource\"},{\"attributes\":{\"line_color\":\"#1b9e77\",\"line_width\":2.0,\"x\":{\"field\":\"x\"},\"y\":{\"field\":\"y\"}},\"id\":\"1682\",\"type\":\"Line\"},{\"attributes\":{},\"id\":\"1693\",\"type\":\"AllLabels\"},{\"attributes\":{\"label\":{\"value\":\"my-classifier throughput\"},\"renderers\":[{\"id\":\"1749\"}]},\"id\":\"1769\",\"type\":\"LegendItem\"},{\"attributes\":{\"line_alpha\":0.2,\"line_color\":\"#1b9e77\",\"line_width\":2.0,\"x\":{\"field\":\"x\"},\"y\":{\"field\":\"y\"}},\"id\":\"1684\",\"type\":\"Line\"},{\"attributes\":{\"axis\":{\"id\":\"1674\"},\"coordinates\":null,\"dimension\":1,\"group\":null,\"ticker\":null},\"id\":\"1677\",\"type\":\"Grid\"},{\"attributes\":{},\"id\":\"1720\",\"type\":\"Selection\"},{\"attributes\":{\"line_alpha\":0.2,\"line_color\":\"#d95f02\",\"line_dash\":[2,2],\"line_width\":2.0,\"x\":{\"field\":\"x\"},\"y\":{\"field\":\"y\"}},\"id\":\"1748\",\"type\":\"Line\"},{\"attributes\":{\"axis_label\":\"Average queue latency in interval [us]\",\"coordinates\":null,\"formatter\":{\"id\":\"1689\"},\"group\":null,\"major_label_policy\":{\"id\":\"1690\"},\"ticker\":{\"id\":\"1675\"}},\"id\":\"1674\",\"type\":\"LinearAxis\"},{\"attributes\":{\"data\":{\"x\":{\"__ndarray__\":\"AAAAuDFbIEAAAADAmY8gQAAAAIgBxCBAAAAAWE/4IEAAAAAgxywhQAAAAEgAYSFAAAAA4GSVIUAAAACwhckhQAAAAHB4/SFAAAAAcL0xIkAAAABg02UiQAAAACghmiJAAAAAOCbOIkAAAAAgIQIjQAAAAIAnNiNAAAAAgFJqI0AAAADws54jQAAAACj60iNAAAAASPoGJEAAAADA6zokQAAAAEg9byRAAAAAoE6jJEAAAADIitckQAAAABD0CyVAAAAAGAFAJUAAAADYa3QlQAAAANDDqCVAAAAAaOrcJUAAAADYLxEmQAAAALiARSZAAAAAaNx5JkAAAABAK64mQAAAAMiE4iZAAAAAWNoWJ0AAAABYPUsnQAAAAJibfydAAAAAYNmzJ0AAAADA+OcnQAAAALBCHChAAAAAKIVQKEAAAAAI2IQoQAAAAOANuShAAAAAoEPtKEAAAADwiSEpQAAAAHDDVSlAAAAAgBiKKUAAAAAISL4pQAAAAPhn8ilAAAAAmLMmKkAAAADIEVsqQAAAAKBojypAAAAA0J7DKkAAAACwpfcqQAAAABifKytAAAAAkMlfK0AAAACw7JMrQAAAAEhYyCtAAAAAuL38K0AAAACIHDEsQAAAAAh9ZSxAAAAAEJKZLEAAAAB41M0sQAAAAIAjAi1AAAAAcEE2LUAAAAAgTmotQAAAALBzni1AAAAAELfSLUAAAACo9QYuQAAAABhZOy5AAAAAUIRvLkAAAADYxKMuQAAAAFj21y5AAAAAoCoML0AAAACgX0AvQAAAAAhgdC9AAAAAeKqoL0AAAABI5dwvQAAAACydCDBAAAAApMoiMEAAAACUyjwwQAAAAPDWVjBA\",\"dtype\":\"float64\",\"order\":\"little\",\"shape\":[81]},\"y\":{\"__ndarray__\":\"1QwZPbRTbUDsKtOvNU9tQIJhG3tZT21A8aDV3uZdbUA7Z7hYaUZtQGxLgfI3KHFAPW/l+CFRbUC5phDAQHdtQFJnCVphkW1AUAY+XtpibUAwV7XU0TNxQOBQt1zrXW1AnMq1tPiGbUB43fWhvYxtQN8LgQE6hm1AgpjE0N8scUAvirkz5lJtQN9g9/kqYm1AOWwjcMaJbUAIpogPHJJtQK7FuKA5IHFAbXBVxAGAbUCGYj0K1GdtQL9bibyCTm1A7hVzdnOCbUBvX4VM/BdxQLm/bys0WG1AOdMciPxzbUAe5EBnm2JtQEQ2eMguXG1AIVf5MOcccUDJucCnUl1tQPLbTfNTV21AGHDTkY1ZbUAaSrKsgxpxQE2fHyCvVG1AbRfR4elmbUDTOpDJEHhtQBRKGAEUYG1AYQjNvkZkbUA5ANUIyR9xQM85jjFia21AEpuZt29rbUAwDHB8HWJtQACIsetSaW1AZMGWyhEfcUCXWA818W5tQIxjTmC/d21A8ZOCVyFfbUC7j/sMFhxxQLVA0qPVWG1AR97OmzBrbUBrAD5e8YVtQEheWPSXjW1Aeyu3lwwtcUCfvAct8nVtQLnoJsQ3TW1ASPB8HalQbUBl0+R5XlRtQK8GRKpUG3FAkimeEut9bUA2m3i+T2RtQHd6o7U3XW1A8LmJ3uB4bUAtUe104DZxQAFLVaSRdG1AvmAARsRjbUAoURHTdGZtQIX4+BtfGnFAEyf+E2BxbUAeaJa+XWVtQGozo/zUbW1AwUijnENsbUBJJ6mdlSlxQADEToqdiW1AYAoRGcxfbUA0Kqy2lWhtQKyUS1vVWW1A17zd8iUdcUBTpAbL6oltQKBqmKzUe21A\",\"dtype\":\"float64\",\"order\":\"little\",\"shape\":[81]}},\"selected\":{\"id\":\"1720\"},\"selection_policy\":{\"id\":\"1719\"}},\"id\":\"1701\",\"type\":\"ColumnDataSource\"},{\"attributes\":{},\"id\":\"1768\",\"type\":\"Selection\"},{\"attributes\":{\"coordinates\":null,\"group\":null,\"items\":[{\"id\":\"1700\"},{\"id\":\"1721\"},{\"id\":\"1744\"},{\"id\":\"1769\"}],\"location\":\"bottom\",\"orientation\":\"horizontal\"},\"id\":\"1699\",\"type\":\"Legend\"},{\"attributes\":{\"line_alpha\":0.1,\"line_color\":\"#1b9e77\",\"line_dash\":[2,2],\"line_width\":2.0,\"x\":{\"field\":\"x\"},\"y\":{\"field\":\"y\"}},\"id\":\"1703\",\"type\":\"Line\"},{\"attributes\":{\"line_color\":\"#d95f02\",\"line_width\":2.0,\"x\":{\"field\":\"x\"},\"y\":{\"field\":\"y\"}},\"id\":\"1723\",\"type\":\"Line\"},{\"attributes\":{},\"id\":\"1675\",\"type\":\"BasicTicker\"},{\"attributes\":{},\"id\":\"1666\",\"type\":\"LinearScale\"},{\"attributes\":{\"coordinates\":null,\"data_source\":{\"id\":\"1681\"},\"glyph\":{\"id\":\"1682\"},\"group\":null,\"hover_glyph\":null,\"muted_glyph\":{\"id\":\"1684\"},\"nonselection_glyph\":{\"id\":\"1683\"},\"view\":{\"id\":\"1686\"}},\"id\":\"1685\",\"type\":\"GlyphRenderer\"},{\"attributes\":{\"label\":{\"value\":\"batched-snapshotter throughput\"},\"renderers\":[{\"id\":\"1705\"}]},\"id\":\"1721\",\"type\":\"LegendItem\"},{\"attributes\":{\"axis\":{\"id\":\"1670\"},\"coordinates\":null,\"group\":null,\"ticker\":null},\"id\":\"1673\",\"type\":\"Grid\"},{\"attributes\":{},\"id\":\"1662\",\"type\":\"DataRange1d\"},{\"attributes\":{},\"id\":\"1767\",\"type\":\"UnionRenderers\"},{\"attributes\":{},\"id\":\"1697\",\"type\":\"UnionRenderers\"}],\"root_ids\":[\"1659\"]},\"title\":\"Bokeh Application\",\"version\":\"2.4.3\"}};\n",
       "  const render_items = [{\"docid\":\"8cb9e302-c017-4ae9-b388-8733cfde7428\",\"root_ids\":[\"1659\"],\"roots\":{\"1659\":\"5ade62e9-3573-4200-aa4a-166693457a19\"}}];\n",
       "  root.Bokeh.embed.embed_items_notebook(docs_json, render_items);\n",
       "  }\n",
       "  if (root.Bokeh !== undefined) {\n",
       "    embed_document(root);\n",
       "  } else {\n",
       "    let attempts = 0;\n",
       "    const timer = setInterval(function(root) {\n",
       "      if (root.Bokeh !== undefined) {\n",
       "        clearInterval(timer);\n",
       "        embed_document(root);\n",
       "      } else {\n",
       "        attempts++;\n",
       "        if (attempts > 100) {\n",
       "          clearInterval(timer);\n",
       "          console.log(\"Bokeh: ERROR: Unable to run BokehJS code because BokehJS library is missing\");\n",
       "        }\n",
       "      }\n",
       "    }, 10, root)\n",
       "  }\n",
       "})(window);"
      ],
      "application/vnd.bokehjs_exec.v0+json": ""
     },
     "metadata": {
      "application/vnd.bokehjs_exec.v0+json": {
       "id": "1659"
      }
     },
     "output_type": "display_data"
    }
   ],
   "source": [
    "from bokeh.models import LinearAxis, Range1d\n",
    "\n",
    "df = pd.read_csv(\"batched-streaming_single-model_server-stats.csv\")\n",
    "p = figure(\n",
    "    title=\"Queuing latency vs. time\",\n",
    "    x_axis_label=\"Time from start of monitoring [s]\",\n",
    "    y_axis_label=\"Average queue latency in interval [us]\",\n",
    "    height=400,\n",
    "    width=750,\n",
    "    y_range=(0, 200),\n",
    "    tools=\"\"\n",
    ")\n",
    "p.extra_y_ranges = {\"throughput\": Range1d(0, 300)}\n",
    "axis = LinearAxis(axis_label=\"Throughput [data s / s]\", y_range_name=\"throughput\")\n",
    "p.add_layout(axis, \"right\")\n",
    "\n",
    "for model, color in zip([\"batched-snapshotter\", \"my-classifier\"], palette):\n",
    "    subdf = df[df[\"model\"] == model]\n",
    "    time_from_start = subdf[\"timestamp\"] - df[\"timestamp\"].iloc[0]\n",
    "\n",
    "    queue_time = subdf[\"queue\"] / subdf[\"count\"]\n",
    "    throughput = batch_size * subdf[\"count\"] / subdf.timestamp.diff() / INFERENCE_SAMPLING_RATE\n",
    "\n",
    "    p.line(\n",
    "        time_from_start.iloc[2:],\n",
    "        queue_time.iloc[2:],\n",
    "        line_width=2.0,\n",
    "        line_color=color,\n",
    "        legend_label=model + \" queue latency\"\n",
    "    )\n",
    "    p.line(\n",
    "        time_from_start.iloc[2:],\n",
    "        throughput.iloc[2:],\n",
    "        line_width=2.0,\n",
    "        line_color=color,\n",
    "        line_dash=\"2 2\",\n",
    "        legend_label=model + \" throughput\",\n",
    "        y_range_name=\"throughput\"\n",
    "    )\n",
    "p.legend.orientation = \"horizontal\"\n",
    "p.legend.location = \"bottom\"\n",
    "show(p)"
   ]
  },
  {
   "cell_type": "code",
   "execution_count": 26,
   "id": "cab1e6d5",
   "metadata": {},
   "outputs": [
    {
     "name": "stdout",
     "output_type": "stream",
     "text": [
      "singularity -s instance start --nv /cvmfs/singularity.opensciencegrid.org/fastml/gwiaas.tritonserver:latest crunchy_peanut_butter_6737\n"
     ]
    },
    {
     "data": {
      "text/html": [
       "<pre style=\"white-space:pre;overflow-x:auto;line-height:normal;font-family:Menlo,'DejaVu Sans Mono',consolas,'Courier New',monospace\"><span style=\"color: #00ff00; text-decoration-color: #00ff00; font-weight: bold\">17:29:45</span>.<span style=\"color: #008080; text-decoration-color: #008080; font-weight: bold\">426</span>    Waiting for inference service to come online<span style=\"color: #808000; text-decoration-color: #808000\">...</span>                                                    \n",
       "</pre>\n"
      ],
      "text/plain": [
       "\u001b[1;92m17:29:45\u001b[0m.\u001b[1;36m426\u001b[0m    Waiting for inference service to come online\u001b[33m...\u001b[0m                                                    \n"
      ]
     },
     "metadata": {},
     "output_type": "display_data"
    },
    {
     "data": {
      "text/html": [
       "<pre style=\"white-space:pre;overflow-x:auto;line-height:normal;font-family:Menlo,'DejaVu Sans Mono',consolas,'Courier New',monospace\"><span style=\"color: #00ff00; text-decoration-color: #00ff00; font-weight: bold\">17:30:28</span>.<span style=\"color: #008080; text-decoration-color: #008080; font-weight: bold\">634</span>    Service ready!                                                                                     \n",
       "</pre>\n"
      ],
      "text/plain": [
       "\u001b[1;92m17:30:28\u001b[0m.\u001b[1;36m634\u001b[0m    Service ready!                                                                                     \n"
      ]
     },
     "metadata": {},
     "output_type": "display_data"
    },
    {
     "data": {
      "text/html": [
       "<pre style=\"white-space:pre;overflow-x:auto;line-height:normal;font-family:Menlo,'DejaVu Sans Mono',consolas,'Courier New',monospace\"><span style=\"color: #00ff00; text-decoration-color: #00ff00; font-weight: bold\">17:30:35</span>.<span style=\"color: #008080; text-decoration-color: #008080; font-weight: bold\">764</span>    First request completed                                                                            \n",
       "</pre>\n"
      ],
      "text/plain": [
       "\u001b[1;92m17:30:35\u001b[0m.\u001b[1;36m764\u001b[0m    First request completed                                                                            \n"
      ]
     },
     "metadata": {},
     "output_type": "display_data"
    },
    {
     "data": {
      "text/html": [
       "<pre style=\"white-space:pre;overflow-x:auto;line-height:normal;font-family:Menlo,'DejaVu Sans Mono',consolas,'Courier New',monospace\"><span style=\"color: #00ff00; text-decoration-color: #00ff00; font-weight: bold\">17:30:36</span>.<span style=\"color: #008080; text-decoration-color: #008080; font-weight: bold\">819</span>    Inference complete!                                                                                \n",
       "</pre>\n"
      ],
      "text/plain": [
       "\u001b[1;92m17:30:36\u001b[0m.\u001b[1;36m819\u001b[0m    Inference complete!                                                                                \n"
      ]
     },
     "metadata": {},
     "output_type": "display_data"
    }
   ],
   "source": [
    "INFERENCE_RATE = 2500\n",
    "callback = BatchedCallback(num_inferences, batch_size)\n",
    "with serve(\"model-repo\", gpus=[0]) as instance:\n",
    "    logger.info(\"Waiting for inference service to come online...\")\n",
    "    instance.wait()\n",
    "    logger.info(\"Service ready!\")\n",
    "\n",
    "    client = InferenceClient(\n",
    "        \"localhost:8001\",\n",
    "        model_name=\"batched-streaming-classifier\",\n",
    "        model_version=1,\n",
    "        callback=callback\n",
    "    )\n",
    "    monitor = ServerMonitor(\n",
    "        model_name=\"batched-streaming-classifier\",\n",
    "        ips=\"localhost\",\n",
    "        filename=\"batched-streaming-2500_single-model_server-stats.csv\",\n",
    "        model_version=1,\n",
    "        name=\"monitor\"\n",
    "    )\n",
    "\n",
    "    with client, monitor:\n",
    "        for i in range(int(num_inferences)):\n",
    "            start = i * inference_stride * batch_size\n",
    "            stop = (i + 1) * inference_stride * batch_size\n",
    "            kernel = hoft[:, start: stop]\n",
    "\n",
    "            # provide some additional information to\n",
    "            # the inference server to allow us to keep\n",
    "            # track of multiple different streams\n",
    "            client.infer(\n",
    "                kernel,\n",
    "                request_id=i,\n",
    "                sequence_id=1001,\n",
    "                sequence_start=i == 0,\n",
    "                sequence_end=(i + 1) == num_inferences\n",
    "            )\n",
    "            time.sleep(batch_size / INFERENCE_SAMPLING_RATE / INFERENCE_RATE)\n",
    "\n",
    "            if not i:\n",
    "                while not callback.y[0]:\n",
    "                    time.sleep(1e-3)\n",
    "                logger.info(\"First request completed\")\n",
    "\n",
    "        while True:\n",
    "            results = client.get()\n",
    "            if results is not None:\n",
    "                logger.info(\"Inference complete!\")\n",
    "                break"
   ]
  },
  {
   "cell_type": "code",
   "execution_count": 27,
   "id": "20f5de76",
   "metadata": {},
   "outputs": [
    {
     "data": {
      "text/html": [
       "\n",
       "  <div class=\"bk-root\" id=\"2426435e-7be2-4dd7-ae9b-d8291d848420\" data-root-id=\"1934\"></div>\n"
      ]
     },
     "metadata": {},
     "output_type": "display_data"
    },
    {
     "data": {
      "application/javascript": [
       "(function(root) {\n",
       "  function embed_document(root) {\n",
       "  const docs_json = {\"d0056dcc-e273-477d-82de-21ac2daac8a4\":{\"defs\":[],\"roots\":{\"references\":[{\"attributes\":{\"below\":[{\"id\":\"1945\"}],\"center\":[{\"id\":\"1948\"},{\"id\":\"1952\"},{\"id\":\"1974\"}],\"extra_y_ranges\":{\"throughput\":{\"id\":\"1954\"}},\"height\":400,\"left\":[{\"id\":\"1949\"}],\"renderers\":[{\"id\":\"1960\"},{\"id\":\"1980\"},{\"id\":\"2001\"},{\"id\":\"2024\"}],\"right\":[{\"id\":\"1955\"}],\"title\":{\"id\":\"1935\"},\"toolbar\":{\"id\":\"1953\"},\"width\":750,\"x_range\":{\"id\":\"1937\"},\"x_scale\":{\"id\":\"1941\"},\"y_range\":{\"id\":\"1939\"},\"y_scale\":{\"id\":\"1943\"}},\"id\":\"1934\",\"subtype\":\"Figure\",\"type\":\"Plot\"},{\"attributes\":{\"data\":{\"x\":{\"__ndarray__\":\"AAAAoGt2HEAAAABQJt8cQAAAAKARSB1AAAAAAMawHUAAAABQgRkeQAAAAGA2gh5AAAAAMH3qHkAAAAAAAlMfQAAAAFBJux9A\",\"dtype\":\"float64\",\"order\":\"little\",\"shape\":[9]},\"y\":{\"__ndarray__\":\"S/aCnnoqn0D6i1UkhCqfQA7Et3sSHJ9A2C/xJ2Usn0C/0HKHVCqfQDPidOc9851ApSOfOAewnkAD9xIR052eQJ01fo3hr55A\",\"dtype\":\"float64\",\"order\":\"little\",\"shape\":[9]}},\"selected\":{\"id\":\"1995\"},\"selection_policy\":{\"id\":\"1994\"}},\"id\":\"1976\",\"type\":\"ColumnDataSource\"},{\"attributes\":{},\"id\":\"1946\",\"type\":\"BasicTicker\"},{\"attributes\":{\"axis_label\":\"Throughput [data s / s]\",\"coordinates\":null,\"formatter\":{\"id\":\"1967\"},\"group\":null,\"major_label_policy\":{\"id\":\"1968\"},\"ticker\":{\"id\":\"1966\"},\"y_range_name\":\"throughput\"},\"id\":\"1955\",\"type\":\"LinearAxis\"},{\"attributes\":{},\"id\":\"1970\",\"type\":\"BasicTickFormatter\"},{\"attributes\":{\"line_color\":\"#d95f02\",\"line_dash\":[2,2],\"line_width\":2.0,\"x\":{\"field\":\"x\"},\"y\":{\"field\":\"y\"}},\"id\":\"2021\",\"type\":\"Line\"},{\"attributes\":{\"source\":{\"id\":\"1976\"}},\"id\":\"1981\",\"type\":\"CDSView\"},{\"attributes\":{\"axis_label\":\"Time from start of monitoring [s]\",\"coordinates\":null,\"formatter\":{\"id\":\"1970\"},\"group\":null,\"major_label_policy\":{\"id\":\"1971\"},\"ticker\":{\"id\":\"1946\"}},\"id\":\"1945\",\"type\":\"LinearAxis\"},{\"attributes\":{\"coordinates\":null,\"group\":null,\"items\":[{\"id\":\"1975\"},{\"id\":\"1996\"},{\"id\":\"2019\"},{\"id\":\"2044\"}]},\"id\":\"1974\",\"type\":\"Legend\"},{\"attributes\":{},\"id\":\"2017\",\"type\":\"UnionRenderers\"},{\"attributes\":{},\"id\":\"1973\",\"type\":\"Selection\"},{\"attributes\":{\"line_alpha\":0.1,\"line_color\":\"#1b9e77\",\"line_dash\":[2,2],\"line_width\":2.0,\"x\":{\"field\":\"x\"},\"y\":{\"field\":\"y\"}},\"id\":\"1978\",\"type\":\"Line\"},{\"attributes\":{\"label\":{\"value\":\"my-classifier throughput\"},\"renderers\":[{\"id\":\"2024\"}]},\"id\":\"2044\",\"type\":\"LegendItem\"},{\"attributes\":{},\"id\":\"1972\",\"type\":\"UnionRenderers\"},{\"attributes\":{\"line_alpha\":0.1,\"line_color\":\"#1b9e77\",\"line_width\":2.0,\"x\":{\"field\":\"x\"},\"y\":{\"field\":\"y\"}},\"id\":\"1958\",\"type\":\"Line\"},{\"attributes\":{},\"id\":\"1937\",\"type\":\"DataRange1d\"},{\"attributes\":{\"line_alpha\":0.1,\"line_color\":\"#d95f02\",\"line_width\":2.0,\"x\":{\"field\":\"x\"},\"y\":{\"field\":\"y\"}},\"id\":\"1999\",\"type\":\"Line\"},{\"attributes\":{},\"id\":\"1950\",\"type\":\"BasicTicker\"},{\"attributes\":{},\"id\":\"1965\",\"type\":\"AllLabels\"},{\"attributes\":{\"line_alpha\":0.1,\"line_color\":\"#d95f02\",\"line_dash\":[2,2],\"line_width\":2.0,\"x\":{\"field\":\"x\"},\"y\":{\"field\":\"y\"}},\"id\":\"2022\",\"type\":\"Line\"},{\"attributes\":{\"line_color\":\"#1b9e77\",\"line_width\":2.0,\"x\":{\"field\":\"x\"},\"y\":{\"field\":\"y\"}},\"id\":\"1957\",\"type\":\"Line\"},{\"attributes\":{},\"id\":\"1966\",\"type\":\"BasicTicker\"},{\"attributes\":{},\"id\":\"1941\",\"type\":\"LinearScale\"},{\"attributes\":{},\"id\":\"1994\",\"type\":\"UnionRenderers\"},{\"attributes\":{\"data\":{\"x\":{\"__ndarray__\":\"AAAAoGt2HEAAAABQJt8cQAAAAKARSB1AAAAAAMawHUAAAABQgRkeQAAAAGA2gh5AAAAAMH3qHkAAAAAAAlMfQAAAAFBJux9A\",\"dtype\":\"float64\",\"order\":\"little\",\"shape\":[9]},\"y\":{\"__ndarray__\":\"2NfX19eXWEBzc3Nzc/NXQAoKCgoKylBAl5aWlpaWUkDx8PDw8HBRQERjfWisj1ZA4XoUrkeBUkDsUbgehetOQK5H4XoU7klA\",\"dtype\":\"float64\",\"order\":\"little\",\"shape\":[9]}},\"selected\":{\"id\":\"1973\"},\"selection_policy\":{\"id\":\"1972\"}},\"id\":\"1956\",\"type\":\"ColumnDataSource\"},{\"attributes\":{},\"id\":\"2042\",\"type\":\"UnionRenderers\"},{\"attributes\":{\"axis_label\":\"Average queue latency in interval [us]\",\"coordinates\":null,\"formatter\":{\"id\":\"1964\"},\"group\":null,\"major_label_policy\":{\"id\":\"1965\"},\"ticker\":{\"id\":\"1950\"}},\"id\":\"1949\",\"type\":\"LinearAxis\"},{\"attributes\":{\"coordinates\":null,\"data_source\":{\"id\":\"1997\"},\"glyph\":{\"id\":\"1998\"},\"group\":null,\"hover_glyph\":null,\"muted_glyph\":{\"id\":\"2000\"},\"nonselection_glyph\":{\"id\":\"1999\"},\"view\":{\"id\":\"2002\"}},\"id\":\"2001\",\"type\":\"GlyphRenderer\"},{\"attributes\":{\"label\":{\"value\":\"batched-snapshotter queue latency\"},\"renderers\":[{\"id\":\"1960\"}]},\"id\":\"1975\",\"type\":\"LegendItem\"},{\"attributes\":{\"line_alpha\":0.2,\"line_color\":\"#1b9e77\",\"line_width\":2.0,\"x\":{\"field\":\"x\"},\"y\":{\"field\":\"y\"}},\"id\":\"1959\",\"type\":\"Line\"},{\"attributes\":{\"end\":2200,\"start\":1800},\"id\":\"1954\",\"type\":\"Range1d\"},{\"attributes\":{},\"id\":\"1971\",\"type\":\"AllLabels\"},{\"attributes\":{},\"id\":\"1943\",\"type\":\"LinearScale\"},{\"attributes\":{},\"id\":\"1995\",\"type\":\"Selection\"},{\"attributes\":{},\"id\":\"1968\",\"type\":\"AllLabels\"},{\"attributes\":{\"line_alpha\":0.2,\"line_color\":\"#1b9e77\",\"line_dash\":[2,2],\"line_width\":2.0,\"x\":{\"field\":\"x\"},\"y\":{\"field\":\"y\"}},\"id\":\"1979\",\"type\":\"Line\"},{\"attributes\":{\"line_color\":\"#1b9e77\",\"line_dash\":[2,2],\"line_width\":2.0,\"x\":{\"field\":\"x\"},\"y\":{\"field\":\"y\"}},\"id\":\"1977\",\"type\":\"Line\"},{\"attributes\":{\"coordinates\":null,\"data_source\":{\"id\":\"1976\"},\"glyph\":{\"id\":\"1977\"},\"group\":null,\"hover_glyph\":null,\"muted_glyph\":{\"id\":\"1979\"},\"nonselection_glyph\":{\"id\":\"1978\"},\"view\":{\"id\":\"1981\"},\"y_range_name\":\"throughput\"},\"id\":\"1980\",\"type\":\"GlyphRenderer\"},{\"attributes\":{\"axis\":{\"id\":\"1949\"},\"coordinates\":null,\"dimension\":1,\"group\":null,\"ticker\":null},\"id\":\"1952\",\"type\":\"Grid\"},{\"attributes\":{\"end\":400},\"id\":\"1939\",\"type\":\"Range1d\"},{\"attributes\":{\"data\":{\"x\":{\"__ndarray__\":\"AAAAUCbfHEAAAACgEUgdQAAAAADGsB1AAAAAUIEZHkAAAABgNoIeQAAAADB96h5AAAAAAAJTH0AAAABQSbsfQA==\",\"dtype\":\"float64\",\"order\":\"little\",\"shape\":[8]},\"y\":{\"__ndarray__\":\"HfMQKvXGn0AOxLd7EhyfQNgv8SdlLJ9Av9Byh1Qqn0Az4nTnPfOdQKUjnzgHsJ5A6SRgupQ6n0CdNX6N4a+eQA==\",\"dtype\":\"float64\",\"order\":\"little\",\"shape\":[8]}},\"selected\":{\"id\":\"2043\"},\"selection_policy\":{\"id\":\"2042\"}},\"id\":\"2020\",\"type\":\"ColumnDataSource\"},{\"attributes\":{},\"id\":\"1967\",\"type\":\"BasicTickFormatter\"},{\"attributes\":{},\"id\":\"2018\",\"type\":\"Selection\"},{\"attributes\":{\"coordinates\":null,\"group\":null,\"text\":\"Queuing latency vs. time\"},\"id\":\"1935\",\"type\":\"Title\"},{\"attributes\":{\"source\":{\"id\":\"2020\"}},\"id\":\"2025\",\"type\":\"CDSView\"},{\"attributes\":{\"label\":{\"value\":\"batched-snapshotter throughput\"},\"renderers\":[{\"id\":\"1980\"}]},\"id\":\"1996\",\"type\":\"LegendItem\"},{\"attributes\":{},\"id\":\"2043\",\"type\":\"Selection\"},{\"attributes\":{\"source\":{\"id\":\"1997\"}},\"id\":\"2002\",\"type\":\"CDSView\"},{\"attributes\":{\"line_color\":\"#d95f02\",\"line_width\":2.0,\"x\":{\"field\":\"x\"},\"y\":{\"field\":\"y\"}},\"id\":\"1998\",\"type\":\"Line\"},{\"attributes\":{\"axis\":{\"id\":\"1945\"},\"coordinates\":null,\"group\":null,\"ticker\":null},\"id\":\"1948\",\"type\":\"Grid\"},{\"attributes\":{\"line_alpha\":0.2,\"line_color\":\"#d95f02\",\"line_dash\":[2,2],\"line_width\":2.0,\"x\":{\"field\":\"x\"},\"y\":{\"field\":\"y\"}},\"id\":\"2023\",\"type\":\"Line\"},{\"attributes\":{},\"id\":\"1964\",\"type\":\"BasicTickFormatter\"},{\"attributes\":{\"label\":{\"value\":\"my-classifier queue latency\"},\"renderers\":[{\"id\":\"2001\"}]},\"id\":\"2019\",\"type\":\"LegendItem\"},{\"attributes\":{\"source\":{\"id\":\"1956\"}},\"id\":\"1961\",\"type\":\"CDSView\"},{\"attributes\":{\"data\":{\"x\":{\"__ndarray__\":\"AAAAUCbfHEAAAACgEUgdQAAAAADGsB1AAAAAUIEZHkAAAABgNoIeQAAAADB96h5AAAAAAAJTH0AAAABQSbsfQA==\",\"dtype\":\"float64\",\"order\":\"little\",\"shape\":[8]},\"y\":{\"__ndarray__\":\"Yid2YifWSkDJyMjIyEhHQPv6+vr6+klAc3Nzc3PzRkDbtm3btm1LQFyPwvUonEpAIyMjIyMjSUCuR+F6FG5MQA==\",\"dtype\":\"float64\",\"order\":\"little\",\"shape\":[8]}},\"selected\":{\"id\":\"2018\"},\"selection_policy\":{\"id\":\"2017\"}},\"id\":\"1997\",\"type\":\"ColumnDataSource\"},{\"attributes\":{\"coordinates\":null,\"data_source\":{\"id\":\"2020\"},\"glyph\":{\"id\":\"2021\"},\"group\":null,\"hover_glyph\":null,\"muted_glyph\":{\"id\":\"2023\"},\"nonselection_glyph\":{\"id\":\"2022\"},\"view\":{\"id\":\"2025\"},\"y_range_name\":\"throughput\"},\"id\":\"2024\",\"type\":\"GlyphRenderer\"},{\"attributes\":{\"line_alpha\":0.2,\"line_color\":\"#d95f02\",\"line_width\":2.0,\"x\":{\"field\":\"x\"},\"y\":{\"field\":\"y\"}},\"id\":\"2000\",\"type\":\"Line\"},{\"attributes\":{\"coordinates\":null,\"data_source\":{\"id\":\"1956\"},\"glyph\":{\"id\":\"1957\"},\"group\":null,\"hover_glyph\":null,\"muted_glyph\":{\"id\":\"1959\"},\"nonselection_glyph\":{\"id\":\"1958\"},\"view\":{\"id\":\"1961\"}},\"id\":\"1960\",\"type\":\"GlyphRenderer\"},{\"attributes\":{},\"id\":\"1953\",\"type\":\"Toolbar\"}],\"root_ids\":[\"1934\"]},\"title\":\"Bokeh Application\",\"version\":\"2.4.3\"}};\n",
       "  const render_items = [{\"docid\":\"d0056dcc-e273-477d-82de-21ac2daac8a4\",\"root_ids\":[\"1934\"],\"roots\":{\"1934\":\"2426435e-7be2-4dd7-ae9b-d8291d848420\"}}];\n",
       "  root.Bokeh.embed.embed_items_notebook(docs_json, render_items);\n",
       "  }\n",
       "  if (root.Bokeh !== undefined) {\n",
       "    embed_document(root);\n",
       "  } else {\n",
       "    let attempts = 0;\n",
       "    const timer = setInterval(function(root) {\n",
       "      if (root.Bokeh !== undefined) {\n",
       "        clearInterval(timer);\n",
       "        embed_document(root);\n",
       "      } else {\n",
       "        attempts++;\n",
       "        if (attempts > 100) {\n",
       "          clearInterval(timer);\n",
       "          console.log(\"Bokeh: ERROR: Unable to run BokehJS code because BokehJS library is missing\");\n",
       "        }\n",
       "      }\n",
       "    }, 10, root)\n",
       "  }\n",
       "})(window);"
      ],
      "application/vnd.bokehjs_exec.v0+json": ""
     },
     "metadata": {
      "application/vnd.bokehjs_exec.v0+json": {
       "id": "1934"
      }
     },
     "output_type": "display_data"
    }
   ],
   "source": [
    "df = pd.read_csv(\"batched-streaming-2500_single-model_server-stats.csv\")\n",
    "p = figure(\n",
    "    title=\"Queuing latency vs. time\",\n",
    "    x_axis_label=\"Time from start of monitoring [s]\",\n",
    "    y_axis_label=\"Average queue latency in interval [us]\",\n",
    "    height=400,\n",
    "    width=750,\n",
    "    y_range=(0, 400),\n",
    "    tools=\"\"\n",
    ")\n",
    "p.extra_y_ranges = {\"throughput\": Range1d(1800, 2200)}\n",
    "axis = LinearAxis(axis_label=\"Throughput [data s / s]\", y_range_name=\"throughput\")\n",
    "p.add_layout(axis, \"right\")\n",
    "\n",
    "for model, color in zip([\"batched-snapshotter\", \"my-classifier\"], palette):\n",
    "    subdf = df[df[\"model\"] == model]\n",
    "    time_from_start = subdf[\"timestamp\"] - df[\"timestamp\"].iloc[0]\n",
    "\n",
    "    queue_time = subdf[\"queue\"] / subdf[\"count\"]\n",
    "    throughput = batch_size * subdf[\"count\"] / subdf.timestamp.diff() / INFERENCE_SAMPLING_RATE\n",
    "\n",
    "    p.line(\n",
    "        time_from_start.iloc[2:],\n",
    "        queue_time.iloc[2:],\n",
    "        line_width=2.0,\n",
    "        line_color=color,\n",
    "        legend_label=model + \" queue latency\"\n",
    "    )\n",
    "    p.line(\n",
    "        time_from_start.iloc[2:],\n",
    "        throughput.iloc[2:],\n",
    "        line_width=2.0,\n",
    "        line_color=color,\n",
    "        line_dash=\"2 2\",\n",
    "        legend_label=model + \" throughput\",\n",
    "        y_range_name=\"throughput\"\n",
    "    )\n",
    "p.legend.location = \"top_right\"\n",
    "show(p)"
   ]
  },
  {
   "cell_type": "code",
   "execution_count": null,
   "id": "55d7e81d",
   "metadata": {},
   "outputs": [],
   "source": []
  }
 ],
 "metadata": {
  "kernelspec": {
   "display_name": "Python 3 (ipykernel)",
   "language": "python",
   "name": "python3"
  },
  "language_info": {
   "codemirror_mode": {
    "name": "ipython",
    "version": 3
   },
   "file_extension": ".py",
   "mimetype": "text/x-python",
   "name": "python",
   "nbconvert_exporter": "python",
   "pygments_lexer": "ipython3",
   "version": "3.9.1"
  }
 },
 "nbformat": 4,
 "nbformat_minor": 5
}
